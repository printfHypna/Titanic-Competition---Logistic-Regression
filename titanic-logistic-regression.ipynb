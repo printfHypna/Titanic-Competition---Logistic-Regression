{
 "cells": [
  {
   "cell_type": "code",
   "execution_count": 1,
   "id": "c301ed6e",
   "metadata": {
    "_cell_guid": "b1076dfc-b9ad-4769-8c92-a6c4dae69d19",
    "_uuid": "8f2839f25d086af736a60e9eeb907d3b93b6e0e5",
    "execution": {
     "iopub.execute_input": "2024-03-02T13:24:41.307955Z",
     "iopub.status.busy": "2024-03-02T13:24:41.307531Z",
     "iopub.status.idle": "2024-03-02T13:24:43.366690Z",
     "shell.execute_reply": "2024-03-02T13:24:43.365062Z"
    },
    "papermill": {
     "duration": 2.079145,
     "end_time": "2024-03-02T13:24:43.369081",
     "exception": false,
     "start_time": "2024-03-02T13:24:41.289936",
     "status": "completed"
    },
    "tags": []
   },
   "outputs": [
    {
     "name": "stdout",
     "output_type": "stream",
     "text": [
      "/kaggle/input/titanic/train.csv\n",
      "/kaggle/input/titanic/test.csv\n",
      "/kaggle/input/titanic/gender_submission.csv\n"
     ]
    }
   ],
   "source": [
    "# This Python 3 environment comes with many helpful analytics libraries installed\n",
    "# It is defined by the kaggle/python Docker image: https://github.com/kaggle/docker-python\n",
    "# For example, here's several helpful packages to load\n",
    "\n",
    "import numpy as np # linear algebra\n",
    "import pandas as pd # data processing, CSV file I/O (e.g. pd.read_csv)\n",
    "import matplotlib.pyplot as plt\n",
    "import seaborn as sns\n",
    "\n",
    "# Input data files are available in the read-only \"../input/\" directory\n",
    "# For example, running this (by clicking run or pressing Shift+Enter) will list all files under the input directory\n",
    "\n",
    "import os\n",
    "for dirname, _, filenames in os.walk('/kaggle/input'):\n",
    "    for filename in filenames:\n",
    "        print(os.path.join(dirname, filename))\n",
    "\n",
    "# You can write up to 20GB to the current directory (/kaggle/working/) that gets preserved as output when you create a version using \"Save & Run All\" \n",
    "# You can also write temporary files to /kaggle/temp/, but they won't be saved outside of the current session"
   ]
  },
  {
   "cell_type": "markdown",
   "id": "6791b6b8",
   "metadata": {
    "papermill": {
     "duration": 0.016699,
     "end_time": "2024-03-02T13:24:43.401659",
     "exception": false,
     "start_time": "2024-03-02T13:24:43.384960",
     "status": "completed"
    },
    "tags": []
   },
   "source": [
    "# Reading the CSV files"
   ]
  },
  {
   "cell_type": "code",
   "execution_count": 2,
   "id": "182084f3",
   "metadata": {
    "execution": {
     "iopub.execute_input": "2024-03-02T13:24:43.434963Z",
     "iopub.status.busy": "2024-03-02T13:24:43.434382Z",
     "iopub.status.idle": "2024-03-02T13:24:43.462457Z",
     "shell.execute_reply": "2024-03-02T13:24:43.461339Z"
    },
    "papermill": {
     "duration": 0.047802,
     "end_time": "2024-03-02T13:24:43.464972",
     "exception": false,
     "start_time": "2024-03-02T13:24:43.417170",
     "status": "completed"
    },
    "tags": []
   },
   "outputs": [],
   "source": [
    "train_data = pd.read_csv('/kaggle/input/titanic/train.csv')\n",
    "test_data = pd.read_csv('/kaggle/input/titanic/test.csv')"
   ]
  },
  {
   "cell_type": "markdown",
   "id": "bba76eda",
   "metadata": {
    "papermill": {
     "duration": 0.015374,
     "end_time": "2024-03-02T13:24:43.496325",
     "exception": false,
     "start_time": "2024-03-02T13:24:43.480951",
     "status": "completed"
    },
    "tags": []
   },
   "source": [
    "# Understanding the data"
   ]
  },
  {
   "cell_type": "code",
   "execution_count": 3,
   "id": "8ed40aeb",
   "metadata": {
    "execution": {
     "iopub.execute_input": "2024-03-02T13:24:43.529374Z",
     "iopub.status.busy": "2024-03-02T13:24:43.528946Z",
     "iopub.status.idle": "2024-03-02T13:24:43.550627Z",
     "shell.execute_reply": "2024-03-02T13:24:43.549756Z"
    },
    "papermill": {
     "duration": 0.040742,
     "end_time": "2024-03-02T13:24:43.552766",
     "exception": false,
     "start_time": "2024-03-02T13:24:43.512024",
     "status": "completed"
    },
    "tags": []
   },
   "outputs": [
    {
     "data": {
      "text/html": [
       "<div>\n",
       "<style scoped>\n",
       "    .dataframe tbody tr th:only-of-type {\n",
       "        vertical-align: middle;\n",
       "    }\n",
       "\n",
       "    .dataframe tbody tr th {\n",
       "        vertical-align: top;\n",
       "    }\n",
       "\n",
       "    .dataframe thead th {\n",
       "        text-align: right;\n",
       "    }\n",
       "</style>\n",
       "<table border=\"1\" class=\"dataframe\">\n",
       "  <thead>\n",
       "    <tr style=\"text-align: right;\">\n",
       "      <th></th>\n",
       "      <th>PassengerId</th>\n",
       "      <th>Survived</th>\n",
       "      <th>Pclass</th>\n",
       "      <th>Name</th>\n",
       "      <th>Sex</th>\n",
       "      <th>Age</th>\n",
       "      <th>SibSp</th>\n",
       "      <th>Parch</th>\n",
       "      <th>Ticket</th>\n",
       "      <th>Fare</th>\n",
       "      <th>Cabin</th>\n",
       "      <th>Embarked</th>\n",
       "    </tr>\n",
       "  </thead>\n",
       "  <tbody>\n",
       "    <tr>\n",
       "      <th>0</th>\n",
       "      <td>1</td>\n",
       "      <td>0</td>\n",
       "      <td>3</td>\n",
       "      <td>Braund, Mr. Owen Harris</td>\n",
       "      <td>male</td>\n",
       "      <td>22.0</td>\n",
       "      <td>1</td>\n",
       "      <td>0</td>\n",
       "      <td>A/5 21171</td>\n",
       "      <td>7.2500</td>\n",
       "      <td>NaN</td>\n",
       "      <td>S</td>\n",
       "    </tr>\n",
       "    <tr>\n",
       "      <th>1</th>\n",
       "      <td>2</td>\n",
       "      <td>1</td>\n",
       "      <td>1</td>\n",
       "      <td>Cumings, Mrs. John Bradley (Florence Briggs Th...</td>\n",
       "      <td>female</td>\n",
       "      <td>38.0</td>\n",
       "      <td>1</td>\n",
       "      <td>0</td>\n",
       "      <td>PC 17599</td>\n",
       "      <td>71.2833</td>\n",
       "      <td>C85</td>\n",
       "      <td>C</td>\n",
       "    </tr>\n",
       "    <tr>\n",
       "      <th>2</th>\n",
       "      <td>3</td>\n",
       "      <td>1</td>\n",
       "      <td>3</td>\n",
       "      <td>Heikkinen, Miss. Laina</td>\n",
       "      <td>female</td>\n",
       "      <td>26.0</td>\n",
       "      <td>0</td>\n",
       "      <td>0</td>\n",
       "      <td>STON/O2. 3101282</td>\n",
       "      <td>7.9250</td>\n",
       "      <td>NaN</td>\n",
       "      <td>S</td>\n",
       "    </tr>\n",
       "    <tr>\n",
       "      <th>3</th>\n",
       "      <td>4</td>\n",
       "      <td>1</td>\n",
       "      <td>1</td>\n",
       "      <td>Futrelle, Mrs. Jacques Heath (Lily May Peel)</td>\n",
       "      <td>female</td>\n",
       "      <td>35.0</td>\n",
       "      <td>1</td>\n",
       "      <td>0</td>\n",
       "      <td>113803</td>\n",
       "      <td>53.1000</td>\n",
       "      <td>C123</td>\n",
       "      <td>S</td>\n",
       "    </tr>\n",
       "    <tr>\n",
       "      <th>4</th>\n",
       "      <td>5</td>\n",
       "      <td>0</td>\n",
       "      <td>3</td>\n",
       "      <td>Allen, Mr. William Henry</td>\n",
       "      <td>male</td>\n",
       "      <td>35.0</td>\n",
       "      <td>0</td>\n",
       "      <td>0</td>\n",
       "      <td>373450</td>\n",
       "      <td>8.0500</td>\n",
       "      <td>NaN</td>\n",
       "      <td>S</td>\n",
       "    </tr>\n",
       "  </tbody>\n",
       "</table>\n",
       "</div>"
      ],
      "text/plain": [
       "   PassengerId  Survived  Pclass  \\\n",
       "0            1         0       3   \n",
       "1            2         1       1   \n",
       "2            3         1       3   \n",
       "3            4         1       1   \n",
       "4            5         0       3   \n",
       "\n",
       "                                                Name     Sex   Age  SibSp  \\\n",
       "0                            Braund, Mr. Owen Harris    male  22.0      1   \n",
       "1  Cumings, Mrs. John Bradley (Florence Briggs Th...  female  38.0      1   \n",
       "2                             Heikkinen, Miss. Laina  female  26.0      0   \n",
       "3       Futrelle, Mrs. Jacques Heath (Lily May Peel)  female  35.0      1   \n",
       "4                           Allen, Mr. William Henry    male  35.0      0   \n",
       "\n",
       "   Parch            Ticket     Fare Cabin Embarked  \n",
       "0      0         A/5 21171   7.2500   NaN        S  \n",
       "1      0          PC 17599  71.2833   C85        C  \n",
       "2      0  STON/O2. 3101282   7.9250   NaN        S  \n",
       "3      0            113803  53.1000  C123        S  \n",
       "4      0            373450   8.0500   NaN        S  "
      ]
     },
     "execution_count": 3,
     "metadata": {},
     "output_type": "execute_result"
    }
   ],
   "source": [
    "train_data.head()"
   ]
  },
  {
   "cell_type": "code",
   "execution_count": 4,
   "id": "e3299715",
   "metadata": {
    "execution": {
     "iopub.execute_input": "2024-03-02T13:24:43.587148Z",
     "iopub.status.busy": "2024-03-02T13:24:43.586307Z",
     "iopub.status.idle": "2024-03-02T13:24:43.600722Z",
     "shell.execute_reply": "2024-03-02T13:24:43.599686Z"
    },
    "papermill": {
     "duration": 0.03377,
     "end_time": "2024-03-02T13:24:43.602697",
     "exception": false,
     "start_time": "2024-03-02T13:24:43.568927",
     "status": "completed"
    },
    "tags": []
   },
   "outputs": [
    {
     "data": {
      "text/html": [
       "<div>\n",
       "<style scoped>\n",
       "    .dataframe tbody tr th:only-of-type {\n",
       "        vertical-align: middle;\n",
       "    }\n",
       "\n",
       "    .dataframe tbody tr th {\n",
       "        vertical-align: top;\n",
       "    }\n",
       "\n",
       "    .dataframe thead th {\n",
       "        text-align: right;\n",
       "    }\n",
       "</style>\n",
       "<table border=\"1\" class=\"dataframe\">\n",
       "  <thead>\n",
       "    <tr style=\"text-align: right;\">\n",
       "      <th></th>\n",
       "      <th>PassengerId</th>\n",
       "      <th>Pclass</th>\n",
       "      <th>Name</th>\n",
       "      <th>Sex</th>\n",
       "      <th>Age</th>\n",
       "      <th>SibSp</th>\n",
       "      <th>Parch</th>\n",
       "      <th>Ticket</th>\n",
       "      <th>Fare</th>\n",
       "      <th>Cabin</th>\n",
       "      <th>Embarked</th>\n",
       "    </tr>\n",
       "  </thead>\n",
       "  <tbody>\n",
       "    <tr>\n",
       "      <th>0</th>\n",
       "      <td>892</td>\n",
       "      <td>3</td>\n",
       "      <td>Kelly, Mr. James</td>\n",
       "      <td>male</td>\n",
       "      <td>34.5</td>\n",
       "      <td>0</td>\n",
       "      <td>0</td>\n",
       "      <td>330911</td>\n",
       "      <td>7.8292</td>\n",
       "      <td>NaN</td>\n",
       "      <td>Q</td>\n",
       "    </tr>\n",
       "    <tr>\n",
       "      <th>1</th>\n",
       "      <td>893</td>\n",
       "      <td>3</td>\n",
       "      <td>Wilkes, Mrs. James (Ellen Needs)</td>\n",
       "      <td>female</td>\n",
       "      <td>47.0</td>\n",
       "      <td>1</td>\n",
       "      <td>0</td>\n",
       "      <td>363272</td>\n",
       "      <td>7.0000</td>\n",
       "      <td>NaN</td>\n",
       "      <td>S</td>\n",
       "    </tr>\n",
       "    <tr>\n",
       "      <th>2</th>\n",
       "      <td>894</td>\n",
       "      <td>2</td>\n",
       "      <td>Myles, Mr. Thomas Francis</td>\n",
       "      <td>male</td>\n",
       "      <td>62.0</td>\n",
       "      <td>0</td>\n",
       "      <td>0</td>\n",
       "      <td>240276</td>\n",
       "      <td>9.6875</td>\n",
       "      <td>NaN</td>\n",
       "      <td>Q</td>\n",
       "    </tr>\n",
       "    <tr>\n",
       "      <th>3</th>\n",
       "      <td>895</td>\n",
       "      <td>3</td>\n",
       "      <td>Wirz, Mr. Albert</td>\n",
       "      <td>male</td>\n",
       "      <td>27.0</td>\n",
       "      <td>0</td>\n",
       "      <td>0</td>\n",
       "      <td>315154</td>\n",
       "      <td>8.6625</td>\n",
       "      <td>NaN</td>\n",
       "      <td>S</td>\n",
       "    </tr>\n",
       "    <tr>\n",
       "      <th>4</th>\n",
       "      <td>896</td>\n",
       "      <td>3</td>\n",
       "      <td>Hirvonen, Mrs. Alexander (Helga E Lindqvist)</td>\n",
       "      <td>female</td>\n",
       "      <td>22.0</td>\n",
       "      <td>1</td>\n",
       "      <td>1</td>\n",
       "      <td>3101298</td>\n",
       "      <td>12.2875</td>\n",
       "      <td>NaN</td>\n",
       "      <td>S</td>\n",
       "    </tr>\n",
       "  </tbody>\n",
       "</table>\n",
       "</div>"
      ],
      "text/plain": [
       "   PassengerId  Pclass                                          Name     Sex  \\\n",
       "0          892       3                              Kelly, Mr. James    male   \n",
       "1          893       3              Wilkes, Mrs. James (Ellen Needs)  female   \n",
       "2          894       2                     Myles, Mr. Thomas Francis    male   \n",
       "3          895       3                              Wirz, Mr. Albert    male   \n",
       "4          896       3  Hirvonen, Mrs. Alexander (Helga E Lindqvist)  female   \n",
       "\n",
       "    Age  SibSp  Parch   Ticket     Fare Cabin Embarked  \n",
       "0  34.5      0      0   330911   7.8292   NaN        Q  \n",
       "1  47.0      1      0   363272   7.0000   NaN        S  \n",
       "2  62.0      0      0   240276   9.6875   NaN        Q  \n",
       "3  27.0      0      0   315154   8.6625   NaN        S  \n",
       "4  22.0      1      1  3101298  12.2875   NaN        S  "
      ]
     },
     "execution_count": 4,
     "metadata": {},
     "output_type": "execute_result"
    }
   ],
   "source": [
    "test_data.head()"
   ]
  },
  {
   "cell_type": "code",
   "execution_count": 5,
   "id": "777db071",
   "metadata": {
    "execution": {
     "iopub.execute_input": "2024-03-02T13:24:43.636981Z",
     "iopub.status.busy": "2024-03-02T13:24:43.636316Z",
     "iopub.status.idle": "2024-03-02T13:24:43.661503Z",
     "shell.execute_reply": "2024-03-02T13:24:43.660218Z"
    },
    "papermill": {
     "duration": 0.045069,
     "end_time": "2024-03-02T13:24:43.663868",
     "exception": false,
     "start_time": "2024-03-02T13:24:43.618799",
     "status": "completed"
    },
    "tags": []
   },
   "outputs": [
    {
     "name": "stdout",
     "output_type": "stream",
     "text": [
      "<class 'pandas.core.frame.DataFrame'>\n",
      "RangeIndex: 891 entries, 0 to 890\n",
      "Data columns (total 12 columns):\n",
      " #   Column       Non-Null Count  Dtype  \n",
      "---  ------       --------------  -----  \n",
      " 0   PassengerId  891 non-null    int64  \n",
      " 1   Survived     891 non-null    int64  \n",
      " 2   Pclass       891 non-null    int64  \n",
      " 3   Name         891 non-null    object \n",
      " 4   Sex          891 non-null    object \n",
      " 5   Age          714 non-null    float64\n",
      " 6   SibSp        891 non-null    int64  \n",
      " 7   Parch        891 non-null    int64  \n",
      " 8   Ticket       891 non-null    object \n",
      " 9   Fare         891 non-null    float64\n",
      " 10  Cabin        204 non-null    object \n",
      " 11  Embarked     889 non-null    object \n",
      "dtypes: float64(2), int64(5), object(5)\n",
      "memory usage: 83.7+ KB\n"
     ]
    }
   ],
   "source": [
    "train_data.info()"
   ]
  },
  {
   "cell_type": "code",
   "execution_count": 6,
   "id": "71df010f",
   "metadata": {
    "execution": {
     "iopub.execute_input": "2024-03-02T13:24:43.698037Z",
     "iopub.status.busy": "2024-03-02T13:24:43.697621Z",
     "iopub.status.idle": "2024-03-02T13:24:43.726275Z",
     "shell.execute_reply": "2024-03-02T13:24:43.725121Z"
    },
    "papermill": {
     "duration": 0.048387,
     "end_time": "2024-03-02T13:24:43.728421",
     "exception": false,
     "start_time": "2024-03-02T13:24:43.680034",
     "status": "completed"
    },
    "tags": []
   },
   "outputs": [
    {
     "data": {
      "text/html": [
       "<div>\n",
       "<style scoped>\n",
       "    .dataframe tbody tr th:only-of-type {\n",
       "        vertical-align: middle;\n",
       "    }\n",
       "\n",
       "    .dataframe tbody tr th {\n",
       "        vertical-align: top;\n",
       "    }\n",
       "\n",
       "    .dataframe thead th {\n",
       "        text-align: right;\n",
       "    }\n",
       "</style>\n",
       "<table border=\"1\" class=\"dataframe\">\n",
       "  <thead>\n",
       "    <tr style=\"text-align: right;\">\n",
       "      <th></th>\n",
       "      <th>PassengerId</th>\n",
       "      <th>Survived</th>\n",
       "      <th>Pclass</th>\n",
       "      <th>Age</th>\n",
       "      <th>SibSp</th>\n",
       "      <th>Parch</th>\n",
       "      <th>Fare</th>\n",
       "    </tr>\n",
       "  </thead>\n",
       "  <tbody>\n",
       "    <tr>\n",
       "      <th>count</th>\n",
       "      <td>891.000000</td>\n",
       "      <td>891.000000</td>\n",
       "      <td>891.000000</td>\n",
       "      <td>714.000000</td>\n",
       "      <td>891.000000</td>\n",
       "      <td>891.000000</td>\n",
       "      <td>891.000000</td>\n",
       "    </tr>\n",
       "    <tr>\n",
       "      <th>mean</th>\n",
       "      <td>446.000000</td>\n",
       "      <td>0.383838</td>\n",
       "      <td>2.308642</td>\n",
       "      <td>29.699118</td>\n",
       "      <td>0.523008</td>\n",
       "      <td>0.381594</td>\n",
       "      <td>32.204208</td>\n",
       "    </tr>\n",
       "    <tr>\n",
       "      <th>std</th>\n",
       "      <td>257.353842</td>\n",
       "      <td>0.486592</td>\n",
       "      <td>0.836071</td>\n",
       "      <td>14.526497</td>\n",
       "      <td>1.102743</td>\n",
       "      <td>0.806057</td>\n",
       "      <td>49.693429</td>\n",
       "    </tr>\n",
       "    <tr>\n",
       "      <th>min</th>\n",
       "      <td>1.000000</td>\n",
       "      <td>0.000000</td>\n",
       "      <td>1.000000</td>\n",
       "      <td>0.420000</td>\n",
       "      <td>0.000000</td>\n",
       "      <td>0.000000</td>\n",
       "      <td>0.000000</td>\n",
       "    </tr>\n",
       "    <tr>\n",
       "      <th>25%</th>\n",
       "      <td>223.500000</td>\n",
       "      <td>0.000000</td>\n",
       "      <td>2.000000</td>\n",
       "      <td>20.125000</td>\n",
       "      <td>0.000000</td>\n",
       "      <td>0.000000</td>\n",
       "      <td>7.910400</td>\n",
       "    </tr>\n",
       "    <tr>\n",
       "      <th>50%</th>\n",
       "      <td>446.000000</td>\n",
       "      <td>0.000000</td>\n",
       "      <td>3.000000</td>\n",
       "      <td>28.000000</td>\n",
       "      <td>0.000000</td>\n",
       "      <td>0.000000</td>\n",
       "      <td>14.454200</td>\n",
       "    </tr>\n",
       "    <tr>\n",
       "      <th>75%</th>\n",
       "      <td>668.500000</td>\n",
       "      <td>1.000000</td>\n",
       "      <td>3.000000</td>\n",
       "      <td>38.000000</td>\n",
       "      <td>1.000000</td>\n",
       "      <td>0.000000</td>\n",
       "      <td>31.000000</td>\n",
       "    </tr>\n",
       "    <tr>\n",
       "      <th>max</th>\n",
       "      <td>891.000000</td>\n",
       "      <td>1.000000</td>\n",
       "      <td>3.000000</td>\n",
       "      <td>80.000000</td>\n",
       "      <td>8.000000</td>\n",
       "      <td>6.000000</td>\n",
       "      <td>512.329200</td>\n",
       "    </tr>\n",
       "  </tbody>\n",
       "</table>\n",
       "</div>"
      ],
      "text/plain": [
       "       PassengerId    Survived      Pclass         Age       SibSp  \\\n",
       "count   891.000000  891.000000  891.000000  714.000000  891.000000   \n",
       "mean    446.000000    0.383838    2.308642   29.699118    0.523008   \n",
       "std     257.353842    0.486592    0.836071   14.526497    1.102743   \n",
       "min       1.000000    0.000000    1.000000    0.420000    0.000000   \n",
       "25%     223.500000    0.000000    2.000000   20.125000    0.000000   \n",
       "50%     446.000000    0.000000    3.000000   28.000000    0.000000   \n",
       "75%     668.500000    1.000000    3.000000   38.000000    1.000000   \n",
       "max     891.000000    1.000000    3.000000   80.000000    8.000000   \n",
       "\n",
       "            Parch        Fare  \n",
       "count  891.000000  891.000000  \n",
       "mean     0.381594   32.204208  \n",
       "std      0.806057   49.693429  \n",
       "min      0.000000    0.000000  \n",
       "25%      0.000000    7.910400  \n",
       "50%      0.000000   14.454200  \n",
       "75%      0.000000   31.000000  \n",
       "max      6.000000  512.329200  "
      ]
     },
     "execution_count": 6,
     "metadata": {},
     "output_type": "execute_result"
    }
   ],
   "source": [
    "train_data.describe()"
   ]
  },
  {
   "cell_type": "code",
   "execution_count": 7,
   "id": "5c67ded6",
   "metadata": {
    "execution": {
     "iopub.execute_input": "2024-03-02T13:24:43.763552Z",
     "iopub.status.busy": "2024-03-02T13:24:43.762552Z",
     "iopub.status.idle": "2024-03-02T13:24:43.771224Z",
     "shell.execute_reply": "2024-03-02T13:24:43.770204Z"
    },
    "papermill": {
     "duration": 0.028559,
     "end_time": "2024-03-02T13:24:43.773500",
     "exception": false,
     "start_time": "2024-03-02T13:24:43.744941",
     "status": "completed"
    },
    "tags": []
   },
   "outputs": [
    {
     "data": {
      "text/plain": [
       "PassengerId      0\n",
       "Survived         0\n",
       "Pclass           0\n",
       "Name             0\n",
       "Sex              0\n",
       "Age            177\n",
       "SibSp            0\n",
       "Parch            0\n",
       "Ticket           0\n",
       "Fare             0\n",
       "Cabin          687\n",
       "Embarked         2\n",
       "dtype: int64"
      ]
     },
     "execution_count": 7,
     "metadata": {},
     "output_type": "execute_result"
    }
   ],
   "source": [
    "train_data.isnull().sum()"
   ]
  },
  {
   "cell_type": "code",
   "execution_count": 8,
   "id": "0645e8ca",
   "metadata": {
    "execution": {
     "iopub.execute_input": "2024-03-02T13:24:43.808090Z",
     "iopub.status.busy": "2024-03-02T13:24:43.807733Z",
     "iopub.status.idle": "2024-03-02T13:24:43.816139Z",
     "shell.execute_reply": "2024-03-02T13:24:43.815029Z"
    },
    "papermill": {
     "duration": 0.028085,
     "end_time": "2024-03-02T13:24:43.818104",
     "exception": false,
     "start_time": "2024-03-02T13:24:43.790019",
     "status": "completed"
    },
    "tags": []
   },
   "outputs": [
    {
     "data": {
      "text/plain": [
       "PassengerId      0\n",
       "Pclass           0\n",
       "Name             0\n",
       "Sex              0\n",
       "Age             86\n",
       "SibSp            0\n",
       "Parch            0\n",
       "Ticket           0\n",
       "Fare             1\n",
       "Cabin          327\n",
       "Embarked         0\n",
       "dtype: int64"
      ]
     },
     "execution_count": 8,
     "metadata": {},
     "output_type": "execute_result"
    }
   ],
   "source": [
    "test_data.isnull().sum()"
   ]
  },
  {
   "cell_type": "code",
   "execution_count": 9,
   "id": "5f32a51a",
   "metadata": {
    "execution": {
     "iopub.execute_input": "2024-03-02T13:24:43.853505Z",
     "iopub.status.busy": "2024-03-02T13:24:43.852530Z",
     "iopub.status.idle": "2024-03-02T13:24:44.361557Z",
     "shell.execute_reply": "2024-03-02T13:24:44.360427Z"
    },
    "papermill": {
     "duration": 0.529012,
     "end_time": "2024-03-02T13:24:44.363695",
     "exception": false,
     "start_time": "2024-03-02T13:24:43.834683",
     "status": "completed"
    },
    "tags": []
   },
   "outputs": [
    {
     "data": {
      "text/plain": [
       "<Axes: xlabel='SibSp'>"
      ]
     },
     "execution_count": 9,
     "metadata": {},
     "output_type": "execute_result"
    },
    {
     "data": {
      "image/png": "[encoded data removed]",
      "text/plain": [
       "<Figure size 1600x600 with 3 Axes>"
      ]
     },
     "metadata": {},
     "output_type": "display_data"
    }
   ],
   "source": [
    "fig, axs = plt.subplots(ncols=3, figsize=(16,6))\n",
    "sns.boxplot(data=train_data, x='Pclass', ax=axs[0])\n",
    "sns.boxplot(data=train_data, x='Age', ax=axs[1])\n",
    "sns.boxplot(data=train_data, x='SibSp', ax=axs[2])"
   ]
  },
  {
   "cell_type": "code",
   "execution_count": 10,
   "id": "723c979c",
   "metadata": {
    "execution": {
     "iopub.execute_input": "2024-03-02T13:24:44.399538Z",
     "iopub.status.busy": "2024-03-02T13:24:44.399114Z",
     "iopub.status.idle": "2024-03-02T13:24:44.725203Z",
     "shell.execute_reply": "2024-03-02T13:24:44.724337Z"
    },
    "papermill": {
     "duration": 0.346728,
     "end_time": "2024-03-02T13:24:44.727564",
     "exception": false,
     "start_time": "2024-03-02T13:24:44.380836",
     "status": "completed"
    },
    "tags": []
   },
   "outputs": [
    {
     "data": {
      "text/plain": [
       "<Axes: xlabel='Fare'>"
      ]
     },
     "execution_count": 10,
     "metadata": {},
     "output_type": "execute_result"
    },
    {
     "data": {
      "image/png": "[encoded data removed]",
      "text/plain": [
       "<Figure size 1600x600 with 2 Axes>"
      ]
     },
     "metadata": {},
     "output_type": "display_data"
    }
   ],
   "source": [
    "fig, axs = plt.subplots(ncols=2, figsize=(16,6))\n",
    "sns.boxplot(data=train_data, x='Parch', ax=axs[0])\n",
    "sns.boxplot(data=train_data, x='Fare', ax=axs[1])"
   ]
  },
  {
   "cell_type": "markdown",
   "id": "03788e1a",
   "metadata": {
    "papermill": {
     "duration": 0.016974,
     "end_time": "2024-03-02T13:24:44.761954",
     "exception": false,
     "start_time": "2024-03-02T13:24:44.744980",
     "status": "completed"
    },
    "tags": []
   },
   "source": [
    "# Handling missing values"
   ]
  },
  {
   "cell_type": "code",
   "execution_count": 11,
   "id": "5d45acaa",
   "metadata": {
    "execution": {
     "iopub.execute_input": "2024-03-02T13:24:44.798545Z",
     "iopub.status.busy": "2024-03-02T13:24:44.798130Z",
     "iopub.status.idle": "2024-03-02T13:24:44.807808Z",
     "shell.execute_reply": "2024-03-02T13:24:44.806685Z"
    },
    "papermill": {
     "duration": 0.030726,
     "end_time": "2024-03-02T13:24:44.809963",
     "exception": false,
     "start_time": "2024-03-02T13:24:44.779237",
     "status": "completed"
    },
    "tags": []
   },
   "outputs": [],
   "source": [
    "test_passenger_id = test_data['PassengerId']\n",
    "train_data = train_data.drop(['Parch', 'Cabin', 'Name', 'Ticket', 'PassengerId'], axis=1)\n",
    "test_data = test_data.drop(['Parch', 'Cabin', 'Name', 'Ticket', 'PassengerId'], axis=1)"
   ]
  },
  {
   "cell_type": "code",
   "execution_count": 12,
   "id": "220fa675",
   "metadata": {
    "execution": {
     "iopub.execute_input": "2024-03-02T13:24:44.847328Z",
     "iopub.status.busy": "2024-03-02T13:24:44.846675Z",
     "iopub.status.idle": "2024-03-02T13:24:44.858617Z",
     "shell.execute_reply": "2024-03-02T13:24:44.857796Z"
    },
    "papermill": {
     "duration": 0.033091,
     "end_time": "2024-03-02T13:24:44.860790",
     "exception": false,
     "start_time": "2024-03-02T13:24:44.827699",
     "status": "completed"
    },
    "tags": []
   },
   "outputs": [
    {
     "data": {
      "text/html": [
       "<div>\n",
       "<style scoped>\n",
       "    .dataframe tbody tr th:only-of-type {\n",
       "        vertical-align: middle;\n",
       "    }\n",
       "\n",
       "    .dataframe tbody tr th {\n",
       "        vertical-align: top;\n",
       "    }\n",
       "\n",
       "    .dataframe thead th {\n",
       "        text-align: right;\n",
       "    }\n",
       "</style>\n",
       "<table border=\"1\" class=\"dataframe\">\n",
       "  <thead>\n",
       "    <tr style=\"text-align: right;\">\n",
       "      <th></th>\n",
       "      <th>Survived</th>\n",
       "      <th>Pclass</th>\n",
       "      <th>Sex</th>\n",
       "      <th>Age</th>\n",
       "      <th>SibSp</th>\n",
       "      <th>Fare</th>\n",
       "      <th>Embarked</th>\n",
       "    </tr>\n",
       "  </thead>\n",
       "  <tbody>\n",
       "    <tr>\n",
       "      <th>0</th>\n",
       "      <td>0</td>\n",
       "      <td>3</td>\n",
       "      <td>male</td>\n",
       "      <td>22.0</td>\n",
       "      <td>1</td>\n",
       "      <td>7.2500</td>\n",
       "      <td>S</td>\n",
       "    </tr>\n",
       "    <tr>\n",
       "      <th>1</th>\n",
       "      <td>1</td>\n",
       "      <td>1</td>\n",
       "      <td>female</td>\n",
       "      <td>38.0</td>\n",
       "      <td>1</td>\n",
       "      <td>71.2833</td>\n",
       "      <td>C</td>\n",
       "    </tr>\n",
       "    <tr>\n",
       "      <th>2</th>\n",
       "      <td>1</td>\n",
       "      <td>3</td>\n",
       "      <td>female</td>\n",
       "      <td>26.0</td>\n",
       "      <td>0</td>\n",
       "      <td>7.9250</td>\n",
       "      <td>S</td>\n",
       "    </tr>\n",
       "    <tr>\n",
       "      <th>3</th>\n",
       "      <td>1</td>\n",
       "      <td>1</td>\n",
       "      <td>female</td>\n",
       "      <td>35.0</td>\n",
       "      <td>1</td>\n",
       "      <td>53.1000</td>\n",
       "      <td>S</td>\n",
       "    </tr>\n",
       "    <tr>\n",
       "      <th>4</th>\n",
       "      <td>0</td>\n",
       "      <td>3</td>\n",
       "      <td>male</td>\n",
       "      <td>35.0</td>\n",
       "      <td>0</td>\n",
       "      <td>8.0500</td>\n",
       "      <td>S</td>\n",
       "    </tr>\n",
       "  </tbody>\n",
       "</table>\n",
       "</div>"
      ],
      "text/plain": [
       "   Survived  Pclass     Sex   Age  SibSp     Fare Embarked\n",
       "0         0       3    male  22.0      1   7.2500        S\n",
       "1         1       1  female  38.0      1  71.2833        C\n",
       "2         1       3  female  26.0      0   7.9250        S\n",
       "3         1       1  female  35.0      1  53.1000        S\n",
       "4         0       3    male  35.0      0   8.0500        S"
      ]
     },
     "execution_count": 12,
     "metadata": {},
     "output_type": "execute_result"
    }
   ],
   "source": [
    "train_data.head()"
   ]
  },
  {
   "cell_type": "code",
   "execution_count": 13,
   "id": "3761a8a7",
   "metadata": {
    "execution": {
     "iopub.execute_input": "2024-03-02T13:24:44.898020Z",
     "iopub.status.busy": "2024-03-02T13:24:44.897286Z",
     "iopub.status.idle": "2024-03-02T13:24:44.903385Z",
     "shell.execute_reply": "2024-03-02T13:24:44.902402Z"
    },
    "papermill": {
     "duration": 0.027072,
     "end_time": "2024-03-02T13:24:44.905475",
     "exception": false,
     "start_time": "2024-03-02T13:24:44.878403",
     "status": "completed"
    },
    "tags": []
   },
   "outputs": [
    {
     "data": {
      "text/plain": [
       "(891, 7)"
      ]
     },
     "execution_count": 13,
     "metadata": {},
     "output_type": "execute_result"
    }
   ],
   "source": [
    "train_data.shape"
   ]
  },
  {
   "cell_type": "code",
   "execution_count": 14,
   "id": "af19844b",
   "metadata": {
    "execution": {
     "iopub.execute_input": "2024-03-02T13:24:44.942491Z",
     "iopub.status.busy": "2024-03-02T13:24:44.942050Z",
     "iopub.status.idle": "2024-03-02T13:24:44.948294Z",
     "shell.execute_reply": "2024-03-02T13:24:44.947289Z"
    },
    "papermill": {
     "duration": 0.027144,
     "end_time": "2024-03-02T13:24:44.950254",
     "exception": false,
     "start_time": "2024-03-02T13:24:44.923110",
     "status": "completed"
    },
    "tags": []
   },
   "outputs": [
    {
     "data": {
      "text/plain": [
       "(418, 6)"
      ]
     },
     "execution_count": 14,
     "metadata": {},
     "output_type": "execute_result"
    }
   ],
   "source": [
    "test_data.shape"
   ]
  },
  {
   "cell_type": "code",
   "execution_count": 15,
   "id": "7992da50",
   "metadata": {
    "execution": {
     "iopub.execute_input": "2024-03-02T13:24:44.988590Z",
     "iopub.status.busy": "2024-03-02T13:24:44.988197Z",
     "iopub.status.idle": "2024-03-02T13:24:44.996739Z",
     "shell.execute_reply": "2024-03-02T13:24:44.995663Z"
    },
    "papermill": {
     "duration": 0.030699,
     "end_time": "2024-03-02T13:24:44.998942",
     "exception": false,
     "start_time": "2024-03-02T13:24:44.968243",
     "status": "completed"
    },
    "tags": []
   },
   "outputs": [
    {
     "data": {
      "text/plain": [
       "count     889\n",
       "unique      3\n",
       "top         S\n",
       "freq      644\n",
       "Name: Embarked, dtype: object"
      ]
     },
     "execution_count": 15,
     "metadata": {},
     "output_type": "execute_result"
    }
   ],
   "source": [
    "train_data['Embarked'].describe()"
   ]
  },
  {
   "cell_type": "code",
   "execution_count": 16,
   "id": "9eb88dd1",
   "metadata": {
    "execution": {
     "iopub.execute_input": "2024-03-02T13:24:45.095871Z",
     "iopub.status.busy": "2024-03-02T13:24:45.095470Z",
     "iopub.status.idle": "2024-03-02T13:24:45.103565Z",
     "shell.execute_reply": "2024-03-02T13:24:45.102577Z"
    },
    "papermill": {
     "duration": 0.088154,
     "end_time": "2024-03-02T13:24:45.105817",
     "exception": false,
     "start_time": "2024-03-02T13:24:45.017663",
     "status": "completed"
    },
    "tags": []
   },
   "outputs": [
    {
     "data": {
      "text/plain": [
       "Survived      0\n",
       "Pclass        0\n",
       "Sex           0\n",
       "Age         177\n",
       "SibSp         0\n",
       "Fare          0\n",
       "Embarked      2\n",
       "dtype: int64"
      ]
     },
     "execution_count": 16,
     "metadata": {},
     "output_type": "execute_result"
    }
   ],
   "source": [
    "train_data.isnull().sum()"
   ]
  },
  {
   "cell_type": "code",
   "execution_count": 17,
   "id": "c8209b39",
   "metadata": {
    "execution": {
     "iopub.execute_input": "2024-03-02T13:24:45.144994Z",
     "iopub.status.busy": "2024-03-02T13:24:45.143975Z",
     "iopub.status.idle": "2024-03-02T13:24:45.149988Z",
     "shell.execute_reply": "2024-03-02T13:24:45.149010Z"
    },
    "papermill": {
     "duration": 0.028027,
     "end_time": "2024-03-02T13:24:45.152183",
     "exception": false,
     "start_time": "2024-03-02T13:24:45.124156",
     "status": "completed"
    },
    "tags": []
   },
   "outputs": [],
   "source": [
    "train_age_median = train_data['Age'].median()"
   ]
  },
  {
   "cell_type": "code",
   "execution_count": 18,
   "id": "727a8082",
   "metadata": {
    "execution": {
     "iopub.execute_input": "2024-03-02T13:24:45.191584Z",
     "iopub.status.busy": "2024-03-02T13:24:45.190463Z",
     "iopub.status.idle": "2024-03-02T13:24:45.197670Z",
     "shell.execute_reply": "2024-03-02T13:24:45.196737Z"
    },
    "papermill": {
     "duration": 0.028896,
     "end_time": "2024-03-02T13:24:45.199748",
     "exception": false,
     "start_time": "2024-03-02T13:24:45.170852",
     "status": "completed"
    },
    "tags": []
   },
   "outputs": [],
   "source": [
    "values = {'Embarked': 'S', 'Age': train_age_median}\n",
    "train_data = train_data.fillna(value=values)"
   ]
  },
  {
   "cell_type": "code",
   "execution_count": 19,
   "id": "552b26e9",
   "metadata": {
    "execution": {
     "iopub.execute_input": "2024-03-02T13:24:45.238166Z",
     "iopub.status.busy": "2024-03-02T13:24:45.237304Z",
     "iopub.status.idle": "2024-03-02T13:24:45.245574Z",
     "shell.execute_reply": "2024-03-02T13:24:45.244537Z"
    },
    "papermill": {
     "duration": 0.029516,
     "end_time": "2024-03-02T13:24:45.247605",
     "exception": false,
     "start_time": "2024-03-02T13:24:45.218089",
     "status": "completed"
    },
    "tags": []
   },
   "outputs": [
    {
     "data": {
      "text/plain": [
       "Survived    0\n",
       "Pclass      0\n",
       "Sex         0\n",
       "Age         0\n",
       "SibSp       0\n",
       "Fare        0\n",
       "Embarked    0\n",
       "dtype: int64"
      ]
     },
     "execution_count": 19,
     "metadata": {},
     "output_type": "execute_result"
    }
   ],
   "source": [
    "train_data.isnull().sum()"
   ]
  },
  {
   "cell_type": "code",
   "execution_count": 20,
   "id": "9b469e50",
   "metadata": {
    "execution": {
     "iopub.execute_input": "2024-03-02T13:24:45.286335Z",
     "iopub.status.busy": "2024-03-02T13:24:45.285954Z",
     "iopub.status.idle": "2024-03-02T13:24:45.294037Z",
     "shell.execute_reply": "2024-03-02T13:24:45.292969Z"
    },
    "papermill": {
     "duration": 0.029822,
     "end_time": "2024-03-02T13:24:45.296098",
     "exception": false,
     "start_time": "2024-03-02T13:24:45.266276",
     "status": "completed"
    },
    "tags": []
   },
   "outputs": [
    {
     "data": {
      "text/plain": [
       "Pclass       0\n",
       "Sex          0\n",
       "Age         86\n",
       "SibSp        0\n",
       "Fare         1\n",
       "Embarked     0\n",
       "dtype: int64"
      ]
     },
     "execution_count": 20,
     "metadata": {},
     "output_type": "execute_result"
    }
   ],
   "source": [
    "test_data.isnull().sum()"
   ]
  },
  {
   "cell_type": "code",
   "execution_count": 21,
   "id": "7fa1129c",
   "metadata": {
    "execution": {
     "iopub.execute_input": "2024-03-02T13:24:45.335148Z",
     "iopub.status.busy": "2024-03-02T13:24:45.334523Z",
     "iopub.status.idle": "2024-03-02T13:24:45.662081Z",
     "shell.execute_reply": "2024-03-02T13:24:45.660854Z"
    },
    "papermill": {
     "duration": 0.350482,
     "end_time": "2024-03-02T13:24:45.665213",
     "exception": false,
     "start_time": "2024-03-02T13:24:45.314731",
     "status": "completed"
    },
    "tags": []
   },
   "outputs": [
    {
     "data": {
      "text/plain": [
       "<Axes: xlabel='Fare'>"
      ]
     },
     "execution_count": 21,
     "metadata": {},
     "output_type": "execute_result"
    },
    {
     "data": {
      "image/png": "[encoded data removed]",
      "text/plain": [
       "<Figure size 1600x600 with 2 Axes>"
      ]
     },
     "metadata": {},
     "output_type": "display_data"
    }
   ],
   "source": [
    "fig, axs = plt.subplots(ncols=2, figsize=(16,6))\n",
    "sns.boxplot(data=test_data, x='Age', ax=axs[0])\n",
    "sns.boxplot(data=test_data, x='Fare', ax=axs[1])"
   ]
  },
  {
   "cell_type": "code",
   "execution_count": 22,
   "id": "6630bd13",
   "metadata": {
    "execution": {
     "iopub.execute_input": "2024-03-02T13:24:45.707224Z",
     "iopub.status.busy": "2024-03-02T13:24:45.706617Z",
     "iopub.status.idle": "2024-03-02T13:24:45.711663Z",
     "shell.execute_reply": "2024-03-02T13:24:45.710765Z"
    },
    "papermill": {
     "duration": 0.027887,
     "end_time": "2024-03-02T13:24:45.714046",
     "exception": false,
     "start_time": "2024-03-02T13:24:45.686159",
     "status": "completed"
    },
    "tags": []
   },
   "outputs": [],
   "source": [
    "test_age_median = test_data['Age'].median()\n",
    "test_fare_median = test_data['Fare'].median()\n",
    "values = {'Age': test_age_median, 'Fare': test_fare_median}"
   ]
  },
  {
   "cell_type": "code",
   "execution_count": 23,
   "id": "ef662ba2",
   "metadata": {
    "execution": {
     "iopub.execute_input": "2024-03-02T13:24:45.753817Z",
     "iopub.status.busy": "2024-03-02T13:24:45.753395Z",
     "iopub.status.idle": "2024-03-02T13:24:45.759947Z",
     "shell.execute_reply": "2024-03-02T13:24:45.758817Z"
    },
    "papermill": {
     "duration": 0.028754,
     "end_time": "2024-03-02T13:24:45.762093",
     "exception": false,
     "start_time": "2024-03-02T13:24:45.733339",
     "status": "completed"
    },
    "tags": []
   },
   "outputs": [],
   "source": [
    "test_data = test_data.fillna(value=values)"
   ]
  },
  {
   "cell_type": "code",
   "execution_count": 24,
   "id": "c9093aba",
   "metadata": {
    "execution": {
     "iopub.execute_input": "2024-03-02T13:24:45.802013Z",
     "iopub.status.busy": "2024-03-02T13:24:45.801195Z",
     "iopub.status.idle": "2024-03-02T13:24:45.808978Z",
     "shell.execute_reply": "2024-03-02T13:24:45.808233Z"
    },
    "papermill": {
     "duration": 0.029845,
     "end_time": "2024-03-02T13:24:45.810887",
     "exception": false,
     "start_time": "2024-03-02T13:24:45.781042",
     "status": "completed"
    },
    "tags": []
   },
   "outputs": [
    {
     "data": {
      "text/plain": [
       "Pclass      0\n",
       "Sex         0\n",
       "Age         0\n",
       "SibSp       0\n",
       "Fare        0\n",
       "Embarked    0\n",
       "dtype: int64"
      ]
     },
     "execution_count": 24,
     "metadata": {},
     "output_type": "execute_result"
    }
   ],
   "source": [
    "test_data.isnull().sum()"
   ]
  },
  {
   "cell_type": "markdown",
   "id": "4fa32df1",
   "metadata": {
    "papermill": {
     "duration": 0.019134,
     "end_time": "2024-03-02T13:24:45.849517",
     "exception": false,
     "start_time": "2024-03-02T13:24:45.830383",
     "status": "completed"
    },
    "tags": []
   },
   "source": [
    "# Handling outliers"
   ]
  },
  {
   "cell_type": "code",
   "execution_count": 25,
   "id": "9d3db357",
   "metadata": {
    "execution": {
     "iopub.execute_input": "2024-03-02T13:24:45.889931Z",
     "iopub.status.busy": "2024-03-02T13:24:45.888977Z",
     "iopub.status.idle": "2024-03-02T13:24:46.374225Z",
     "shell.execute_reply": "2024-03-02T13:24:46.373094Z"
    },
    "papermill": {
     "duration": 0.50816,
     "end_time": "2024-03-02T13:24:46.376765",
     "exception": false,
     "start_time": "2024-03-02T13:24:45.868605",
     "status": "completed"
    },
    "tags": []
   },
   "outputs": [
    {
     "data": {
      "text/plain": [
       "<Axes: xlabel='Fare'>"
      ]
     },
     "execution_count": 25,
     "metadata": {},
     "output_type": "execute_result"
    },
    {
     "data": {
      "image/png": "[encoded data removed]",
      "text/plain": [
       "<Figure size 1600x600 with 4 Axes>"
      ]
     },
     "metadata": {},
     "output_type": "display_data"
    }
   ],
   "source": [
    "fig, axs = plt.subplots(ncols=4, figsize=(16,6))\n",
    "sns.boxplot(data=train_data, x='Pclass', ax=axs[0])\n",
    "sns.boxplot(data=train_data, x='Age', ax=axs[1])\n",
    "sns.boxplot(data=train_data, x='SibSp', ax=axs[2])\n",
    "sns.boxplot(data=train_data, x='Fare', ax=axs[3])"
   ]
  },
  {
   "cell_type": "code",
   "execution_count": 26,
   "id": "36800109",
   "metadata": {
    "execution": {
     "iopub.execute_input": "2024-03-02T13:24:46.419871Z",
     "iopub.status.busy": "2024-03-02T13:24:46.418727Z",
     "iopub.status.idle": "2024-03-02T13:24:46.427315Z",
     "shell.execute_reply": "2024-03-02T13:24:46.426582Z"
    },
    "papermill": {
     "duration": 0.032943,
     "end_time": "2024-03-02T13:24:46.429258",
     "exception": false,
     "start_time": "2024-03-02T13:24:46.396315",
     "status": "completed"
    },
    "tags": []
   },
   "outputs": [
    {
     "data": {
      "text/plain": [
       "Index([ 27,  88,  96, 116, 118, 159, 180, 201, 258, 299, 311, 324, 341, 377,\n",
       "       380, 438, 493, 527, 557, 630, 679, 689, 700, 716, 730, 737, 742, 779,\n",
       "       792, 846, 851, 863],\n",
       "      dtype='int64')"
      ]
     },
     "execution_count": 26,
     "metadata": {},
     "output_type": "execute_result"
    }
   ],
   "source": [
    "outliers_to_drop = train_data[(train_data['Age'] > 70) | (train_data['SibSp'] > 5) | (train_data['Fare'] > 200)].index\n",
    "outliers_to_drop"
   ]
  },
  {
   "cell_type": "code",
   "execution_count": 27,
   "id": "c4ea22d0",
   "metadata": {
    "execution": {
     "iopub.execute_input": "2024-03-02T13:24:46.471348Z",
     "iopub.status.busy": "2024-03-02T13:24:46.470640Z",
     "iopub.status.idle": "2024-03-02T13:24:46.475849Z",
     "shell.execute_reply": "2024-03-02T13:24:46.474777Z"
    },
    "papermill": {
     "duration": 0.029258,
     "end_time": "2024-03-02T13:24:46.478124",
     "exception": false,
     "start_time": "2024-03-02T13:24:46.448866",
     "status": "completed"
    },
    "tags": []
   },
   "outputs": [],
   "source": [
    "train_data = train_data.drop(outliers_to_drop, axis=0)"
   ]
  },
  {
   "cell_type": "code",
   "execution_count": 28,
   "id": "ab8a82ef",
   "metadata": {
    "execution": {
     "iopub.execute_input": "2024-03-02T13:24:46.518998Z",
     "iopub.status.busy": "2024-03-02T13:24:46.518602Z",
     "iopub.status.idle": "2024-03-02T13:24:46.524565Z",
     "shell.execute_reply": "2024-03-02T13:24:46.523782Z"
    },
    "papermill": {
     "duration": 0.028615,
     "end_time": "2024-03-02T13:24:46.526449",
     "exception": false,
     "start_time": "2024-03-02T13:24:46.497834",
     "status": "completed"
    },
    "tags": []
   },
   "outputs": [
    {
     "data": {
      "text/plain": [
       "(859, 7)"
      ]
     },
     "execution_count": 28,
     "metadata": {},
     "output_type": "execute_result"
    }
   ],
   "source": [
    "train_data.shape"
   ]
  },
  {
   "cell_type": "code",
   "execution_count": 29,
   "id": "8d8dde1d",
   "metadata": {
    "execution": {
     "iopub.execute_input": "2024-03-02T13:24:46.568395Z",
     "iopub.status.busy": "2024-03-02T13:24:46.567739Z",
     "iopub.status.idle": "2024-03-02T13:24:47.025928Z",
     "shell.execute_reply": "2024-03-02T13:24:47.023918Z"
    },
    "papermill": {
     "duration": 0.484353,
     "end_time": "2024-03-02T13:24:47.030489",
     "exception": false,
     "start_time": "2024-03-02T13:24:46.546136",
     "status": "completed"
    },
    "tags": []
   },
   "outputs": [
    {
     "data": {
      "text/plain": [
       "<Axes: xlabel='Fare'>"
      ]
     },
     "execution_count": 29,
     "metadata": {},
     "output_type": "execute_result"
    },
    {
     "data": {
      "image/png": "[encoded data removed]",
      "text/plain": [
       "<Figure size 1600x600 with 4 Axes>"
      ]
     },
     "metadata": {},
     "output_type": "display_data"
    }
   ],
   "source": [
    "fig, axs = plt.subplots(ncols=4, figsize=(16,6))\n",
    "sns.boxplot(data=train_data, x='Pclass', ax=axs[0])\n",
    "sns.boxplot(data=train_data, x='Age', ax=axs[1])\n",
    "sns.boxplot(data=train_data, x='SibSp', ax=axs[2])\n",
    "sns.boxplot(data=train_data, x='Fare', ax=axs[3])"
   ]
  },
  {
   "cell_type": "code",
   "execution_count": 30,
   "id": "b774488f",
   "metadata": {
    "execution": {
     "iopub.execute_input": "2024-03-02T13:24:47.078878Z",
     "iopub.status.busy": "2024-03-02T13:24:47.078468Z",
     "iopub.status.idle": "2024-03-02T13:24:47.096035Z",
     "shell.execute_reply": "2024-03-02T13:24:47.094946Z"
    },
    "papermill": {
     "duration": 0.042115,
     "end_time": "2024-03-02T13:24:47.098047",
     "exception": false,
     "start_time": "2024-03-02T13:24:47.055932",
     "status": "completed"
    },
    "tags": []
   },
   "outputs": [
    {
     "data": {
      "text/html": [
       "<div>\n",
       "<style scoped>\n",
       "    .dataframe tbody tr th:only-of-type {\n",
       "        vertical-align: middle;\n",
       "    }\n",
       "\n",
       "    .dataframe tbody tr th {\n",
       "        vertical-align: top;\n",
       "    }\n",
       "\n",
       "    .dataframe thead th {\n",
       "        text-align: right;\n",
       "    }\n",
       "</style>\n",
       "<table border=\"1\" class=\"dataframe\">\n",
       "  <thead>\n",
       "    <tr style=\"text-align: right;\">\n",
       "      <th></th>\n",
       "      <th>Survived</th>\n",
       "      <th>Pclass</th>\n",
       "      <th>Sex</th>\n",
       "      <th>Age</th>\n",
       "      <th>SibSp</th>\n",
       "      <th>Fare</th>\n",
       "      <th>Embarked</th>\n",
       "    </tr>\n",
       "  </thead>\n",
       "  <tbody>\n",
       "    <tr>\n",
       "      <th>0</th>\n",
       "      <td>0</td>\n",
       "      <td>3</td>\n",
       "      <td>male</td>\n",
       "      <td>22.0</td>\n",
       "      <td>1</td>\n",
       "      <td>7.2500</td>\n",
       "      <td>S</td>\n",
       "    </tr>\n",
       "    <tr>\n",
       "      <th>1</th>\n",
       "      <td>1</td>\n",
       "      <td>1</td>\n",
       "      <td>female</td>\n",
       "      <td>38.0</td>\n",
       "      <td>1</td>\n",
       "      <td>71.2833</td>\n",
       "      <td>C</td>\n",
       "    </tr>\n",
       "    <tr>\n",
       "      <th>2</th>\n",
       "      <td>1</td>\n",
       "      <td>3</td>\n",
       "      <td>female</td>\n",
       "      <td>26.0</td>\n",
       "      <td>0</td>\n",
       "      <td>7.9250</td>\n",
       "      <td>S</td>\n",
       "    </tr>\n",
       "    <tr>\n",
       "      <th>3</th>\n",
       "      <td>1</td>\n",
       "      <td>1</td>\n",
       "      <td>female</td>\n",
       "      <td>35.0</td>\n",
       "      <td>1</td>\n",
       "      <td>53.1000</td>\n",
       "      <td>S</td>\n",
       "    </tr>\n",
       "    <tr>\n",
       "      <th>4</th>\n",
       "      <td>0</td>\n",
       "      <td>3</td>\n",
       "      <td>male</td>\n",
       "      <td>35.0</td>\n",
       "      <td>0</td>\n",
       "      <td>8.0500</td>\n",
       "      <td>S</td>\n",
       "    </tr>\n",
       "    <tr>\n",
       "      <th>...</th>\n",
       "      <td>...</td>\n",
       "      <td>...</td>\n",
       "      <td>...</td>\n",
       "      <td>...</td>\n",
       "      <td>...</td>\n",
       "      <td>...</td>\n",
       "      <td>...</td>\n",
       "    </tr>\n",
       "    <tr>\n",
       "      <th>886</th>\n",
       "      <td>0</td>\n",
       "      <td>2</td>\n",
       "      <td>male</td>\n",
       "      <td>27.0</td>\n",
       "      <td>0</td>\n",
       "      <td>13.0000</td>\n",
       "      <td>S</td>\n",
       "    </tr>\n",
       "    <tr>\n",
       "      <th>887</th>\n",
       "      <td>1</td>\n",
       "      <td>1</td>\n",
       "      <td>female</td>\n",
       "      <td>19.0</td>\n",
       "      <td>0</td>\n",
       "      <td>30.0000</td>\n",
       "      <td>S</td>\n",
       "    </tr>\n",
       "    <tr>\n",
       "      <th>888</th>\n",
       "      <td>0</td>\n",
       "      <td>3</td>\n",
       "      <td>female</td>\n",
       "      <td>28.0</td>\n",
       "      <td>1</td>\n",
       "      <td>23.4500</td>\n",
       "      <td>S</td>\n",
       "    </tr>\n",
       "    <tr>\n",
       "      <th>889</th>\n",
       "      <td>1</td>\n",
       "      <td>1</td>\n",
       "      <td>male</td>\n",
       "      <td>26.0</td>\n",
       "      <td>0</td>\n",
       "      <td>30.0000</td>\n",
       "      <td>C</td>\n",
       "    </tr>\n",
       "    <tr>\n",
       "      <th>890</th>\n",
       "      <td>0</td>\n",
       "      <td>3</td>\n",
       "      <td>male</td>\n",
       "      <td>32.0</td>\n",
       "      <td>0</td>\n",
       "      <td>7.7500</td>\n",
       "      <td>Q</td>\n",
       "    </tr>\n",
       "  </tbody>\n",
       "</table>\n",
       "<p>859 rows × 7 columns</p>\n",
       "</div>"
      ],
      "text/plain": [
       "     Survived  Pclass     Sex   Age  SibSp     Fare Embarked\n",
       "0           0       3    male  22.0      1   7.2500        S\n",
       "1           1       1  female  38.0      1  71.2833        C\n",
       "2           1       3  female  26.0      0   7.9250        S\n",
       "3           1       1  female  35.0      1  53.1000        S\n",
       "4           0       3    male  35.0      0   8.0500        S\n",
       "..        ...     ...     ...   ...    ...      ...      ...\n",
       "886         0       2    male  27.0      0  13.0000        S\n",
       "887         1       1  female  19.0      0  30.0000        S\n",
       "888         0       3  female  28.0      1  23.4500        S\n",
       "889         1       1    male  26.0      0  30.0000        C\n",
       "890         0       3    male  32.0      0   7.7500        Q\n",
       "\n",
       "[859 rows x 7 columns]"
      ]
     },
     "execution_count": 30,
     "metadata": {},
     "output_type": "execute_result"
    }
   ],
   "source": [
    "train_data"
   ]
  },
  {
   "cell_type": "code",
   "execution_count": 31,
   "id": "6b1b1425",
   "metadata": {
    "execution": {
     "iopub.execute_input": "2024-03-02T13:24:47.152487Z",
     "iopub.status.busy": "2024-03-02T13:24:47.151342Z",
     "iopub.status.idle": "2024-03-02T13:24:47.157616Z",
     "shell.execute_reply": "2024-03-02T13:24:47.156619Z"
    },
    "papermill": {
     "duration": 0.03465,
     "end_time": "2024-03-02T13:24:47.160134",
     "exception": false,
     "start_time": "2024-03-02T13:24:47.125484",
     "status": "completed"
    },
    "tags": []
   },
   "outputs": [],
   "source": [
    "train_data = train_data.reset_index(drop=True)"
   ]
  },
  {
   "cell_type": "markdown",
   "id": "ff2eb485",
   "metadata": {
    "papermill": {
     "duration": 0.020643,
     "end_time": "2024-03-02T13:24:47.201846",
     "exception": false,
     "start_time": "2024-03-02T13:24:47.181203",
     "status": "completed"
    },
    "tags": []
   },
   "source": [
    "# Splitting X and y"
   ]
  },
  {
   "cell_type": "code",
   "execution_count": 32,
   "id": "42994735",
   "metadata": {
    "execution": {
     "iopub.execute_input": "2024-03-02T13:24:47.245498Z",
     "iopub.status.busy": "2024-03-02T13:24:47.245043Z",
     "iopub.status.idle": "2024-03-02T13:24:47.251280Z",
     "shell.execute_reply": "2024-03-02T13:24:47.250444Z"
    },
    "papermill": {
     "duration": 0.030804,
     "end_time": "2024-03-02T13:24:47.253338",
     "exception": false,
     "start_time": "2024-03-02T13:24:47.222534",
     "status": "completed"
    },
    "tags": []
   },
   "outputs": [],
   "source": [
    "y_train = train_data['Survived']\n",
    "X_train = train_data.drop(['Survived'], axis=1)"
   ]
  },
  {
   "cell_type": "code",
   "execution_count": 33,
   "id": "78701335",
   "metadata": {
    "execution": {
     "iopub.execute_input": "2024-03-02T13:24:47.296565Z",
     "iopub.status.busy": "2024-03-02T13:24:47.296126Z",
     "iopub.status.idle": "2024-03-02T13:24:47.304339Z",
     "shell.execute_reply": "2024-03-02T13:24:47.303242Z"
    },
    "papermill": {
     "duration": 0.032766,
     "end_time": "2024-03-02T13:24:47.306542",
     "exception": false,
     "start_time": "2024-03-02T13:24:47.273776",
     "status": "completed"
    },
    "tags": []
   },
   "outputs": [
    {
     "data": {
      "text/plain": [
       "0      0\n",
       "1      1\n",
       "2      1\n",
       "3      1\n",
       "4      0\n",
       "      ..\n",
       "854    0\n",
       "855    1\n",
       "856    0\n",
       "857    1\n",
       "858    0\n",
       "Name: Survived, Length: 859, dtype: int64"
      ]
     },
     "execution_count": 33,
     "metadata": {},
     "output_type": "execute_result"
    }
   ],
   "source": [
    "y_train"
   ]
  },
  {
   "cell_type": "code",
   "execution_count": 34,
   "id": "3d808674",
   "metadata": {
    "execution": {
     "iopub.execute_input": "2024-03-02T13:24:47.350197Z",
     "iopub.status.busy": "2024-03-02T13:24:47.349197Z",
     "iopub.status.idle": "2024-03-02T13:24:47.364301Z",
     "shell.execute_reply": "2024-03-02T13:24:47.363161Z"
    },
    "papermill": {
     "duration": 0.039496,
     "end_time": "2024-03-02T13:24:47.366577",
     "exception": false,
     "start_time": "2024-03-02T13:24:47.327081",
     "status": "completed"
    },
    "tags": []
   },
   "outputs": [
    {
     "data": {
      "text/html": [
       "<div>\n",
       "<style scoped>\n",
       "    .dataframe tbody tr th:only-of-type {\n",
       "        vertical-align: middle;\n",
       "    }\n",
       "\n",
       "    .dataframe tbody tr th {\n",
       "        vertical-align: top;\n",
       "    }\n",
       "\n",
       "    .dataframe thead th {\n",
       "        text-align: right;\n",
       "    }\n",
       "</style>\n",
       "<table border=\"1\" class=\"dataframe\">\n",
       "  <thead>\n",
       "    <tr style=\"text-align: right;\">\n",
       "      <th></th>\n",
       "      <th>Pclass</th>\n",
       "      <th>Sex</th>\n",
       "      <th>Age</th>\n",
       "      <th>SibSp</th>\n",
       "      <th>Fare</th>\n",
       "      <th>Embarked</th>\n",
       "    </tr>\n",
       "  </thead>\n",
       "  <tbody>\n",
       "    <tr>\n",
       "      <th>0</th>\n",
       "      <td>3</td>\n",
       "      <td>male</td>\n",
       "      <td>22.0</td>\n",
       "      <td>1</td>\n",
       "      <td>7.2500</td>\n",
       "      <td>S</td>\n",
       "    </tr>\n",
       "    <tr>\n",
       "      <th>1</th>\n",
       "      <td>1</td>\n",
       "      <td>female</td>\n",
       "      <td>38.0</td>\n",
       "      <td>1</td>\n",
       "      <td>71.2833</td>\n",
       "      <td>C</td>\n",
       "    </tr>\n",
       "    <tr>\n",
       "      <th>2</th>\n",
       "      <td>3</td>\n",
       "      <td>female</td>\n",
       "      <td>26.0</td>\n",
       "      <td>0</td>\n",
       "      <td>7.9250</td>\n",
       "      <td>S</td>\n",
       "    </tr>\n",
       "    <tr>\n",
       "      <th>3</th>\n",
       "      <td>1</td>\n",
       "      <td>female</td>\n",
       "      <td>35.0</td>\n",
       "      <td>1</td>\n",
       "      <td>53.1000</td>\n",
       "      <td>S</td>\n",
       "    </tr>\n",
       "    <tr>\n",
       "      <th>4</th>\n",
       "      <td>3</td>\n",
       "      <td>male</td>\n",
       "      <td>35.0</td>\n",
       "      <td>0</td>\n",
       "      <td>8.0500</td>\n",
       "      <td>S</td>\n",
       "    </tr>\n",
       "    <tr>\n",
       "      <th>...</th>\n",
       "      <td>...</td>\n",
       "      <td>...</td>\n",
       "      <td>...</td>\n",
       "      <td>...</td>\n",
       "      <td>...</td>\n",
       "      <td>...</td>\n",
       "    </tr>\n",
       "    <tr>\n",
       "      <th>854</th>\n",
       "      <td>2</td>\n",
       "      <td>male</td>\n",
       "      <td>27.0</td>\n",
       "      <td>0</td>\n",
       "      <td>13.0000</td>\n",
       "      <td>S</td>\n",
       "    </tr>\n",
       "    <tr>\n",
       "      <th>855</th>\n",
       "      <td>1</td>\n",
       "      <td>female</td>\n",
       "      <td>19.0</td>\n",
       "      <td>0</td>\n",
       "      <td>30.0000</td>\n",
       "      <td>S</td>\n",
       "    </tr>\n",
       "    <tr>\n",
       "      <th>856</th>\n",
       "      <td>3</td>\n",
       "      <td>female</td>\n",
       "      <td>28.0</td>\n",
       "      <td>1</td>\n",
       "      <td>23.4500</td>\n",
       "      <td>S</td>\n",
       "    </tr>\n",
       "    <tr>\n",
       "      <th>857</th>\n",
       "      <td>1</td>\n",
       "      <td>male</td>\n",
       "      <td>26.0</td>\n",
       "      <td>0</td>\n",
       "      <td>30.0000</td>\n",
       "      <td>C</td>\n",
       "    </tr>\n",
       "    <tr>\n",
       "      <th>858</th>\n",
       "      <td>3</td>\n",
       "      <td>male</td>\n",
       "      <td>32.0</td>\n",
       "      <td>0</td>\n",
       "      <td>7.7500</td>\n",
       "      <td>Q</td>\n",
       "    </tr>\n",
       "  </tbody>\n",
       "</table>\n",
       "<p>859 rows × 6 columns</p>\n",
       "</div>"
      ],
      "text/plain": [
       "     Pclass     Sex   Age  SibSp     Fare Embarked\n",
       "0         3    male  22.0      1   7.2500        S\n",
       "1         1  female  38.0      1  71.2833        C\n",
       "2         3  female  26.0      0   7.9250        S\n",
       "3         1  female  35.0      1  53.1000        S\n",
       "4         3    male  35.0      0   8.0500        S\n",
       "..      ...     ...   ...    ...      ...      ...\n",
       "854       2    male  27.0      0  13.0000        S\n",
       "855       1  female  19.0      0  30.0000        S\n",
       "856       3  female  28.0      1  23.4500        S\n",
       "857       1    male  26.0      0  30.0000        C\n",
       "858       3    male  32.0      0   7.7500        Q\n",
       "\n",
       "[859 rows x 6 columns]"
      ]
     },
     "execution_count": 34,
     "metadata": {},
     "output_type": "execute_result"
    }
   ],
   "source": [
    "X_train"
   ]
  },
  {
   "cell_type": "code",
   "execution_count": 35,
   "id": "1d7d8a3c",
   "metadata": {
    "execution": {
     "iopub.execute_input": "2024-03-02T13:24:47.410416Z",
     "iopub.status.busy": "2024-03-02T13:24:47.409678Z",
     "iopub.status.idle": "2024-03-02T13:24:47.415306Z",
     "shell.execute_reply": "2024-03-02T13:24:47.414596Z"
    },
    "papermill": {
     "duration": 0.030069,
     "end_time": "2024-03-02T13:24:47.417487",
     "exception": false,
     "start_time": "2024-03-02T13:24:47.387418",
     "status": "completed"
    },
    "tags": []
   },
   "outputs": [
    {
     "data": {
      "text/plain": [
       "Index(['Pclass', 'Sex', 'Age', 'SibSp', 'Fare', 'Embarked'], dtype='object')"
      ]
     },
     "execution_count": 35,
     "metadata": {},
     "output_type": "execute_result"
    }
   ],
   "source": [
    "X_train.columns"
   ]
  },
  {
   "cell_type": "markdown",
   "id": "5ef4504e",
   "metadata": {
    "papermill": {
     "duration": 0.028074,
     "end_time": "2024-03-02T13:24:47.470628",
     "exception": false,
     "start_time": "2024-03-02T13:24:47.442554",
     "status": "completed"
    },
    "tags": []
   },
   "source": [
    "# Turning catogericals to numerical"
   ]
  },
  {
   "cell_type": "code",
   "execution_count": 36,
   "id": "3f60532f",
   "metadata": {
    "execution": {
     "iopub.execute_input": "2024-03-02T13:24:47.526111Z",
     "iopub.status.busy": "2024-03-02T13:24:47.525755Z",
     "iopub.status.idle": "2024-03-02T13:24:47.673840Z",
     "shell.execute_reply": "2024-03-02T13:24:47.672865Z"
    },
    "papermill": {
     "duration": 0.177093,
     "end_time": "2024-03-02T13:24:47.676525",
     "exception": false,
     "start_time": "2024-03-02T13:24:47.499432",
     "status": "completed"
    },
    "tags": []
   },
   "outputs": [],
   "source": [
    "from sklearn.preprocessing import OneHotEncoder"
   ]
  },
  {
   "cell_type": "code",
   "execution_count": 37,
   "id": "a8fe0a72",
   "metadata": {
    "execution": {
     "iopub.execute_input": "2024-03-02T13:24:47.720371Z",
     "iopub.status.busy": "2024-03-02T13:24:47.719950Z",
     "iopub.status.idle": "2024-03-02T13:24:47.724824Z",
     "shell.execute_reply": "2024-03-02T13:24:47.723660Z"
    },
    "papermill": {
     "duration": 0.029241,
     "end_time": "2024-03-02T13:24:47.726933",
     "exception": false,
     "start_time": "2024-03-02T13:24:47.697692",
     "status": "completed"
    },
    "tags": []
   },
   "outputs": [],
   "source": [
    "encoder = OneHotEncoder(drop=\"first\", sparse_output=False)"
   ]
  },
  {
   "cell_type": "code",
   "execution_count": 38,
   "id": "b3a5590a",
   "metadata": {
    "execution": {
     "iopub.execute_input": "2024-03-02T13:24:47.770925Z",
     "iopub.status.busy": "2024-03-02T13:24:47.770123Z",
     "iopub.status.idle": "2024-03-02T13:24:47.782381Z",
     "shell.execute_reply": "2024-03-02T13:24:47.781537Z"
    },
    "papermill": {
     "duration": 0.036325,
     "end_time": "2024-03-02T13:24:47.784268",
     "exception": false,
     "start_time": "2024-03-02T13:24:47.747943",
     "status": "completed"
    },
    "tags": []
   },
   "outputs": [
    {
     "data": {
      "text/html": [
       "<div>\n",
       "<style scoped>\n",
       "    .dataframe tbody tr th:only-of-type {\n",
       "        vertical-align: middle;\n",
       "    }\n",
       "\n",
       "    .dataframe tbody tr th {\n",
       "        vertical-align: top;\n",
       "    }\n",
       "\n",
       "    .dataframe thead th {\n",
       "        text-align: right;\n",
       "    }\n",
       "</style>\n",
       "<table border=\"1\" class=\"dataframe\">\n",
       "  <thead>\n",
       "    <tr style=\"text-align: right;\">\n",
       "      <th></th>\n",
       "      <th>Pclass</th>\n",
       "      <th>Sex</th>\n",
       "      <th>Age</th>\n",
       "      <th>SibSp</th>\n",
       "      <th>Fare</th>\n",
       "      <th>Embarked</th>\n",
       "    </tr>\n",
       "  </thead>\n",
       "  <tbody>\n",
       "    <tr>\n",
       "      <th>0</th>\n",
       "      <td>3</td>\n",
       "      <td>male</td>\n",
       "      <td>22.0</td>\n",
       "      <td>1</td>\n",
       "      <td>7.2500</td>\n",
       "      <td>S</td>\n",
       "    </tr>\n",
       "    <tr>\n",
       "      <th>1</th>\n",
       "      <td>1</td>\n",
       "      <td>female</td>\n",
       "      <td>38.0</td>\n",
       "      <td>1</td>\n",
       "      <td>71.2833</td>\n",
       "      <td>C</td>\n",
       "    </tr>\n",
       "    <tr>\n",
       "      <th>2</th>\n",
       "      <td>3</td>\n",
       "      <td>female</td>\n",
       "      <td>26.0</td>\n",
       "      <td>0</td>\n",
       "      <td>7.9250</td>\n",
       "      <td>S</td>\n",
       "    </tr>\n",
       "    <tr>\n",
       "      <th>3</th>\n",
       "      <td>1</td>\n",
       "      <td>female</td>\n",
       "      <td>35.0</td>\n",
       "      <td>1</td>\n",
       "      <td>53.1000</td>\n",
       "      <td>S</td>\n",
       "    </tr>\n",
       "    <tr>\n",
       "      <th>4</th>\n",
       "      <td>3</td>\n",
       "      <td>male</td>\n",
       "      <td>35.0</td>\n",
       "      <td>0</td>\n",
       "      <td>8.0500</td>\n",
       "      <td>S</td>\n",
       "    </tr>\n",
       "  </tbody>\n",
       "</table>\n",
       "</div>"
      ],
      "text/plain": [
       "   Pclass     Sex   Age  SibSp     Fare Embarked\n",
       "0       3    male  22.0      1   7.2500        S\n",
       "1       1  female  38.0      1  71.2833        C\n",
       "2       3  female  26.0      0   7.9250        S\n",
       "3       1  female  35.0      1  53.1000        S\n",
       "4       3    male  35.0      0   8.0500        S"
      ]
     },
     "execution_count": 38,
     "metadata": {},
     "output_type": "execute_result"
    }
   ],
   "source": [
    "X_train.head()"
   ]
  },
  {
   "cell_type": "code",
   "execution_count": 39,
   "id": "72f9c5e3",
   "metadata": {
    "execution": {
     "iopub.execute_input": "2024-03-02T13:24:47.828514Z",
     "iopub.status.busy": "2024-03-02T13:24:47.828087Z",
     "iopub.status.idle": "2024-03-02T13:24:47.833043Z",
     "shell.execute_reply": "2024-03-02T13:24:47.831751Z"
    },
    "papermill": {
     "duration": 0.029764,
     "end_time": "2024-03-02T13:24:47.835221",
     "exception": false,
     "start_time": "2024-03-02T13:24:47.805457",
     "status": "completed"
    },
    "tags": []
   },
   "outputs": [],
   "source": [
    "catogerical_cols = ['Sex', 'Embarked']"
   ]
  },
  {
   "cell_type": "code",
   "execution_count": 40,
   "id": "b4490d87",
   "metadata": {
    "execution": {
     "iopub.execute_input": "2024-03-02T13:24:47.888589Z",
     "iopub.status.busy": "2024-03-02T13:24:47.888006Z",
     "iopub.status.idle": "2024-03-02T13:24:47.902470Z",
     "shell.execute_reply": "2024-03-02T13:24:47.901388Z"
    },
    "papermill": {
     "duration": 0.048164,
     "end_time": "2024-03-02T13:24:47.905345",
     "exception": false,
     "start_time": "2024-03-02T13:24:47.857181",
     "status": "completed"
    },
    "tags": []
   },
   "outputs": [],
   "source": [
    "encoded_features = encoder.fit_transform(X_train[catogerical_cols])"
   ]
  },
  {
   "cell_type": "code",
   "execution_count": 41,
   "id": "bcad3fc1",
   "metadata": {
    "execution": {
     "iopub.execute_input": "2024-03-02T13:24:47.957061Z",
     "iopub.status.busy": "2024-03-02T13:24:47.956248Z",
     "iopub.status.idle": "2024-03-02T13:24:47.962480Z",
     "shell.execute_reply": "2024-03-02T13:24:47.961735Z"
    },
    "papermill": {
     "duration": 0.033246,
     "end_time": "2024-03-02T13:24:47.964835",
     "exception": false,
     "start_time": "2024-03-02T13:24:47.931589",
     "status": "completed"
    },
    "tags": []
   },
   "outputs": [],
   "source": [
    "encoded_df = pd.DataFrame(encoded_features, columns=encoder.get_feature_names_out(catogerical_cols))\n",
    "X_train_enc = pd.concat([X_train, encoded_df], axis=1)"
   ]
  },
  {
   "cell_type": "code",
   "execution_count": 42,
   "id": "e9a21e4a",
   "metadata": {
    "execution": {
     "iopub.execute_input": "2024-03-02T13:24:48.010202Z",
     "iopub.status.busy": "2024-03-02T13:24:48.009825Z",
     "iopub.status.idle": "2024-03-02T13:24:48.016209Z",
     "shell.execute_reply": "2024-03-02T13:24:48.015038Z"
    },
    "papermill": {
     "duration": 0.031908,
     "end_time": "2024-03-02T13:24:48.018410",
     "exception": false,
     "start_time": "2024-03-02T13:24:47.986502",
     "status": "completed"
    },
    "tags": []
   },
   "outputs": [],
   "source": [
    "X_train_enc.drop(catogerical_cols, axis=1, inplace=True)"
   ]
  },
  {
   "cell_type": "code",
   "execution_count": 43,
   "id": "5448df24",
   "metadata": {
    "execution": {
     "iopub.execute_input": "2024-03-02T13:24:48.064841Z",
     "iopub.status.busy": "2024-03-02T13:24:48.064174Z",
     "iopub.status.idle": "2024-03-02T13:24:48.078017Z",
     "shell.execute_reply": "2024-03-02T13:24:48.076744Z"
    },
    "papermill": {
     "duration": 0.039845,
     "end_time": "2024-03-02T13:24:48.080290",
     "exception": false,
     "start_time": "2024-03-02T13:24:48.040445",
     "status": "completed"
    },
    "tags": []
   },
   "outputs": [
    {
     "data": {
      "text/html": [
       "<div>\n",
       "<style scoped>\n",
       "    .dataframe tbody tr th:only-of-type {\n",
       "        vertical-align: middle;\n",
       "    }\n",
       "\n",
       "    .dataframe tbody tr th {\n",
       "        vertical-align: top;\n",
       "    }\n",
       "\n",
       "    .dataframe thead th {\n",
       "        text-align: right;\n",
       "    }\n",
       "</style>\n",
       "<table border=\"1\" class=\"dataframe\">\n",
       "  <thead>\n",
       "    <tr style=\"text-align: right;\">\n",
       "      <th></th>\n",
       "      <th>Pclass</th>\n",
       "      <th>Age</th>\n",
       "      <th>SibSp</th>\n",
       "      <th>Fare</th>\n",
       "      <th>Sex_male</th>\n",
       "      <th>Embarked_Q</th>\n",
       "      <th>Embarked_S</th>\n",
       "    </tr>\n",
       "  </thead>\n",
       "  <tbody>\n",
       "    <tr>\n",
       "      <th>0</th>\n",
       "      <td>3</td>\n",
       "      <td>22.0</td>\n",
       "      <td>1</td>\n",
       "      <td>7.2500</td>\n",
       "      <td>1.0</td>\n",
       "      <td>0.0</td>\n",
       "      <td>1.0</td>\n",
       "    </tr>\n",
       "    <tr>\n",
       "      <th>1</th>\n",
       "      <td>1</td>\n",
       "      <td>38.0</td>\n",
       "      <td>1</td>\n",
       "      <td>71.2833</td>\n",
       "      <td>0.0</td>\n",
       "      <td>0.0</td>\n",
       "      <td>0.0</td>\n",
       "    </tr>\n",
       "    <tr>\n",
       "      <th>2</th>\n",
       "      <td>3</td>\n",
       "      <td>26.0</td>\n",
       "      <td>0</td>\n",
       "      <td>7.9250</td>\n",
       "      <td>0.0</td>\n",
       "      <td>0.0</td>\n",
       "      <td>1.0</td>\n",
       "    </tr>\n",
       "    <tr>\n",
       "      <th>3</th>\n",
       "      <td>1</td>\n",
       "      <td>35.0</td>\n",
       "      <td>1</td>\n",
       "      <td>53.1000</td>\n",
       "      <td>0.0</td>\n",
       "      <td>0.0</td>\n",
       "      <td>1.0</td>\n",
       "    </tr>\n",
       "    <tr>\n",
       "      <th>4</th>\n",
       "      <td>3</td>\n",
       "      <td>35.0</td>\n",
       "      <td>0</td>\n",
       "      <td>8.0500</td>\n",
       "      <td>1.0</td>\n",
       "      <td>0.0</td>\n",
       "      <td>1.0</td>\n",
       "    </tr>\n",
       "  </tbody>\n",
       "</table>\n",
       "</div>"
      ],
      "text/plain": [
       "   Pclass   Age  SibSp     Fare  Sex_male  Embarked_Q  Embarked_S\n",
       "0       3  22.0      1   7.2500       1.0         0.0         1.0\n",
       "1       1  38.0      1  71.2833       0.0         0.0         0.0\n",
       "2       3  26.0      0   7.9250       0.0         0.0         1.0\n",
       "3       1  35.0      1  53.1000       0.0         0.0         1.0\n",
       "4       3  35.0      0   8.0500       1.0         0.0         1.0"
      ]
     },
     "execution_count": 43,
     "metadata": {},
     "output_type": "execute_result"
    }
   ],
   "source": [
    "X_train_enc.head()"
   ]
  },
  {
   "cell_type": "code",
   "execution_count": 44,
   "id": "c60e6315",
   "metadata": {
    "execution": {
     "iopub.execute_input": "2024-03-02T13:24:48.125122Z",
     "iopub.status.busy": "2024-03-02T13:24:48.124757Z",
     "iopub.status.idle": "2024-03-02T13:24:48.136895Z",
     "shell.execute_reply": "2024-03-02T13:24:48.135815Z"
    },
    "papermill": {
     "duration": 0.037024,
     "end_time": "2024-03-02T13:24:48.138994",
     "exception": false,
     "start_time": "2024-03-02T13:24:48.101970",
     "status": "completed"
    },
    "tags": []
   },
   "outputs": [
    {
     "data": {
      "text/html": [
       "<div>\n",
       "<style scoped>\n",
       "    .dataframe tbody tr th:only-of-type {\n",
       "        vertical-align: middle;\n",
       "    }\n",
       "\n",
       "    .dataframe tbody tr th {\n",
       "        vertical-align: top;\n",
       "    }\n",
       "\n",
       "    .dataframe thead th {\n",
       "        text-align: right;\n",
       "    }\n",
       "</style>\n",
       "<table border=\"1\" class=\"dataframe\">\n",
       "  <thead>\n",
       "    <tr style=\"text-align: right;\">\n",
       "      <th></th>\n",
       "      <th>Pclass</th>\n",
       "      <th>Sex</th>\n",
       "      <th>Age</th>\n",
       "      <th>SibSp</th>\n",
       "      <th>Fare</th>\n",
       "      <th>Embarked</th>\n",
       "    </tr>\n",
       "  </thead>\n",
       "  <tbody>\n",
       "    <tr>\n",
       "      <th>0</th>\n",
       "      <td>3</td>\n",
       "      <td>male</td>\n",
       "      <td>34.5</td>\n",
       "      <td>0</td>\n",
       "      <td>7.8292</td>\n",
       "      <td>Q</td>\n",
       "    </tr>\n",
       "    <tr>\n",
       "      <th>1</th>\n",
       "      <td>3</td>\n",
       "      <td>female</td>\n",
       "      <td>47.0</td>\n",
       "      <td>1</td>\n",
       "      <td>7.0000</td>\n",
       "      <td>S</td>\n",
       "    </tr>\n",
       "    <tr>\n",
       "      <th>2</th>\n",
       "      <td>2</td>\n",
       "      <td>male</td>\n",
       "      <td>62.0</td>\n",
       "      <td>0</td>\n",
       "      <td>9.6875</td>\n",
       "      <td>Q</td>\n",
       "    </tr>\n",
       "    <tr>\n",
       "      <th>3</th>\n",
       "      <td>3</td>\n",
       "      <td>male</td>\n",
       "      <td>27.0</td>\n",
       "      <td>0</td>\n",
       "      <td>8.6625</td>\n",
       "      <td>S</td>\n",
       "    </tr>\n",
       "    <tr>\n",
       "      <th>4</th>\n",
       "      <td>3</td>\n",
       "      <td>female</td>\n",
       "      <td>22.0</td>\n",
       "      <td>1</td>\n",
       "      <td>12.2875</td>\n",
       "      <td>S</td>\n",
       "    </tr>\n",
       "  </tbody>\n",
       "</table>\n",
       "</div>"
      ],
      "text/plain": [
       "   Pclass     Sex   Age  SibSp     Fare Embarked\n",
       "0       3    male  34.5      0   7.8292        Q\n",
       "1       3  female  47.0      1   7.0000        S\n",
       "2       2    male  62.0      0   9.6875        Q\n",
       "3       3    male  27.0      0   8.6625        S\n",
       "4       3  female  22.0      1  12.2875        S"
      ]
     },
     "execution_count": 44,
     "metadata": {},
     "output_type": "execute_result"
    }
   ],
   "source": [
    "test_data.head()"
   ]
  },
  {
   "cell_type": "code",
   "execution_count": 45,
   "id": "1903e76d",
   "metadata": {
    "execution": {
     "iopub.execute_input": "2024-03-02T13:24:48.184955Z",
     "iopub.status.busy": "2024-03-02T13:24:48.184274Z",
     "iopub.status.idle": "2024-03-02T13:24:48.192529Z",
     "shell.execute_reply": "2024-03-02T13:24:48.191444Z"
    },
    "papermill": {
     "duration": 0.033488,
     "end_time": "2024-03-02T13:24:48.194672",
     "exception": false,
     "start_time": "2024-03-02T13:24:48.161184",
     "status": "completed"
    },
    "tags": []
   },
   "outputs": [],
   "source": [
    "encoded_features_test = encoder.transform(train_data[catogerical_cols])"
   ]
  },
  {
   "cell_type": "code",
   "execution_count": 46,
   "id": "aa52d599",
   "metadata": {
    "execution": {
     "iopub.execute_input": "2024-03-02T13:24:48.239890Z",
     "iopub.status.busy": "2024-03-02T13:24:48.239122Z",
     "iopub.status.idle": "2024-03-02T13:24:48.247701Z",
     "shell.execute_reply": "2024-03-02T13:24:48.246702Z"
    },
    "papermill": {
     "duration": 0.033774,
     "end_time": "2024-03-02T13:24:48.249966",
     "exception": false,
     "start_time": "2024-03-02T13:24:48.216192",
     "status": "completed"
    },
    "tags": []
   },
   "outputs": [],
   "source": [
    "encoded_test = pd.DataFrame(encoded_features_test,\n",
    "                            columns=encoder.get_feature_names_out(catogerical_cols))\n",
    "test_data_enc = pd.concat([test_data, encoded_test], axis=1)"
   ]
  },
  {
   "cell_type": "code",
   "execution_count": 47,
   "id": "71ef22a5",
   "metadata": {
    "execution": {
     "iopub.execute_input": "2024-03-02T13:24:48.295410Z",
     "iopub.status.busy": "2024-03-02T13:24:48.294281Z",
     "iopub.status.idle": "2024-03-02T13:24:48.300278Z",
     "shell.execute_reply": "2024-03-02T13:24:48.299529Z"
    },
    "papermill": {
     "duration": 0.030813,
     "end_time": "2024-03-02T13:24:48.302260",
     "exception": false,
     "start_time": "2024-03-02T13:24:48.271447",
     "status": "completed"
    },
    "tags": []
   },
   "outputs": [],
   "source": [
    "test_data_enc.drop(catogerical_cols, axis=1, inplace=True)"
   ]
  },
  {
   "cell_type": "code",
   "execution_count": 48,
   "id": "f1df3eea",
   "metadata": {
    "execution": {
     "iopub.execute_input": "2024-03-02T13:24:48.347501Z",
     "iopub.status.busy": "2024-03-02T13:24:48.347096Z",
     "iopub.status.idle": "2024-03-02T13:24:48.361113Z",
     "shell.execute_reply": "2024-03-02T13:24:48.360314Z"
    },
    "papermill": {
     "duration": 0.039136,
     "end_time": "2024-03-02T13:24:48.363250",
     "exception": false,
     "start_time": "2024-03-02T13:24:48.324114",
     "status": "completed"
    },
    "tags": []
   },
   "outputs": [
    {
     "data": {
      "text/html": [
       "<div>\n",
       "<style scoped>\n",
       "    .dataframe tbody tr th:only-of-type {\n",
       "        vertical-align: middle;\n",
       "    }\n",
       "\n",
       "    .dataframe tbody tr th {\n",
       "        vertical-align: top;\n",
       "    }\n",
       "\n",
       "    .dataframe thead th {\n",
       "        text-align: right;\n",
       "    }\n",
       "</style>\n",
       "<table border=\"1\" class=\"dataframe\">\n",
       "  <thead>\n",
       "    <tr style=\"text-align: right;\">\n",
       "      <th></th>\n",
       "      <th>Pclass</th>\n",
       "      <th>Age</th>\n",
       "      <th>SibSp</th>\n",
       "      <th>Fare</th>\n",
       "      <th>Sex_male</th>\n",
       "      <th>Embarked_Q</th>\n",
       "      <th>Embarked_S</th>\n",
       "    </tr>\n",
       "  </thead>\n",
       "  <tbody>\n",
       "    <tr>\n",
       "      <th>0</th>\n",
       "      <td>3.0</td>\n",
       "      <td>34.5</td>\n",
       "      <td>0.0</td>\n",
       "      <td>7.8292</td>\n",
       "      <td>1.0</td>\n",
       "      <td>0.0</td>\n",
       "      <td>1.0</td>\n",
       "    </tr>\n",
       "    <tr>\n",
       "      <th>1</th>\n",
       "      <td>3.0</td>\n",
       "      <td>47.0</td>\n",
       "      <td>1.0</td>\n",
       "      <td>7.0000</td>\n",
       "      <td>0.0</td>\n",
       "      <td>0.0</td>\n",
       "      <td>0.0</td>\n",
       "    </tr>\n",
       "    <tr>\n",
       "      <th>2</th>\n",
       "      <td>2.0</td>\n",
       "      <td>62.0</td>\n",
       "      <td>0.0</td>\n",
       "      <td>9.6875</td>\n",
       "      <td>0.0</td>\n",
       "      <td>0.0</td>\n",
       "      <td>1.0</td>\n",
       "    </tr>\n",
       "    <tr>\n",
       "      <th>3</th>\n",
       "      <td>3.0</td>\n",
       "      <td>27.0</td>\n",
       "      <td>0.0</td>\n",
       "      <td>8.6625</td>\n",
       "      <td>0.0</td>\n",
       "      <td>0.0</td>\n",
       "      <td>1.0</td>\n",
       "    </tr>\n",
       "    <tr>\n",
       "      <th>4</th>\n",
       "      <td>3.0</td>\n",
       "      <td>22.0</td>\n",
       "      <td>1.0</td>\n",
       "      <td>12.2875</td>\n",
       "      <td>1.0</td>\n",
       "      <td>0.0</td>\n",
       "      <td>1.0</td>\n",
       "    </tr>\n",
       "  </tbody>\n",
       "</table>\n",
       "</div>"
      ],
      "text/plain": [
       "   Pclass   Age  SibSp     Fare  Sex_male  Embarked_Q  Embarked_S\n",
       "0     3.0  34.5    0.0   7.8292       1.0         0.0         1.0\n",
       "1     3.0  47.0    1.0   7.0000       0.0         0.0         0.0\n",
       "2     2.0  62.0    0.0   9.6875       0.0         0.0         1.0\n",
       "3     3.0  27.0    0.0   8.6625       0.0         0.0         1.0\n",
       "4     3.0  22.0    1.0  12.2875       1.0         0.0         1.0"
      ]
     },
     "execution_count": 48,
     "metadata": {},
     "output_type": "execute_result"
    }
   ],
   "source": [
    "test_data_enc.head()"
   ]
  },
  {
   "cell_type": "code",
   "execution_count": 49,
   "id": "d2260e3c",
   "metadata": {
    "execution": {
     "iopub.execute_input": "2024-03-02T13:24:48.409427Z",
     "iopub.status.busy": "2024-03-02T13:24:48.409019Z",
     "iopub.status.idle": "2024-03-02T13:24:48.414736Z",
     "shell.execute_reply": "2024-03-02T13:24:48.413989Z"
    },
    "papermill": {
     "duration": 0.031373,
     "end_time": "2024-03-02T13:24:48.416662",
     "exception": false,
     "start_time": "2024-03-02T13:24:48.385289",
     "status": "completed"
    },
    "tags": []
   },
   "outputs": [
    {
     "data": {
      "text/plain": [
       "(859, 7)"
      ]
     },
     "execution_count": 49,
     "metadata": {},
     "output_type": "execute_result"
    }
   ],
   "source": [
    "test_data_enc.shape"
   ]
  },
  {
   "cell_type": "code",
   "execution_count": 50,
   "id": "62e09800",
   "metadata": {
    "execution": {
     "iopub.execute_input": "2024-03-02T13:24:48.462120Z",
     "iopub.status.busy": "2024-03-02T13:24:48.461712Z",
     "iopub.status.idle": "2024-03-02T13:24:48.466188Z",
     "shell.execute_reply": "2024-03-02T13:24:48.465118Z"
    },
    "papermill": {
     "duration": 0.029782,
     "end_time": "2024-03-02T13:24:48.468272",
     "exception": false,
     "start_time": "2024-03-02T13:24:48.438490",
     "status": "completed"
    },
    "tags": []
   },
   "outputs": [],
   "source": [
    "cols = X_train_enc.columns"
   ]
  },
  {
   "cell_type": "markdown",
   "id": "ef60e969",
   "metadata": {
    "papermill": {
     "duration": 0.021546,
     "end_time": "2024-03-02T13:24:48.511798",
     "exception": false,
     "start_time": "2024-03-02T13:24:48.490252",
     "status": "completed"
    },
    "tags": []
   },
   "source": [
    "# Feature Scaling"
   ]
  },
  {
   "cell_type": "code",
   "execution_count": 51,
   "id": "474426a6",
   "metadata": {
    "execution": {
     "iopub.execute_input": "2024-03-02T13:24:48.556904Z",
     "iopub.status.busy": "2024-03-02T13:24:48.556502Z",
     "iopub.status.idle": "2024-03-02T13:24:48.561191Z",
     "shell.execute_reply": "2024-03-02T13:24:48.560083Z"
    },
    "papermill": {
     "duration": 0.029657,
     "end_time": "2024-03-02T13:24:48.563099",
     "exception": false,
     "start_time": "2024-03-02T13:24:48.533442",
     "status": "completed"
    },
    "tags": []
   },
   "outputs": [],
   "source": [
    "from sklearn.preprocessing import RobustScaler"
   ]
  },
  {
   "cell_type": "code",
   "execution_count": 52,
   "id": "08e22f7b",
   "metadata": {
    "execution": {
     "iopub.execute_input": "2024-03-02T13:24:48.609234Z",
     "iopub.status.busy": "2024-03-02T13:24:48.608831Z",
     "iopub.status.idle": "2024-03-02T13:24:48.613752Z",
     "shell.execute_reply": "2024-03-02T13:24:48.612642Z"
    },
    "papermill": {
     "duration": 0.031008,
     "end_time": "2024-03-02T13:24:48.615893",
     "exception": false,
     "start_time": "2024-03-02T13:24:48.584885",
     "status": "completed"
    },
    "tags": []
   },
   "outputs": [],
   "source": [
    "robust_scaler = RobustScaler()"
   ]
  },
  {
   "cell_type": "code",
   "execution_count": 53,
   "id": "04984838",
   "metadata": {
    "execution": {
     "iopub.execute_input": "2024-03-02T13:24:48.661114Z",
     "iopub.status.busy": "2024-03-02T13:24:48.660752Z",
     "iopub.status.idle": "2024-03-02T13:24:48.670977Z",
     "shell.execute_reply": "2024-03-02T13:24:48.669887Z"
    },
    "papermill": {
     "duration": 0.035545,
     "end_time": "2024-03-02T13:24:48.673352",
     "exception": false,
     "start_time": "2024-03-02T13:24:48.637807",
     "status": "completed"
    },
    "tags": []
   },
   "outputs": [],
   "source": [
    "X_train_scaled = robust_scaler.fit_transform(X_train_enc)"
   ]
  },
  {
   "cell_type": "code",
   "execution_count": 54,
   "id": "a04eaf40",
   "metadata": {
    "execution": {
     "iopub.execute_input": "2024-03-02T13:24:48.718863Z",
     "iopub.status.busy": "2024-03-02T13:24:48.718447Z",
     "iopub.status.idle": "2024-03-02T13:24:48.723512Z",
     "shell.execute_reply": "2024-03-02T13:24:48.722451Z"
    },
    "papermill": {
     "duration": 0.030416,
     "end_time": "2024-03-02T13:24:48.725638",
     "exception": false,
     "start_time": "2024-03-02T13:24:48.695222",
     "status": "completed"
    },
    "tags": []
   },
   "outputs": [],
   "source": [
    "X_train = pd.DataFrame(X_train_scaled, columns=cols)"
   ]
  },
  {
   "cell_type": "code",
   "execution_count": 55,
   "id": "6e9367b5",
   "metadata": {
    "execution": {
     "iopub.execute_input": "2024-03-02T13:24:48.770801Z",
     "iopub.status.busy": "2024-03-02T13:24:48.770351Z",
     "iopub.status.idle": "2024-03-02T13:24:48.785073Z",
     "shell.execute_reply": "2024-03-02T13:24:48.784058Z"
    },
    "papermill": {
     "duration": 0.039682,
     "end_time": "2024-03-02T13:24:48.787063",
     "exception": false,
     "start_time": "2024-03-02T13:24:48.747381",
     "status": "completed"
    },
    "tags": []
   },
   "outputs": [
    {
     "data": {
      "text/html": [
       "<div>\n",
       "<style scoped>\n",
       "    .dataframe tbody tr th:only-of-type {\n",
       "        vertical-align: middle;\n",
       "    }\n",
       "\n",
       "    .dataframe tbody tr th {\n",
       "        vertical-align: top;\n",
       "    }\n",
       "\n",
       "    .dataframe thead th {\n",
       "        text-align: right;\n",
       "    }\n",
       "</style>\n",
       "<table border=\"1\" class=\"dataframe\">\n",
       "  <thead>\n",
       "    <tr style=\"text-align: right;\">\n",
       "      <th></th>\n",
       "      <th>Pclass</th>\n",
       "      <th>Age</th>\n",
       "      <th>SibSp</th>\n",
       "      <th>Fare</th>\n",
       "      <th>Sex_male</th>\n",
       "      <th>Embarked_Q</th>\n",
       "      <th>Embarked_S</th>\n",
       "    </tr>\n",
       "  </thead>\n",
       "  <tbody>\n",
       "    <tr>\n",
       "      <th>0</th>\n",
       "      <td>0.0</td>\n",
       "      <td>-0.461538</td>\n",
       "      <td>1.0</td>\n",
       "      <td>-0.294406</td>\n",
       "      <td>0.0</td>\n",
       "      <td>0.0</td>\n",
       "      <td>0.0</td>\n",
       "    </tr>\n",
       "    <tr>\n",
       "      <th>1</th>\n",
       "      <td>-2.0</td>\n",
       "      <td>0.769231</td>\n",
       "      <td>1.0</td>\n",
       "      <td>2.721878</td>\n",
       "      <td>-1.0</td>\n",
       "      <td>0.0</td>\n",
       "      <td>-1.0</td>\n",
       "    </tr>\n",
       "    <tr>\n",
       "      <th>2</th>\n",
       "      <td>0.0</td>\n",
       "      <td>-0.153846</td>\n",
       "      <td>0.0</td>\n",
       "      <td>-0.262610</td>\n",
       "      <td>-1.0</td>\n",
       "      <td>0.0</td>\n",
       "      <td>0.0</td>\n",
       "    </tr>\n",
       "    <tr>\n",
       "      <th>3</th>\n",
       "      <td>-2.0</td>\n",
       "      <td>0.538462</td>\n",
       "      <td>1.0</td>\n",
       "      <td>1.865355</td>\n",
       "      <td>-1.0</td>\n",
       "      <td>0.0</td>\n",
       "      <td>0.0</td>\n",
       "    </tr>\n",
       "    <tr>\n",
       "      <th>4</th>\n",
       "      <td>0.0</td>\n",
       "      <td>0.538462</td>\n",
       "      <td>0.0</td>\n",
       "      <td>-0.256722</td>\n",
       "      <td>0.0</td>\n",
       "      <td>0.0</td>\n",
       "      <td>0.0</td>\n",
       "    </tr>\n",
       "  </tbody>\n",
       "</table>\n",
       "</div>"
      ],
      "text/plain": [
       "   Pclass       Age  SibSp      Fare  Sex_male  Embarked_Q  Embarked_S\n",
       "0     0.0 -0.461538    1.0 -0.294406       0.0         0.0         0.0\n",
       "1    -2.0  0.769231    1.0  2.721878      -1.0         0.0        -1.0\n",
       "2     0.0 -0.153846    0.0 -0.262610      -1.0         0.0         0.0\n",
       "3    -2.0  0.538462    1.0  1.865355      -1.0         0.0         0.0\n",
       "4     0.0  0.538462    0.0 -0.256722       0.0         0.0         0.0"
      ]
     },
     "execution_count": 55,
     "metadata": {},
     "output_type": "execute_result"
    }
   ],
   "source": [
    "X_train.head()"
   ]
  },
  {
   "cell_type": "code",
   "execution_count": 56,
   "id": "3f5d6e50",
   "metadata": {
    "execution": {
     "iopub.execute_input": "2024-03-02T13:24:48.833092Z",
     "iopub.status.busy": "2024-03-02T13:24:48.832637Z",
     "iopub.status.idle": "2024-03-02T13:24:48.839631Z",
     "shell.execute_reply": "2024-03-02T13:24:48.838542Z"
    },
    "papermill": {
     "duration": 0.032908,
     "end_time": "2024-03-02T13:24:48.841938",
     "exception": false,
     "start_time": "2024-03-02T13:24:48.809030",
     "status": "completed"
    },
    "tags": []
   },
   "outputs": [],
   "source": [
    "test_data_scaled = robust_scaler.transform(test_data_enc)"
   ]
  },
  {
   "cell_type": "code",
   "execution_count": 57,
   "id": "b4cf70ed",
   "metadata": {
    "execution": {
     "iopub.execute_input": "2024-03-02T13:24:48.888245Z",
     "iopub.status.busy": "2024-03-02T13:24:48.887758Z",
     "iopub.status.idle": "2024-03-02T13:24:48.896636Z",
     "shell.execute_reply": "2024-03-02T13:24:48.895457Z"
    },
    "papermill": {
     "duration": 0.034411,
     "end_time": "2024-03-02T13:24:48.898667",
     "exception": false,
     "start_time": "2024-03-02T13:24:48.864256",
     "status": "completed"
    },
    "tags": []
   },
   "outputs": [
    {
     "data": {
      "text/plain": [
       "Pclass      0\n",
       "Sex         0\n",
       "Age         0\n",
       "SibSp       0\n",
       "Fare        0\n",
       "Embarked    0\n",
       "dtype: int64"
      ]
     },
     "execution_count": 57,
     "metadata": {},
     "output_type": "execute_result"
    }
   ],
   "source": [
    "test_data.isnull().sum()"
   ]
  },
  {
   "cell_type": "code",
   "execution_count": 58,
   "id": "a829c187",
   "metadata": {
    "execution": {
     "iopub.execute_input": "2024-03-02T13:24:48.945409Z",
     "iopub.status.busy": "2024-03-02T13:24:48.944961Z",
     "iopub.status.idle": "2024-03-02T13:24:48.951733Z",
     "shell.execute_reply": "2024-03-02T13:24:48.950865Z"
    },
    "papermill": {
     "duration": 0.032983,
     "end_time": "2024-03-02T13:24:48.953821",
     "exception": false,
     "start_time": "2024-03-02T13:24:48.920838",
     "status": "completed"
    },
    "tags": []
   },
   "outputs": [
    {
     "data": {
      "text/plain": [
       "array([[ 0.        ,  0.5       ,  0.        , ...,  0.        ,\n",
       "         0.        ,  0.        ],\n",
       "       [ 0.        ,  1.46153846,  1.        , ..., -1.        ,\n",
       "         0.        , -1.        ],\n",
       "       [-1.        ,  2.61538462,  0.        , ..., -1.        ,\n",
       "         0.        ,  0.        ],\n",
       "       ...,\n",
       "       [        nan,         nan,         nan, ..., -1.        ,\n",
       "         0.        ,  0.        ],\n",
       "       [        nan,         nan,         nan, ...,  0.        ,\n",
       "         0.        , -1.        ],\n",
       "       [        nan,         nan,         nan, ...,  0.        ,\n",
       "         1.        , -1.        ]])"
      ]
     },
     "execution_count": 58,
     "metadata": {},
     "output_type": "execute_result"
    }
   ],
   "source": [
    "test_data_scaled"
   ]
  },
  {
   "cell_type": "code",
   "execution_count": 59,
   "id": "e7de991c",
   "metadata": {
    "execution": {
     "iopub.execute_input": "2024-03-02T13:24:49.000903Z",
     "iopub.status.busy": "2024-03-02T13:24:49.000499Z",
     "iopub.status.idle": "2024-03-02T13:24:49.005865Z",
     "shell.execute_reply": "2024-03-02T13:24:49.004789Z"
    },
    "papermill": {
     "duration": 0.031351,
     "end_time": "2024-03-02T13:24:49.008063",
     "exception": false,
     "start_time": "2024-03-02T13:24:48.976712",
     "status": "completed"
    },
    "tags": []
   },
   "outputs": [],
   "source": [
    "test_data = pd.DataFrame(test_data_scaled, columns=cols)"
   ]
  },
  {
   "cell_type": "code",
   "execution_count": 60,
   "id": "7428cf68",
   "metadata": {
    "execution": {
     "iopub.execute_input": "2024-03-02T13:24:49.056248Z",
     "iopub.status.busy": "2024-03-02T13:24:49.055833Z",
     "iopub.status.idle": "2024-03-02T13:24:49.064478Z",
     "shell.execute_reply": "2024-03-02T13:24:49.063388Z"
    },
    "papermill": {
     "duration": 0.035998,
     "end_time": "2024-03-02T13:24:49.066594",
     "exception": false,
     "start_time": "2024-03-02T13:24:49.030596",
     "status": "completed"
    },
    "tags": []
   },
   "outputs": [
    {
     "data": {
      "text/plain": [
       "Pclass        441\n",
       "Age           441\n",
       "SibSp         441\n",
       "Fare          441\n",
       "Sex_male        0\n",
       "Embarked_Q      0\n",
       "Embarked_S      0\n",
       "dtype: int64"
      ]
     },
     "execution_count": 60,
     "metadata": {},
     "output_type": "execute_result"
    }
   ],
   "source": [
    "test_data.isnull().sum()"
   ]
  },
  {
   "cell_type": "code",
   "execution_count": 61,
   "id": "251da8a5",
   "metadata": {
    "execution": {
     "iopub.execute_input": "2024-03-02T13:24:49.112946Z",
     "iopub.status.busy": "2024-03-02T13:24:49.112570Z",
     "iopub.status.idle": "2024-03-02T13:24:49.119257Z",
     "shell.execute_reply": "2024-03-02T13:24:49.118254Z"
    },
    "papermill": {
     "duration": 0.032517,
     "end_time": "2024-03-02T13:24:49.121388",
     "exception": false,
     "start_time": "2024-03-02T13:24:49.088871",
     "status": "completed"
    },
    "tags": []
   },
   "outputs": [],
   "source": [
    "test_data = test_data.dropna(axis=0)"
   ]
  },
  {
   "cell_type": "code",
   "execution_count": 62,
   "id": "7cb7b0dd",
   "metadata": {
    "execution": {
     "iopub.execute_input": "2024-03-02T13:24:49.167495Z",
     "iopub.status.busy": "2024-03-02T13:24:49.167093Z",
     "iopub.status.idle": "2024-03-02T13:24:49.173807Z",
     "shell.execute_reply": "2024-03-02T13:24:49.172724Z"
    },
    "papermill": {
     "duration": 0.032501,
     "end_time": "2024-03-02T13:24:49.176015",
     "exception": false,
     "start_time": "2024-03-02T13:24:49.143514",
     "status": "completed"
    },
    "tags": []
   },
   "outputs": [
    {
     "data": {
      "text/plain": [
       "(418, 7)"
      ]
     },
     "execution_count": 62,
     "metadata": {},
     "output_type": "execute_result"
    }
   ],
   "source": [
    "test_data.shape"
   ]
  },
  {
   "cell_type": "code",
   "execution_count": 63,
   "id": "6d460687",
   "metadata": {
    "execution": {
     "iopub.execute_input": "2024-03-02T13:24:49.222680Z",
     "iopub.status.busy": "2024-03-02T13:24:49.222261Z",
     "iopub.status.idle": "2024-03-02T13:24:49.230989Z",
     "shell.execute_reply": "2024-03-02T13:24:49.229861Z"
    },
    "papermill": {
     "duration": 0.034712,
     "end_time": "2024-03-02T13:24:49.233157",
     "exception": false,
     "start_time": "2024-03-02T13:24:49.198445",
     "status": "completed"
    },
    "tags": []
   },
   "outputs": [
    {
     "data": {
      "text/plain": [
       "Pclass        0\n",
       "Age           0\n",
       "SibSp         0\n",
       "Fare          0\n",
       "Sex_male      0\n",
       "Embarked_Q    0\n",
       "Embarked_S    0\n",
       "dtype: int64"
      ]
     },
     "execution_count": 63,
     "metadata": {},
     "output_type": "execute_result"
    }
   ],
   "source": [
    "test_data.isnull().sum()"
   ]
  },
  {
   "cell_type": "code",
   "execution_count": 64,
   "id": "9c6df832",
   "metadata": {
    "execution": {
     "iopub.execute_input": "2024-03-02T13:24:49.279578Z",
     "iopub.status.busy": "2024-03-02T13:24:49.279166Z",
     "iopub.status.idle": "2024-03-02T13:24:49.293727Z",
     "shell.execute_reply": "2024-03-02T13:24:49.292902Z"
    },
    "papermill": {
     "duration": 0.040071,
     "end_time": "2024-03-02T13:24:49.295668",
     "exception": false,
     "start_time": "2024-03-02T13:24:49.255597",
     "status": "completed"
    },
    "tags": []
   },
   "outputs": [
    {
     "data": {
      "text/html": [
       "<div>\n",
       "<style scoped>\n",
       "    .dataframe tbody tr th:only-of-type {\n",
       "        vertical-align: middle;\n",
       "    }\n",
       "\n",
       "    .dataframe tbody tr th {\n",
       "        vertical-align: top;\n",
       "    }\n",
       "\n",
       "    .dataframe thead th {\n",
       "        text-align: right;\n",
       "    }\n",
       "</style>\n",
       "<table border=\"1\" class=\"dataframe\">\n",
       "  <thead>\n",
       "    <tr style=\"text-align: right;\">\n",
       "      <th></th>\n",
       "      <th>Pclass</th>\n",
       "      <th>Age</th>\n",
       "      <th>SibSp</th>\n",
       "      <th>Fare</th>\n",
       "      <th>Sex_male</th>\n",
       "      <th>Embarked_Q</th>\n",
       "      <th>Embarked_S</th>\n",
       "    </tr>\n",
       "  </thead>\n",
       "  <tbody>\n",
       "    <tr>\n",
       "      <th>0</th>\n",
       "      <td>0.0</td>\n",
       "      <td>0.500000</td>\n",
       "      <td>0.0</td>\n",
       "      <td>-0.267123</td>\n",
       "      <td>0.0</td>\n",
       "      <td>0.0</td>\n",
       "      <td>0.0</td>\n",
       "    </tr>\n",
       "    <tr>\n",
       "      <th>1</th>\n",
       "      <td>0.0</td>\n",
       "      <td>1.461538</td>\n",
       "      <td>1.0</td>\n",
       "      <td>-0.306182</td>\n",
       "      <td>-1.0</td>\n",
       "      <td>0.0</td>\n",
       "      <td>-1.0</td>\n",
       "    </tr>\n",
       "    <tr>\n",
       "      <th>2</th>\n",
       "      <td>-1.0</td>\n",
       "      <td>2.615385</td>\n",
       "      <td>0.0</td>\n",
       "      <td>-0.179588</td>\n",
       "      <td>-1.0</td>\n",
       "      <td>0.0</td>\n",
       "      <td>0.0</td>\n",
       "    </tr>\n",
       "    <tr>\n",
       "      <th>3</th>\n",
       "      <td>0.0</td>\n",
       "      <td>-0.076923</td>\n",
       "      <td>0.0</td>\n",
       "      <td>-0.227870</td>\n",
       "      <td>-1.0</td>\n",
       "      <td>0.0</td>\n",
       "      <td>0.0</td>\n",
       "    </tr>\n",
       "    <tr>\n",
       "      <th>4</th>\n",
       "      <td>0.0</td>\n",
       "      <td>-0.461538</td>\n",
       "      <td>1.0</td>\n",
       "      <td>-0.057115</td>\n",
       "      <td>0.0</td>\n",
       "      <td>0.0</td>\n",
       "      <td>0.0</td>\n",
       "    </tr>\n",
       "  </tbody>\n",
       "</table>\n",
       "</div>"
      ],
      "text/plain": [
       "   Pclass       Age  SibSp      Fare  Sex_male  Embarked_Q  Embarked_S\n",
       "0     0.0  0.500000    0.0 -0.267123       0.0         0.0         0.0\n",
       "1     0.0  1.461538    1.0 -0.306182      -1.0         0.0        -1.0\n",
       "2    -1.0  2.615385    0.0 -0.179588      -1.0         0.0         0.0\n",
       "3     0.0 -0.076923    0.0 -0.227870      -1.0         0.0         0.0\n",
       "4     0.0 -0.461538    1.0 -0.057115       0.0         0.0         0.0"
      ]
     },
     "execution_count": 64,
     "metadata": {},
     "output_type": "execute_result"
    }
   ],
   "source": [
    "test_data.head()"
   ]
  },
  {
   "cell_type": "code",
   "execution_count": 65,
   "id": "ed511f9a",
   "metadata": {
    "execution": {
     "iopub.execute_input": "2024-03-02T13:24:49.342704Z",
     "iopub.status.busy": "2024-03-02T13:24:49.342300Z",
     "iopub.status.idle": "2024-03-02T13:24:49.349966Z",
     "shell.execute_reply": "2024-03-02T13:24:49.349193Z"
    },
    "papermill": {
     "duration": 0.033683,
     "end_time": "2024-03-02T13:24:49.351993",
     "exception": false,
     "start_time": "2024-03-02T13:24:49.318310",
     "status": "completed"
    },
    "tags": []
   },
   "outputs": [
    {
     "data": {
      "text/plain": [
       "Pclass        0\n",
       "Age           0\n",
       "SibSp         0\n",
       "Fare          0\n",
       "Sex_male      0\n",
       "Embarked_Q    0\n",
       "Embarked_S    0\n",
       "dtype: int64"
      ]
     },
     "execution_count": 65,
     "metadata": {},
     "output_type": "execute_result"
    }
   ],
   "source": [
    "test_data.isnull().sum()"
   ]
  },
  {
   "cell_type": "markdown",
   "id": "21368fc4",
   "metadata": {
    "papermill": {
     "duration": 0.022793,
     "end_time": "2024-03-02T13:24:49.397934",
     "exception": false,
     "start_time": "2024-03-02T13:24:49.375141",
     "status": "completed"
    },
    "tags": []
   },
   "source": [
    "# Logistic Regression"
   ]
  },
  {
   "cell_type": "code",
   "execution_count": 66,
   "id": "1b94bbe5",
   "metadata": {
    "execution": {
     "iopub.execute_input": "2024-03-02T13:24:49.445114Z",
     "iopub.status.busy": "2024-03-02T13:24:49.444739Z",
     "iopub.status.idle": "2024-03-02T13:24:49.628023Z",
     "shell.execute_reply": "2024-03-02T13:24:49.627024Z"
    },
    "papermill": {
     "duration": 0.209627,
     "end_time": "2024-03-02T13:24:49.630508",
     "exception": false,
     "start_time": "2024-03-02T13:24:49.420881",
     "status": "completed"
    },
    "tags": []
   },
   "outputs": [],
   "source": [
    "from sklearn.linear_model import LogisticRegression"
   ]
  },
  {
   "cell_type": "code",
   "execution_count": 67,
   "id": "68ab1a4b",
   "metadata": {
    "execution": {
     "iopub.execute_input": "2024-03-02T13:24:49.679231Z",
     "iopub.status.busy": "2024-03-02T13:24:49.678187Z",
     "iopub.status.idle": "2024-03-02T13:24:49.683494Z",
     "shell.execute_reply": "2024-03-02T13:24:49.682534Z"
    },
    "papermill": {
     "duration": 0.03138,
     "end_time": "2024-03-02T13:24:49.685641",
     "exception": false,
     "start_time": "2024-03-02T13:24:49.654261",
     "status": "completed"
    },
    "tags": []
   },
   "outputs": [],
   "source": [
    "logistic_regr = LogisticRegression(random_state=42, max_iter=10000)"
   ]
  },
  {
   "cell_type": "code",
   "execution_count": 68,
   "id": "51269044",
   "metadata": {
    "execution": {
     "iopub.execute_input": "2024-03-02T13:24:49.732970Z",
     "iopub.status.busy": "2024-03-02T13:24:49.732602Z",
     "iopub.status.idle": "2024-03-02T13:24:49.754067Z",
     "shell.execute_reply": "2024-03-02T13:24:49.752995Z"
    },
    "papermill": {
     "duration": 0.047604,
     "end_time": "2024-03-02T13:24:49.756110",
     "exception": false,
     "start_time": "2024-03-02T13:24:49.708506",
     "status": "completed"
    },
    "tags": []
   },
   "outputs": [
    {
     "data": {
      "text/html": [
       "<style>#sk-container-id-1 {color: black;background-color: white;}#sk-container-id-1 pre{padding: 0;}#sk-container-id-1 div.sk-toggleable {background-color: white;}#sk-container-id-1 label.sk-toggleable__label {cursor: pointer;display: block;width: 100%;margin-bottom: 0;padding: 0.3em;box-sizing: border-box;text-align: center;}#sk-container-id-1 label.sk-toggleable__label-arrow:before {content: \"▸\";float: left;margin-right: 0.25em;color: #696969;}#sk-container-id-1 label.sk-toggleable__label-arrow:hover:before {color: black;}#sk-container-id-1 div.sk-estimator:hover label.sk-toggleable__label-arrow:before {color: black;}#sk-container-id-1 div.sk-toggleable__content {max-height: 0;max-width: 0;overflow: hidden;text-align: left;background-color: #f0f8ff;}#sk-container-id-1 div.sk-toggleable__content pre {margin: 0.2em;color: black;border-radius: 0.25em;background-color: #f0f8ff;}#sk-container-id-1 input.sk-toggleable__control:checked~div.sk-toggleable__content {max-height: 200px;max-width: 100%;overflow: auto;}#sk-container-id-1 input.sk-toggleable__control:checked~label.sk-toggleable__label-arrow:before {content: \"▾\";}#sk-container-id-1 div.sk-estimator input.sk-toggleable__control:checked~label.sk-toggleable__label {background-color: #d4ebff;}#sk-container-id-1 div.sk-label input.sk-toggleable__control:checked~label.sk-toggleable__label {background-color: #d4ebff;}#sk-container-id-1 input.sk-hidden--visually {border: 0;clip: rect(1px 1px 1px 1px);clip: rect(1px, 1px, 1px, 1px);height: 1px;margin: -1px;overflow: hidden;padding: 0;position: absolute;width: 1px;}#sk-container-id-1 div.sk-estimator {font-family: monospace;background-color: #f0f8ff;border: 1px dotted black;border-radius: 0.25em;box-sizing: border-box;margin-bottom: 0.5em;}#sk-container-id-1 div.sk-estimator:hover {background-color: #d4ebff;}#sk-container-id-1 div.sk-parallel-item::after {content: \"\";width: 100%;border-bottom: 1px solid gray;flex-grow: 1;}#sk-container-id-1 div.sk-label:hover label.sk-toggleable__label {background-color: #d4ebff;}#sk-container-id-1 div.sk-serial::before {content: \"\";position: absolute;border-left: 1px solid gray;box-sizing: border-box;top: 0;bottom: 0;left: 50%;z-index: 0;}#sk-container-id-1 div.sk-serial {display: flex;flex-direction: column;align-items: center;background-color: white;padding-right: 0.2em;padding-left: 0.2em;position: relative;}#sk-container-id-1 div.sk-item {position: relative;z-index: 1;}#sk-container-id-1 div.sk-parallel {display: flex;align-items: stretch;justify-content: center;background-color: white;position: relative;}#sk-container-id-1 div.sk-item::before, #sk-container-id-1 div.sk-parallel-item::before {content: \"\";position: absolute;border-left: 1px solid gray;box-sizing: border-box;top: 0;bottom: 0;left: 50%;z-index: -1;}#sk-container-id-1 div.sk-parallel-item {display: flex;flex-direction: column;z-index: 1;position: relative;background-color: white;}#sk-container-id-1 div.sk-parallel-item:first-child::after {align-self: flex-end;width: 50%;}#sk-container-id-1 div.sk-parallel-item:last-child::after {align-self: flex-start;width: 50%;}#sk-container-id-1 div.sk-parallel-item:only-child::after {width: 0;}#sk-container-id-1 div.sk-dashed-wrapped {border: 1px dashed gray;margin: 0 0.4em 0.5em 0.4em;box-sizing: border-box;padding-bottom: 0.4em;background-color: white;}#sk-container-id-1 div.sk-label label {font-family: monospace;font-weight: bold;display: inline-block;line-height: 1.2em;}#sk-container-id-1 div.sk-label-container {text-align: center;}#sk-container-id-1 div.sk-container {/* jupyter's `normalize.less` sets `[hidden] { display: none; }` but bootstrap.min.css set `[hidden] { display: none !important; }` so we also need the `!important` here to be able to override the default hidden behavior on the sphinx rendered scikit-learn.org. See: https://github.com/scikit-learn/scikit-learn/issues/21755 */display: inline-block !important;position: relative;}#sk-container-id-1 div.sk-text-repr-fallback {display: none;}</style><div id=\"sk-container-id-1\" class=\"sk-top-container\"><div class=\"sk-text-repr-fallback\"><pre>LogisticRegression(max_iter=10000, random_state=42)</pre><b>In a Jupyter environment, please rerun this cell to show the HTML representation or trust the notebook. <br />On GitHub, the HTML representation is unable to render, please try loading this page with nbviewer.org.</b></div><div class=\"sk-container\" hidden><div class=\"sk-item\"><div class=\"sk-estimator sk-toggleable\"><input class=\"sk-toggleable__control sk-hidden--visually\" id=\"sk-estimator-id-1\" type=\"checkbox\" checked><label for=\"sk-estimator-id-1\" class=\"sk-toggleable__label sk-toggleable__label-arrow\">LogisticRegression</label><div class=\"sk-toggleable__content\"><pre>LogisticRegression(max_iter=10000, random_state=42)</pre></div></div></div></div></div>"
      ],
      "text/plain": [
       "LogisticRegression(max_iter=10000, random_state=42)"
      ]
     },
     "execution_count": 68,
     "metadata": {},
     "output_type": "execute_result"
    }
   ],
   "source": [
    "logistic_regr.fit(X_train, y_train)"
   ]
  },
  {
   "cell_type": "code",
   "execution_count": 69,
   "id": "9efd7213",
   "metadata": {
    "execution": {
     "iopub.execute_input": "2024-03-02T13:24:49.804792Z",
     "iopub.status.busy": "2024-03-02T13:24:49.804386Z",
     "iopub.status.idle": "2024-03-02T13:24:49.810619Z",
     "shell.execute_reply": "2024-03-02T13:24:49.809579Z"
    },
    "papermill": {
     "duration": 0.03328,
     "end_time": "2024-03-02T13:24:49.812741",
     "exception": false,
     "start_time": "2024-03-02T13:24:49.779461",
     "status": "completed"
    },
    "tags": []
   },
   "outputs": [],
   "source": [
    "prediction = logistic_regr.predict(test_data)"
   ]
  },
  {
   "cell_type": "code",
   "execution_count": 70,
   "id": "555e41c0",
   "metadata": {
    "execution": {
     "iopub.execute_input": "2024-03-02T13:24:49.860845Z",
     "iopub.status.busy": "2024-03-02T13:24:49.860437Z",
     "iopub.status.idle": "2024-03-02T13:24:49.865799Z",
     "shell.execute_reply": "2024-03-02T13:24:49.864804Z"
    },
    "papermill": {
     "duration": 0.031838,
     "end_time": "2024-03-02T13:24:49.867967",
     "exception": false,
     "start_time": "2024-03-02T13:24:49.836129",
     "status": "completed"
    },
    "tags": []
   },
   "outputs": [],
   "source": [
    "values = {'PassengerId' : test_passenger_id, 'Survived' : prediction}\n",
    "output = pd.DataFrame(values)"
   ]
  },
  {
   "cell_type": "code",
   "execution_count": 71,
   "id": "09591bc2",
   "metadata": {
    "execution": {
     "iopub.execute_input": "2024-03-02T13:24:49.916875Z",
     "iopub.status.busy": "2024-03-02T13:24:49.916503Z",
     "iopub.status.idle": "2024-03-02T13:24:49.926291Z",
     "shell.execute_reply": "2024-03-02T13:24:49.925275Z"
    },
    "papermill": {
     "duration": 0.037188,
     "end_time": "2024-03-02T13:24:49.928731",
     "exception": false,
     "start_time": "2024-03-02T13:24:49.891543",
     "status": "completed"
    },
    "tags": []
   },
   "outputs": [
    {
     "data": {
      "text/html": [
       "<div>\n",
       "<style scoped>\n",
       "    .dataframe tbody tr th:only-of-type {\n",
       "        vertical-align: middle;\n",
       "    }\n",
       "\n",
       "    .dataframe tbody tr th {\n",
       "        vertical-align: top;\n",
       "    }\n",
       "\n",
       "    .dataframe thead th {\n",
       "        text-align: right;\n",
       "    }\n",
       "</style>\n",
       "<table border=\"1\" class=\"dataframe\">\n",
       "  <thead>\n",
       "    <tr style=\"text-align: right;\">\n",
       "      <th></th>\n",
       "      <th>PassengerId</th>\n",
       "      <th>Survived</th>\n",
       "    </tr>\n",
       "  </thead>\n",
       "  <tbody>\n",
       "    <tr>\n",
       "      <th>0</th>\n",
       "      <td>892</td>\n",
       "      <td>0</td>\n",
       "    </tr>\n",
       "    <tr>\n",
       "      <th>1</th>\n",
       "      <td>893</td>\n",
       "      <td>0</td>\n",
       "    </tr>\n",
       "    <tr>\n",
       "      <th>2</th>\n",
       "      <td>894</td>\n",
       "      <td>0</td>\n",
       "    </tr>\n",
       "    <tr>\n",
       "      <th>3</th>\n",
       "      <td>895</td>\n",
       "      <td>1</td>\n",
       "    </tr>\n",
       "    <tr>\n",
       "      <th>4</th>\n",
       "      <td>896</td>\n",
       "      <td>0</td>\n",
       "    </tr>\n",
       "    <tr>\n",
       "      <th>...</th>\n",
       "      <td>...</td>\n",
       "      <td>...</td>\n",
       "    </tr>\n",
       "    <tr>\n",
       "      <th>413</th>\n",
       "      <td>1305</td>\n",
       "      <td>0</td>\n",
       "    </tr>\n",
       "    <tr>\n",
       "      <th>414</th>\n",
       "      <td>1306</td>\n",
       "      <td>1</td>\n",
       "    </tr>\n",
       "    <tr>\n",
       "      <th>415</th>\n",
       "      <td>1307</td>\n",
       "      <td>0</td>\n",
       "    </tr>\n",
       "    <tr>\n",
       "      <th>416</th>\n",
       "      <td>1308</td>\n",
       "      <td>1</td>\n",
       "    </tr>\n",
       "    <tr>\n",
       "      <th>417</th>\n",
       "      <td>1309</td>\n",
       "      <td>1</td>\n",
       "    </tr>\n",
       "  </tbody>\n",
       "</table>\n",
       "<p>418 rows × 2 columns</p>\n",
       "</div>"
      ],
      "text/plain": [
       "     PassengerId  Survived\n",
       "0            892         0\n",
       "1            893         0\n",
       "2            894         0\n",
       "3            895         1\n",
       "4            896         0\n",
       "..           ...       ...\n",
       "413         1305         0\n",
       "414         1306         1\n",
       "415         1307         0\n",
       "416         1308         1\n",
       "417         1309         1\n",
       "\n",
       "[418 rows x 2 columns]"
      ]
     },
     "execution_count": 71,
     "metadata": {},
     "output_type": "execute_result"
    }
   ],
   "source": [
    "output"
   ]
  },
  {
   "cell_type": "code",
   "execution_count": 72,
   "id": "03cc0aab",
   "metadata": {
    "execution": {
     "iopub.execute_input": "2024-03-02T13:24:49.979124Z",
     "iopub.status.busy": "2024-03-02T13:24:49.978727Z",
     "iopub.status.idle": "2024-03-02T13:24:49.986347Z",
     "shell.execute_reply": "2024-03-02T13:24:49.985260Z"
    },
    "papermill": {
     "duration": 0.035515,
     "end_time": "2024-03-02T13:24:49.988721",
     "exception": false,
     "start_time": "2024-03-02T13:24:49.953206",
     "status": "completed"
    },
    "tags": []
   },
   "outputs": [],
   "source": [
    "output.to_csv(\"submission.csv\", index=False)"
   ]
  }
 ],
 "metadata": {
  "kaggle": {
   "accelerator": "none",
   "dataSources": [
    {
     "databundleVersionId": 26502,
     "sourceId": 3136,
     "sourceType": "competition"
    }
   ],
   "dockerImageVersionId": 30664,
   "isGpuEnabled": false,
   "isInternetEnabled": true,
   "language": "python",
   "sourceType": "notebook"
  },
  "kernelspec": {
   "display_name": "Python 3",
   "language": "python",
   "name": "python3"
  },
  "language_info": {
   "codemirror_mode": {
    "name": "ipython",
    "version": 3
   },
   "file_extension": ".py",
   "mimetype": "text/x-python",
   "name": "python",
   "nbconvert_exporter": "python",
   "pygments_lexer": "ipython3",
   "version": "3.10.13"
  },
  "papermill": {
   "default_parameters": {},
   "duration": 12.302777,
   "end_time": "2024-03-02T13:24:50.634196",
   "environment_variables": {},
   "exception": null,
   "input_path": "__notebook__.ipynb",
   "output_path": "__notebook__.ipynb",
   "parameters": {},
   "start_time": "2024-03-02T13:24:38.331419",
   "version": "2.5.0"
  }
 },
 "nbformat": 4,
 "nbformat_minor": 5
}
