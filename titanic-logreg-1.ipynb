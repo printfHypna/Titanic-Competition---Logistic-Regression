{
 "cells": [
  {
   "cell_type": "code",
   "execution_count": 1,
   "id": "5ea663fd",
   "metadata": {
    "_cell_guid": "b1076dfc-b9ad-4769-8c92-a6c4dae69d19",
    "_uuid": "8f2839f25d086af736a60e9eeb907d3b93b6e0e5",
    "execution": {
     "iopub.execute_input": "2024-03-06T11:32:44.271126Z",
     "iopub.status.busy": "2024-03-06T11:32:44.270574Z",
     "iopub.status.idle": "2024-03-06T11:32:46.883197Z",
     "shell.execute_reply": "2024-03-06T11:32:46.882181Z"
    },
    "papermill": {
     "duration": 2.639356,
     "end_time": "2024-03-06T11:32:46.886370",
     "exception": false,
     "start_time": "2024-03-06T11:32:44.247014",
     "status": "completed"
    },
    "tags": []
   },
   "outputs": [
    {
     "name": "stdout",
     "output_type": "stream",
     "text": [
      "/kaggle/input/titanic/train.csv\n",
      "/kaggle/input/titanic/test.csv\n",
      "/kaggle/input/titanic/gender_submission.csv\n"
     ]
    }
   ],
   "source": [
    "# This Python 3 environment comes with many helpful analytics libraries installed\n",
    "# It is defined by the kaggle/python Docker image: https://github.com/kaggle/docker-python\n",
    "# For example, here's several helpful packages to load\n",
    "\n",
    "import numpy as np # linear algebra\n",
    "import pandas as pd # data processing, CSV file I/O (e.g. pd.read_csv)\n",
    "import matplotlib.pyplot as plt\n",
    "import seaborn as sns\n",
    "\n",
    "# Input data files are available in the read-only \"../input/\" directory\n",
    "# For example, running this (by clicking run or pressing Shift+Enter) will list all files under the input directory\n",
    "\n",
    "import os\n",
    "for dirname, _, filenames in os.walk('/kaggle/input'):\n",
    "    for filename in filenames:\n",
    "        print(os.path.join(dirname, filename))\n",
    "\n",
    "# You can write up to 20GB to the current directory (/kaggle/working/) that gets preserved as output when you create a version using \"Save & Run All\" \n",
    "# You can also write temporary files to /kaggle/temp/, but they won't be saved outside of the current session"
   ]
  },
  {
   "cell_type": "markdown",
   "id": "06b5264a",
   "metadata": {
    "papermill": {
     "duration": 0.02026,
     "end_time": "2024-03-06T11:32:46.926843",
     "exception": false,
     "start_time": "2024-03-06T11:32:46.906583",
     "status": "completed"
    },
    "tags": []
   },
   "source": [
    "# Reading the CSV files"
   ]
  },
  {
   "cell_type": "code",
   "execution_count": 2,
   "id": "245899f1",
   "metadata": {
    "execution": {
     "iopub.execute_input": "2024-03-06T11:32:46.971012Z",
     "iopub.status.busy": "2024-03-06T11:32:46.970064Z",
     "iopub.status.idle": "2024-03-06T11:32:47.002037Z",
     "shell.execute_reply": "2024-03-06T11:32:47.000823Z"
    },
    "papermill": {
     "duration": 0.057149,
     "end_time": "2024-03-06T11:32:47.005579",
     "exception": false,
     "start_time": "2024-03-06T11:32:46.948430",
     "status": "completed"
    },
    "tags": []
   },
   "outputs": [],
   "source": [
    "train_data = pd.read_csv('/kaggle/input/titanic/train.csv')\n",
    "test_data = pd.read_csv('/kaggle/input/titanic/test.csv')"
   ]
  },
  {
   "cell_type": "markdown",
   "id": "54927e4e",
   "metadata": {
    "papermill": {
     "duration": 0.020311,
     "end_time": "2024-03-06T11:32:47.046340",
     "exception": false,
     "start_time": "2024-03-06T11:32:47.026029",
     "status": "completed"
    },
    "tags": []
   },
   "source": [
    "# Understanding the data"
   ]
  },
  {
   "cell_type": "code",
   "execution_count": 3,
   "id": "1297c357",
   "metadata": {
    "execution": {
     "iopub.execute_input": "2024-03-06T11:32:47.088123Z",
     "iopub.status.busy": "2024-03-06T11:32:47.087672Z",
     "iopub.status.idle": "2024-03-06T11:32:47.115252Z",
     "shell.execute_reply": "2024-03-06T11:32:47.114082Z"
    },
    "papermill": {
     "duration": 0.05175,
     "end_time": "2024-03-06T11:32:47.118139",
     "exception": false,
     "start_time": "2024-03-06T11:32:47.066389",
     "status": "completed"
    },
    "tags": []
   },
   "outputs": [
    {
     "data": {
      "text/html": [
       "<div>\n",
       "<style scoped>\n",
       "    .dataframe tbody tr th:only-of-type {\n",
       "        vertical-align: middle;\n",
       "    }\n",
       "\n",
       "    .dataframe tbody tr th {\n",
       "        vertical-align: top;\n",
       "    }\n",
       "\n",
       "    .dataframe thead th {\n",
       "        text-align: right;\n",
       "    }\n",
       "</style>\n",
       "<table border=\"1\" class=\"dataframe\">\n",
       "  <thead>\n",
       "    <tr style=\"text-align: right;\">\n",
       "      <th></th>\n",
       "      <th>PassengerId</th>\n",
       "      <th>Survived</th>\n",
       "      <th>Pclass</th>\n",
       "      <th>Name</th>\n",
       "      <th>Sex</th>\n",
       "      <th>Age</th>\n",
       "      <th>SibSp</th>\n",
       "      <th>Parch</th>\n",
       "      <th>Ticket</th>\n",
       "      <th>Fare</th>\n",
       "      <th>Cabin</th>\n",
       "      <th>Embarked</th>\n",
       "    </tr>\n",
       "  </thead>\n",
       "  <tbody>\n",
       "    <tr>\n",
       "      <th>0</th>\n",
       "      <td>1</td>\n",
       "      <td>0</td>\n",
       "      <td>3</td>\n",
       "      <td>Braund, Mr. Owen Harris</td>\n",
       "      <td>male</td>\n",
       "      <td>22.0</td>\n",
       "      <td>1</td>\n",
       "      <td>0</td>\n",
       "      <td>A/5 21171</td>\n",
       "      <td>7.2500</td>\n",
       "      <td>NaN</td>\n",
       "      <td>S</td>\n",
       "    </tr>\n",
       "    <tr>\n",
       "      <th>1</th>\n",
       "      <td>2</td>\n",
       "      <td>1</td>\n",
       "      <td>1</td>\n",
       "      <td>Cumings, Mrs. John Bradley (Florence Briggs Th...</td>\n",
       "      <td>female</td>\n",
       "      <td>38.0</td>\n",
       "      <td>1</td>\n",
       "      <td>0</td>\n",
       "      <td>PC 17599</td>\n",
       "      <td>71.2833</td>\n",
       "      <td>C85</td>\n",
       "      <td>C</td>\n",
       "    </tr>\n",
       "    <tr>\n",
       "      <th>2</th>\n",
       "      <td>3</td>\n",
       "      <td>1</td>\n",
       "      <td>3</td>\n",
       "      <td>Heikkinen, Miss. Laina</td>\n",
       "      <td>female</td>\n",
       "      <td>26.0</td>\n",
       "      <td>0</td>\n",
       "      <td>0</td>\n",
       "      <td>STON/O2. 3101282</td>\n",
       "      <td>7.9250</td>\n",
       "      <td>NaN</td>\n",
       "      <td>S</td>\n",
       "    </tr>\n",
       "    <tr>\n",
       "      <th>3</th>\n",
       "      <td>4</td>\n",
       "      <td>1</td>\n",
       "      <td>1</td>\n",
       "      <td>Futrelle, Mrs. Jacques Heath (Lily May Peel)</td>\n",
       "      <td>female</td>\n",
       "      <td>35.0</td>\n",
       "      <td>1</td>\n",
       "      <td>0</td>\n",
       "      <td>113803</td>\n",
       "      <td>53.1000</td>\n",
       "      <td>C123</td>\n",
       "      <td>S</td>\n",
       "    </tr>\n",
       "    <tr>\n",
       "      <th>4</th>\n",
       "      <td>5</td>\n",
       "      <td>0</td>\n",
       "      <td>3</td>\n",
       "      <td>Allen, Mr. William Henry</td>\n",
       "      <td>male</td>\n",
       "      <td>35.0</td>\n",
       "      <td>0</td>\n",
       "      <td>0</td>\n",
       "      <td>373450</td>\n",
       "      <td>8.0500</td>\n",
       "      <td>NaN</td>\n",
       "      <td>S</td>\n",
       "    </tr>\n",
       "  </tbody>\n",
       "</table>\n",
       "</div>"
      ],
      "text/plain": [
       "   PassengerId  Survived  Pclass  \\\n",
       "0            1         0       3   \n",
       "1            2         1       1   \n",
       "2            3         1       3   \n",
       "3            4         1       1   \n",
       "4            5         0       3   \n",
       "\n",
       "                                                Name     Sex   Age  SibSp  \\\n",
       "0                            Braund, Mr. Owen Harris    male  22.0      1   \n",
       "1  Cumings, Mrs. John Bradley (Florence Briggs Th...  female  38.0      1   \n",
       "2                             Heikkinen, Miss. Laina  female  26.0      0   \n",
       "3       Futrelle, Mrs. Jacques Heath (Lily May Peel)  female  35.0      1   \n",
       "4                           Allen, Mr. William Henry    male  35.0      0   \n",
       "\n",
       "   Parch            Ticket     Fare Cabin Embarked  \n",
       "0      0         A/5 21171   7.2500   NaN        S  \n",
       "1      0          PC 17599  71.2833   C85        C  \n",
       "2      0  STON/O2. 3101282   7.9250   NaN        S  \n",
       "3      0            113803  53.1000  C123        S  \n",
       "4      0            373450   8.0500   NaN        S  "
      ]
     },
     "execution_count": 3,
     "metadata": {},
     "output_type": "execute_result"
    }
   ],
   "source": [
    "train_data.head()"
   ]
  },
  {
   "cell_type": "code",
   "execution_count": 4,
   "id": "e148cedd",
   "metadata": {
    "execution": {
     "iopub.execute_input": "2024-03-06T11:32:47.162456Z",
     "iopub.status.busy": "2024-03-06T11:32:47.161654Z",
     "iopub.status.idle": "2024-03-06T11:32:47.179018Z",
     "shell.execute_reply": "2024-03-06T11:32:47.177818Z"
    },
    "papermill": {
     "duration": 0.042174,
     "end_time": "2024-03-06T11:32:47.181720",
     "exception": false,
     "start_time": "2024-03-06T11:32:47.139546",
     "status": "completed"
    },
    "tags": []
   },
   "outputs": [
    {
     "data": {
      "text/html": [
       "<div>\n",
       "<style scoped>\n",
       "    .dataframe tbody tr th:only-of-type {\n",
       "        vertical-align: middle;\n",
       "    }\n",
       "\n",
       "    .dataframe tbody tr th {\n",
       "        vertical-align: top;\n",
       "    }\n",
       "\n",
       "    .dataframe thead th {\n",
       "        text-align: right;\n",
       "    }\n",
       "</style>\n",
       "<table border=\"1\" class=\"dataframe\">\n",
       "  <thead>\n",
       "    <tr style=\"text-align: right;\">\n",
       "      <th></th>\n",
       "      <th>PassengerId</th>\n",
       "      <th>Pclass</th>\n",
       "      <th>Name</th>\n",
       "      <th>Sex</th>\n",
       "      <th>Age</th>\n",
       "      <th>SibSp</th>\n",
       "      <th>Parch</th>\n",
       "      <th>Ticket</th>\n",
       "      <th>Fare</th>\n",
       "      <th>Cabin</th>\n",
       "      <th>Embarked</th>\n",
       "    </tr>\n",
       "  </thead>\n",
       "  <tbody>\n",
       "    <tr>\n",
       "      <th>0</th>\n",
       "      <td>892</td>\n",
       "      <td>3</td>\n",
       "      <td>Kelly, Mr. James</td>\n",
       "      <td>male</td>\n",
       "      <td>34.5</td>\n",
       "      <td>0</td>\n",
       "      <td>0</td>\n",
       "      <td>330911</td>\n",
       "      <td>7.8292</td>\n",
       "      <td>NaN</td>\n",
       "      <td>Q</td>\n",
       "    </tr>\n",
       "    <tr>\n",
       "      <th>1</th>\n",
       "      <td>893</td>\n",
       "      <td>3</td>\n",
       "      <td>Wilkes, Mrs. James (Ellen Needs)</td>\n",
       "      <td>female</td>\n",
       "      <td>47.0</td>\n",
       "      <td>1</td>\n",
       "      <td>0</td>\n",
       "      <td>363272</td>\n",
       "      <td>7.0000</td>\n",
       "      <td>NaN</td>\n",
       "      <td>S</td>\n",
       "    </tr>\n",
       "    <tr>\n",
       "      <th>2</th>\n",
       "      <td>894</td>\n",
       "      <td>2</td>\n",
       "      <td>Myles, Mr. Thomas Francis</td>\n",
       "      <td>male</td>\n",
       "      <td>62.0</td>\n",
       "      <td>0</td>\n",
       "      <td>0</td>\n",
       "      <td>240276</td>\n",
       "      <td>9.6875</td>\n",
       "      <td>NaN</td>\n",
       "      <td>Q</td>\n",
       "    </tr>\n",
       "    <tr>\n",
       "      <th>3</th>\n",
       "      <td>895</td>\n",
       "      <td>3</td>\n",
       "      <td>Wirz, Mr. Albert</td>\n",
       "      <td>male</td>\n",
       "      <td>27.0</td>\n",
       "      <td>0</td>\n",
       "      <td>0</td>\n",
       "      <td>315154</td>\n",
       "      <td>8.6625</td>\n",
       "      <td>NaN</td>\n",
       "      <td>S</td>\n",
       "    </tr>\n",
       "    <tr>\n",
       "      <th>4</th>\n",
       "      <td>896</td>\n",
       "      <td>3</td>\n",
       "      <td>Hirvonen, Mrs. Alexander (Helga E Lindqvist)</td>\n",
       "      <td>female</td>\n",
       "      <td>22.0</td>\n",
       "      <td>1</td>\n",
       "      <td>1</td>\n",
       "      <td>3101298</td>\n",
       "      <td>12.2875</td>\n",
       "      <td>NaN</td>\n",
       "      <td>S</td>\n",
       "    </tr>\n",
       "  </tbody>\n",
       "</table>\n",
       "</div>"
      ],
      "text/plain": [
       "   PassengerId  Pclass                                          Name     Sex  \\\n",
       "0          892       3                              Kelly, Mr. James    male   \n",
       "1          893       3              Wilkes, Mrs. James (Ellen Needs)  female   \n",
       "2          894       2                     Myles, Mr. Thomas Francis    male   \n",
       "3          895       3                              Wirz, Mr. Albert    male   \n",
       "4          896       3  Hirvonen, Mrs. Alexander (Helga E Lindqvist)  female   \n",
       "\n",
       "    Age  SibSp  Parch   Ticket     Fare Cabin Embarked  \n",
       "0  34.5      0      0   330911   7.8292   NaN        Q  \n",
       "1  47.0      1      0   363272   7.0000   NaN        S  \n",
       "2  62.0      0      0   240276   9.6875   NaN        Q  \n",
       "3  27.0      0      0   315154   8.6625   NaN        S  \n",
       "4  22.0      1      1  3101298  12.2875   NaN        S  "
      ]
     },
     "execution_count": 4,
     "metadata": {},
     "output_type": "execute_result"
    }
   ],
   "source": [
    "test_data.head()"
   ]
  },
  {
   "cell_type": "code",
   "execution_count": 5,
   "id": "7d8bc8d4",
   "metadata": {
    "execution": {
     "iopub.execute_input": "2024-03-06T11:32:47.225698Z",
     "iopub.status.busy": "2024-03-06T11:32:47.225293Z",
     "iopub.status.idle": "2024-03-06T11:32:47.253282Z",
     "shell.execute_reply": "2024-03-06T11:32:47.252123Z"
    },
    "papermill": {
     "duration": 0.053409,
     "end_time": "2024-03-06T11:32:47.256153",
     "exception": false,
     "start_time": "2024-03-06T11:32:47.202744",
     "status": "completed"
    },
    "tags": []
   },
   "outputs": [
    {
     "name": "stdout",
     "output_type": "stream",
     "text": [
      "<class 'pandas.core.frame.DataFrame'>\n",
      "RangeIndex: 891 entries, 0 to 890\n",
      "Data columns (total 12 columns):\n",
      " #   Column       Non-Null Count  Dtype  \n",
      "---  ------       --------------  -----  \n",
      " 0   PassengerId  891 non-null    int64  \n",
      " 1   Survived     891 non-null    int64  \n",
      " 2   Pclass       891 non-null    int64  \n",
      " 3   Name         891 non-null    object \n",
      " 4   Sex          891 non-null    object \n",
      " 5   Age          714 non-null    float64\n",
      " 6   SibSp        891 non-null    int64  \n",
      " 7   Parch        891 non-null    int64  \n",
      " 8   Ticket       891 non-null    object \n",
      " 9   Fare         891 non-null    float64\n",
      " 10  Cabin        204 non-null    object \n",
      " 11  Embarked     889 non-null    object \n",
      "dtypes: float64(2), int64(5), object(5)\n",
      "memory usage: 83.7+ KB\n"
     ]
    }
   ],
   "source": [
    "train_data.info()"
   ]
  },
  {
   "cell_type": "code",
   "execution_count": 6,
   "id": "3bff40d0",
   "metadata": {
    "execution": {
     "iopub.execute_input": "2024-03-06T11:32:47.300286Z",
     "iopub.status.busy": "2024-03-06T11:32:47.299537Z",
     "iopub.status.idle": "2024-03-06T11:32:47.333380Z",
     "shell.execute_reply": "2024-03-06T11:32:47.332422Z"
    },
    "papermill": {
     "duration": 0.059104,
     "end_time": "2024-03-06T11:32:47.336144",
     "exception": false,
     "start_time": "2024-03-06T11:32:47.277040",
     "status": "completed"
    },
    "tags": []
   },
   "outputs": [
    {
     "data": {
      "text/html": [
       "<div>\n",
       "<style scoped>\n",
       "    .dataframe tbody tr th:only-of-type {\n",
       "        vertical-align: middle;\n",
       "    }\n",
       "\n",
       "    .dataframe tbody tr th {\n",
       "        vertical-align: top;\n",
       "    }\n",
       "\n",
       "    .dataframe thead th {\n",
       "        text-align: right;\n",
       "    }\n",
       "</style>\n",
       "<table border=\"1\" class=\"dataframe\">\n",
       "  <thead>\n",
       "    <tr style=\"text-align: right;\">\n",
       "      <th></th>\n",
       "      <th>PassengerId</th>\n",
       "      <th>Survived</th>\n",
       "      <th>Pclass</th>\n",
       "      <th>Age</th>\n",
       "      <th>SibSp</th>\n",
       "      <th>Parch</th>\n",
       "      <th>Fare</th>\n",
       "    </tr>\n",
       "  </thead>\n",
       "  <tbody>\n",
       "    <tr>\n",
       "      <th>count</th>\n",
       "      <td>891.000000</td>\n",
       "      <td>891.000000</td>\n",
       "      <td>891.000000</td>\n",
       "      <td>714.000000</td>\n",
       "      <td>891.000000</td>\n",
       "      <td>891.000000</td>\n",
       "      <td>891.000000</td>\n",
       "    </tr>\n",
       "    <tr>\n",
       "      <th>mean</th>\n",
       "      <td>446.000000</td>\n",
       "      <td>0.383838</td>\n",
       "      <td>2.308642</td>\n",
       "      <td>29.699118</td>\n",
       "      <td>0.523008</td>\n",
       "      <td>0.381594</td>\n",
       "      <td>32.204208</td>\n",
       "    </tr>\n",
       "    <tr>\n",
       "      <th>std</th>\n",
       "      <td>257.353842</td>\n",
       "      <td>0.486592</td>\n",
       "      <td>0.836071</td>\n",
       "      <td>14.526497</td>\n",
       "      <td>1.102743</td>\n",
       "      <td>0.806057</td>\n",
       "      <td>49.693429</td>\n",
       "    </tr>\n",
       "    <tr>\n",
       "      <th>min</th>\n",
       "      <td>1.000000</td>\n",
       "      <td>0.000000</td>\n",
       "      <td>1.000000</td>\n",
       "      <td>0.420000</td>\n",
       "      <td>0.000000</td>\n",
       "      <td>0.000000</td>\n",
       "      <td>0.000000</td>\n",
       "    </tr>\n",
       "    <tr>\n",
       "      <th>25%</th>\n",
       "      <td>223.500000</td>\n",
       "      <td>0.000000</td>\n",
       "      <td>2.000000</td>\n",
       "      <td>20.125000</td>\n",
       "      <td>0.000000</td>\n",
       "      <td>0.000000</td>\n",
       "      <td>7.910400</td>\n",
       "    </tr>\n",
       "    <tr>\n",
       "      <th>50%</th>\n",
       "      <td>446.000000</td>\n",
       "      <td>0.000000</td>\n",
       "      <td>3.000000</td>\n",
       "      <td>28.000000</td>\n",
       "      <td>0.000000</td>\n",
       "      <td>0.000000</td>\n",
       "      <td>14.454200</td>\n",
       "    </tr>\n",
       "    <tr>\n",
       "      <th>75%</th>\n",
       "      <td>668.500000</td>\n",
       "      <td>1.000000</td>\n",
       "      <td>3.000000</td>\n",
       "      <td>38.000000</td>\n",
       "      <td>1.000000</td>\n",
       "      <td>0.000000</td>\n",
       "      <td>31.000000</td>\n",
       "    </tr>\n",
       "    <tr>\n",
       "      <th>max</th>\n",
       "      <td>891.000000</td>\n",
       "      <td>1.000000</td>\n",
       "      <td>3.000000</td>\n",
       "      <td>80.000000</td>\n",
       "      <td>8.000000</td>\n",
       "      <td>6.000000</td>\n",
       "      <td>512.329200</td>\n",
       "    </tr>\n",
       "  </tbody>\n",
       "</table>\n",
       "</div>"
      ],
      "text/plain": [
       "       PassengerId    Survived      Pclass         Age       SibSp  \\\n",
       "count   891.000000  891.000000  891.000000  714.000000  891.000000   \n",
       "mean    446.000000    0.383838    2.308642   29.699118    0.523008   \n",
       "std     257.353842    0.486592    0.836071   14.526497    1.102743   \n",
       "min       1.000000    0.000000    1.000000    0.420000    0.000000   \n",
       "25%     223.500000    0.000000    2.000000   20.125000    0.000000   \n",
       "50%     446.000000    0.000000    3.000000   28.000000    0.000000   \n",
       "75%     668.500000    1.000000    3.000000   38.000000    1.000000   \n",
       "max     891.000000    1.000000    3.000000   80.000000    8.000000   \n",
       "\n",
       "            Parch        Fare  \n",
       "count  891.000000  891.000000  \n",
       "mean     0.381594   32.204208  \n",
       "std      0.806057   49.693429  \n",
       "min      0.000000    0.000000  \n",
       "25%      0.000000    7.910400  \n",
       "50%      0.000000   14.454200  \n",
       "75%      0.000000   31.000000  \n",
       "max      6.000000  512.329200  "
      ]
     },
     "execution_count": 6,
     "metadata": {},
     "output_type": "execute_result"
    }
   ],
   "source": [
    "train_data.describe()"
   ]
  },
  {
   "cell_type": "code",
   "execution_count": 7,
   "id": "78a42954",
   "metadata": {
    "execution": {
     "iopub.execute_input": "2024-03-06T11:32:47.381170Z",
     "iopub.status.busy": "2024-03-06T11:32:47.380748Z",
     "iopub.status.idle": "2024-03-06T11:32:47.390842Z",
     "shell.execute_reply": "2024-03-06T11:32:47.389580Z"
    },
    "papermill": {
     "duration": 0.035828,
     "end_time": "2024-03-06T11:32:47.393442",
     "exception": false,
     "start_time": "2024-03-06T11:32:47.357614",
     "status": "completed"
    },
    "tags": []
   },
   "outputs": [
    {
     "data": {
      "text/plain": [
       "PassengerId      0\n",
       "Survived         0\n",
       "Pclass           0\n",
       "Name             0\n",
       "Sex              0\n",
       "Age            177\n",
       "SibSp            0\n",
       "Parch            0\n",
       "Ticket           0\n",
       "Fare             0\n",
       "Cabin          687\n",
       "Embarked         2\n",
       "dtype: int64"
      ]
     },
     "execution_count": 7,
     "metadata": {},
     "output_type": "execute_result"
    }
   ],
   "source": [
    "train_data.isnull().sum()"
   ]
  },
  {
   "cell_type": "code",
   "execution_count": 8,
   "id": "b2ff3d27",
   "metadata": {
    "execution": {
     "iopub.execute_input": "2024-03-06T11:32:47.438620Z",
     "iopub.status.busy": "2024-03-06T11:32:47.438198Z",
     "iopub.status.idle": "2024-03-06T11:32:47.448286Z",
     "shell.execute_reply": "2024-03-06T11:32:47.447074Z"
    },
    "papermill": {
     "duration": 0.035954,
     "end_time": "2024-03-06T11:32:47.450955",
     "exception": false,
     "start_time": "2024-03-06T11:32:47.415001",
     "status": "completed"
    },
    "tags": []
   },
   "outputs": [
    {
     "data": {
      "text/plain": [
       "PassengerId      0\n",
       "Pclass           0\n",
       "Name             0\n",
       "Sex              0\n",
       "Age             86\n",
       "SibSp            0\n",
       "Parch            0\n",
       "Ticket           0\n",
       "Fare             1\n",
       "Cabin          327\n",
       "Embarked         0\n",
       "dtype: int64"
      ]
     },
     "execution_count": 8,
     "metadata": {},
     "output_type": "execute_result"
    }
   ],
   "source": [
    "test_data.isnull().sum()"
   ]
  },
  {
   "cell_type": "code",
   "execution_count": 9,
   "id": "c503f3df",
   "metadata": {
    "execution": {
     "iopub.execute_input": "2024-03-06T11:32:47.498405Z",
     "iopub.status.busy": "2024-03-06T11:32:47.497635Z",
     "iopub.status.idle": "2024-03-06T11:32:48.151976Z",
     "shell.execute_reply": "2024-03-06T11:32:48.150477Z"
    },
    "papermill": {
     "duration": 0.681766,
     "end_time": "2024-03-06T11:32:48.155366",
     "exception": false,
     "start_time": "2024-03-06T11:32:47.473600",
     "status": "completed"
    },
    "tags": []
   },
   "outputs": [
    {
     "data": {
      "text/plain": [
       "<Axes: xlabel='SibSp'>"
      ]
     },
     "execution_count": 9,
     "metadata": {},
     "output_type": "execute_result"
    },
    {
     "data": {
      "image/png": "[encoded data removed]",
      "text/plain": [
       "<Figure size 1600x600 with 3 Axes>"
      ]
     },
     "metadata": {},
     "output_type": "display_data"
    }
   ],
   "source": [
    "fig, axs = plt.subplots(ncols=3, figsize=(16,6))\n",
    "sns.boxplot(data=train_data, x='Pclass', ax=axs[0])\n",
    "sns.boxplot(data=train_data, x='Age', ax=axs[1])\n",
    "sns.boxplot(data=train_data, x='SibSp', ax=axs[2])"
   ]
  },
  {
   "cell_type": "code",
   "execution_count": 10,
   "id": "f964d2b6",
   "metadata": {
    "execution": {
     "iopub.execute_input": "2024-03-06T11:32:48.207000Z",
     "iopub.status.busy": "2024-03-06T11:32:48.206219Z",
     "iopub.status.idle": "2024-03-06T11:32:48.608875Z",
     "shell.execute_reply": "2024-03-06T11:32:48.607583Z"
    },
    "papermill": {
     "duration": 0.432417,
     "end_time": "2024-03-06T11:32:48.611835",
     "exception": false,
     "start_time": "2024-03-06T11:32:48.179418",
     "status": "completed"
    },
    "tags": []
   },
   "outputs": [
    {
     "data": {
      "text/plain": [
       "<Axes: xlabel='Fare'>"
      ]
     },
     "execution_count": 10,
     "metadata": {},
     "output_type": "execute_result"
    },
    {
     "data": {
      "image/png": "[encoded data removed]",
      "text/plain": [
       "<Figure size 1600x600 with 2 Axes>"
      ]
     },
     "metadata": {},
     "output_type": "display_data"
    }
   ],
   "source": [
    "fig, axs = plt.subplots(ncols=2, figsize=(16,6))\n",
    "sns.boxplot(data=train_data, x='Parch', ax=axs[0])\n",
    "sns.boxplot(data=train_data, x='Fare', ax=axs[1])"
   ]
  },
  {
   "cell_type": "markdown",
   "id": "8067f4c3",
   "metadata": {
    "papermill": {
     "duration": 0.022736,
     "end_time": "2024-03-06T11:32:48.657478",
     "exception": false,
     "start_time": "2024-03-06T11:32:48.634742",
     "status": "completed"
    },
    "tags": []
   },
   "source": [
    "# Feature Engineering"
   ]
  },
  {
   "cell_type": "code",
   "execution_count": 11,
   "id": "c2bba5d9",
   "metadata": {
    "execution": {
     "iopub.execute_input": "2024-03-06T11:32:48.706261Z",
     "iopub.status.busy": "2024-03-06T11:32:48.705781Z",
     "iopub.status.idle": "2024-03-06T11:32:48.714374Z",
     "shell.execute_reply": "2024-03-06T11:32:48.712959Z"
    },
    "papermill": {
     "duration": 0.036814,
     "end_time": "2024-03-06T11:32:48.717444",
     "exception": false,
     "start_time": "2024-03-06T11:32:48.680630",
     "status": "completed"
    },
    "tags": []
   },
   "outputs": [],
   "source": [
    "train_data['FamilySize'] = train_data['SibSp'] + train_data['Parch'] + 1\n",
    "test_data['FamilySize'] = test_data['SibSp'] + test_data['Parch'] + 1"
   ]
  },
  {
   "cell_type": "markdown",
   "id": "e0fcdbf3",
   "metadata": {
    "papermill": {
     "duration": 0.022483,
     "end_time": "2024-03-06T11:32:48.762630",
     "exception": false,
     "start_time": "2024-03-06T11:32:48.740147",
     "status": "completed"
    },
    "tags": []
   },
   "source": [
    "# Handling missing values"
   ]
  },
  {
   "cell_type": "code",
   "execution_count": 12,
   "id": "f7189d38",
   "metadata": {
    "execution": {
     "iopub.execute_input": "2024-03-06T11:32:48.811094Z",
     "iopub.status.busy": "2024-03-06T11:32:48.810221Z",
     "iopub.status.idle": "2024-03-06T11:32:48.821866Z",
     "shell.execute_reply": "2024-03-06T11:32:48.820512Z"
    },
    "papermill": {
     "duration": 0.039032,
     "end_time": "2024-03-06T11:32:48.824764",
     "exception": false,
     "start_time": "2024-03-06T11:32:48.785732",
     "status": "completed"
    },
    "tags": []
   },
   "outputs": [],
   "source": [
    "test_passenger_id = test_data['PassengerId']\n",
    "train_data = train_data.drop(['Parch', 'Cabin', 'Name', 'Ticket', 'PassengerId', 'SibSp'], axis=1)\n",
    "test_data = test_data.drop(['Parch', 'Cabin', 'Name', 'Ticket', 'PassengerId', 'SibSp'], axis=1)"
   ]
  },
  {
   "cell_type": "code",
   "execution_count": 13,
   "id": "d67379c9",
   "metadata": {
    "execution": {
     "iopub.execute_input": "2024-03-06T11:32:48.874225Z",
     "iopub.status.busy": "2024-03-06T11:32:48.872759Z",
     "iopub.status.idle": "2024-03-06T11:32:48.888020Z",
     "shell.execute_reply": "2024-03-06T11:32:48.887096Z"
    },
    "papermill": {
     "duration": 0.041594,
     "end_time": "2024-03-06T11:32:48.890305",
     "exception": false,
     "start_time": "2024-03-06T11:32:48.848711",
     "status": "completed"
    },
    "tags": []
   },
   "outputs": [
    {
     "data": {
      "text/html": [
       "<div>\n",
       "<style scoped>\n",
       "    .dataframe tbody tr th:only-of-type {\n",
       "        vertical-align: middle;\n",
       "    }\n",
       "\n",
       "    .dataframe tbody tr th {\n",
       "        vertical-align: top;\n",
       "    }\n",
       "\n",
       "    .dataframe thead th {\n",
       "        text-align: right;\n",
       "    }\n",
       "</style>\n",
       "<table border=\"1\" class=\"dataframe\">\n",
       "  <thead>\n",
       "    <tr style=\"text-align: right;\">\n",
       "      <th></th>\n",
       "      <th>Survived</th>\n",
       "      <th>Pclass</th>\n",
       "      <th>Sex</th>\n",
       "      <th>Age</th>\n",
       "      <th>Fare</th>\n",
       "      <th>Embarked</th>\n",
       "      <th>FamilySize</th>\n",
       "    </tr>\n",
       "  </thead>\n",
       "  <tbody>\n",
       "    <tr>\n",
       "      <th>0</th>\n",
       "      <td>0</td>\n",
       "      <td>3</td>\n",
       "      <td>male</td>\n",
       "      <td>22.0</td>\n",
       "      <td>7.2500</td>\n",
       "      <td>S</td>\n",
       "      <td>2</td>\n",
       "    </tr>\n",
       "    <tr>\n",
       "      <th>1</th>\n",
       "      <td>1</td>\n",
       "      <td>1</td>\n",
       "      <td>female</td>\n",
       "      <td>38.0</td>\n",
       "      <td>71.2833</td>\n",
       "      <td>C</td>\n",
       "      <td>2</td>\n",
       "    </tr>\n",
       "    <tr>\n",
       "      <th>2</th>\n",
       "      <td>1</td>\n",
       "      <td>3</td>\n",
       "      <td>female</td>\n",
       "      <td>26.0</td>\n",
       "      <td>7.9250</td>\n",
       "      <td>S</td>\n",
       "      <td>1</td>\n",
       "    </tr>\n",
       "    <tr>\n",
       "      <th>3</th>\n",
       "      <td>1</td>\n",
       "      <td>1</td>\n",
       "      <td>female</td>\n",
       "      <td>35.0</td>\n",
       "      <td>53.1000</td>\n",
       "      <td>S</td>\n",
       "      <td>2</td>\n",
       "    </tr>\n",
       "    <tr>\n",
       "      <th>4</th>\n",
       "      <td>0</td>\n",
       "      <td>3</td>\n",
       "      <td>male</td>\n",
       "      <td>35.0</td>\n",
       "      <td>8.0500</td>\n",
       "      <td>S</td>\n",
       "      <td>1</td>\n",
       "    </tr>\n",
       "  </tbody>\n",
       "</table>\n",
       "</div>"
      ],
      "text/plain": [
       "   Survived  Pclass     Sex   Age     Fare Embarked  FamilySize\n",
       "0         0       3    male  22.0   7.2500        S           2\n",
       "1         1       1  female  38.0  71.2833        C           2\n",
       "2         1       3  female  26.0   7.9250        S           1\n",
       "3         1       1  female  35.0  53.1000        S           2\n",
       "4         0       3    male  35.0   8.0500        S           1"
      ]
     },
     "execution_count": 13,
     "metadata": {},
     "output_type": "execute_result"
    }
   ],
   "source": [
    "train_data.head()"
   ]
  },
  {
   "cell_type": "code",
   "execution_count": 14,
   "id": "b1f95d3f",
   "metadata": {
    "execution": {
     "iopub.execute_input": "2024-03-06T11:32:48.938972Z",
     "iopub.status.busy": "2024-03-06T11:32:48.937501Z",
     "iopub.status.idle": "2024-03-06T11:32:48.945713Z",
     "shell.execute_reply": "2024-03-06T11:32:48.944534Z"
    },
    "papermill": {
     "duration": 0.035016,
     "end_time": "2024-03-06T11:32:48.948030",
     "exception": false,
     "start_time": "2024-03-06T11:32:48.913014",
     "status": "completed"
    },
    "tags": []
   },
   "outputs": [
    {
     "data": {
      "text/plain": [
       "(891, 7)"
      ]
     },
     "execution_count": 14,
     "metadata": {},
     "output_type": "execute_result"
    }
   ],
   "source": [
    "train_data.shape"
   ]
  },
  {
   "cell_type": "code",
   "execution_count": 15,
   "id": "cc4d9573",
   "metadata": {
    "execution": {
     "iopub.execute_input": "2024-03-06T11:32:48.999887Z",
     "iopub.status.busy": "2024-03-06T11:32:48.998593Z",
     "iopub.status.idle": "2024-03-06T11:32:49.006875Z",
     "shell.execute_reply": "2024-03-06T11:32:49.005677Z"
    },
    "papermill": {
     "duration": 0.037785,
     "end_time": "2024-03-06T11:32:49.009671",
     "exception": false,
     "start_time": "2024-03-06T11:32:48.971886",
     "status": "completed"
    },
    "tags": []
   },
   "outputs": [
    {
     "data": {
      "text/plain": [
       "(418, 6)"
      ]
     },
     "execution_count": 15,
     "metadata": {},
     "output_type": "execute_result"
    }
   ],
   "source": [
    "test_data.shape"
   ]
  },
  {
   "cell_type": "code",
   "execution_count": 16,
   "id": "939a1ec1",
   "metadata": {
    "execution": {
     "iopub.execute_input": "2024-03-06T11:32:49.061272Z",
     "iopub.status.busy": "2024-03-06T11:32:49.059903Z",
     "iopub.status.idle": "2024-03-06T11:32:49.070747Z",
     "shell.execute_reply": "2024-03-06T11:32:49.069517Z"
    },
    "papermill": {
     "duration": 0.03985,
     "end_time": "2024-03-06T11:32:49.073582",
     "exception": false,
     "start_time": "2024-03-06T11:32:49.033732",
     "status": "completed"
    },
    "tags": []
   },
   "outputs": [
    {
     "data": {
      "text/plain": [
       "Survived        0\n",
       "Pclass          0\n",
       "Sex             0\n",
       "Age           177\n",
       "Fare            0\n",
       "Embarked        2\n",
       "FamilySize      0\n",
       "dtype: int64"
      ]
     },
     "execution_count": 16,
     "metadata": {},
     "output_type": "execute_result"
    }
   ],
   "source": [
    "train_data.isnull().sum()"
   ]
  },
  {
   "cell_type": "code",
   "execution_count": 17,
   "id": "764aa9fe",
   "metadata": {
    "execution": {
     "iopub.execute_input": "2024-03-06T11:32:49.227747Z",
     "iopub.status.busy": "2024-03-06T11:32:49.227316Z",
     "iopub.status.idle": "2024-03-06T11:32:49.233389Z",
     "shell.execute_reply": "2024-03-06T11:32:49.232105Z"
    },
    "papermill": {
     "duration": 0.137451,
     "end_time": "2024-03-06T11:32:49.235678",
     "exception": false,
     "start_time": "2024-03-06T11:32:49.098227",
     "status": "completed"
    },
    "tags": []
   },
   "outputs": [],
   "source": [
    "train_age_median = train_data['Age'].median()"
   ]
  },
  {
   "cell_type": "code",
   "execution_count": 18,
   "id": "6b291444",
   "metadata": {
    "execution": {
     "iopub.execute_input": "2024-03-06T11:32:49.287646Z",
     "iopub.status.busy": "2024-03-06T11:32:49.286831Z",
     "iopub.status.idle": "2024-03-06T11:32:49.293672Z",
     "shell.execute_reply": "2024-03-06T11:32:49.292623Z"
    },
    "papermill": {
     "duration": 0.036072,
     "end_time": "2024-03-06T11:32:49.296371",
     "exception": false,
     "start_time": "2024-03-06T11:32:49.260299",
     "status": "completed"
    },
    "tags": []
   },
   "outputs": [],
   "source": [
    "values = {'Age': train_age_median}\n",
    "train_data = train_data.fillna(value=values)"
   ]
  },
  {
   "cell_type": "code",
   "execution_count": 19,
   "id": "2095b79a",
   "metadata": {
    "execution": {
     "iopub.execute_input": "2024-03-06T11:32:49.363753Z",
     "iopub.status.busy": "2024-03-06T11:32:49.363289Z",
     "iopub.status.idle": "2024-03-06T11:32:49.374697Z",
     "shell.execute_reply": "2024-03-06T11:32:49.373813Z"
    },
    "papermill": {
     "duration": 0.050549,
     "end_time": "2024-03-06T11:32:49.378485",
     "exception": false,
     "start_time": "2024-03-06T11:32:49.327936",
     "status": "completed"
    },
    "tags": []
   },
   "outputs": [
    {
     "data": {
      "text/plain": [
       "Survived      0\n",
       "Pclass        0\n",
       "Sex           0\n",
       "Age           0\n",
       "Fare          0\n",
       "Embarked      2\n",
       "FamilySize    0\n",
       "dtype: int64"
      ]
     },
     "execution_count": 19,
     "metadata": {},
     "output_type": "execute_result"
    }
   ],
   "source": [
    "train_data.isnull().sum()"
   ]
  },
  {
   "cell_type": "code",
   "execution_count": 20,
   "id": "dbe56ea7",
   "metadata": {
    "execution": {
     "iopub.execute_input": "2024-03-06T11:32:49.452247Z",
     "iopub.status.busy": "2024-03-06T11:32:49.451281Z",
     "iopub.status.idle": "2024-03-06T11:32:49.461754Z",
     "shell.execute_reply": "2024-03-06T11:32:49.460258Z"
    },
    "papermill": {
     "duration": 0.052604,
     "end_time": "2024-03-06T11:32:49.465570",
     "exception": false,
     "start_time": "2024-03-06T11:32:49.412966",
     "status": "completed"
    },
    "tags": []
   },
   "outputs": [
    {
     "data": {
      "text/plain": [
       "Pclass         0\n",
       "Sex            0\n",
       "Age           86\n",
       "Fare           1\n",
       "Embarked       0\n",
       "FamilySize     0\n",
       "dtype: int64"
      ]
     },
     "execution_count": 20,
     "metadata": {},
     "output_type": "execute_result"
    }
   ],
   "source": [
    "test_data.isnull().sum()"
   ]
  },
  {
   "cell_type": "code",
   "execution_count": 21,
   "id": "37603dd8",
   "metadata": {
    "execution": {
     "iopub.execute_input": "2024-03-06T11:32:49.518012Z",
     "iopub.status.busy": "2024-03-06T11:32:49.517390Z",
     "iopub.status.idle": "2024-03-06T11:32:49.911757Z",
     "shell.execute_reply": "2024-03-06T11:32:49.910236Z"
    },
    "papermill": {
     "duration": 0.423032,
     "end_time": "2024-03-06T11:32:49.914376",
     "exception": false,
     "start_time": "2024-03-06T11:32:49.491344",
     "status": "completed"
    },
    "tags": []
   },
   "outputs": [
    {
     "data": {
      "text/plain": [
       "<Axes: xlabel='Fare'>"
      ]
     },
     "execution_count": 21,
     "metadata": {},
     "output_type": "execute_result"
    },
    {
     "data": {
      "image/png": "[encoded data removed]",
      "text/plain": [
       "<Figure size 1600x600 with 2 Axes>"
      ]
     },
     "metadata": {},
     "output_type": "display_data"
    }
   ],
   "source": [
    "fig, axs = plt.subplots(ncols=2, figsize=(16,6))\n",
    "sns.boxplot(data=test_data, x='Age', ax=axs[0])\n",
    "sns.boxplot(data=test_data, x='Fare', ax=axs[1])"
   ]
  },
  {
   "cell_type": "code",
   "execution_count": 22,
   "id": "3736e1b3",
   "metadata": {
    "execution": {
     "iopub.execute_input": "2024-03-06T11:32:49.966982Z",
     "iopub.status.busy": "2024-03-06T11:32:49.966507Z",
     "iopub.status.idle": "2024-03-06T11:32:49.974165Z",
     "shell.execute_reply": "2024-03-06T11:32:49.972610Z"
    },
    "papermill": {
     "duration": 0.037091,
     "end_time": "2024-03-06T11:32:49.976650",
     "exception": false,
     "start_time": "2024-03-06T11:32:49.939559",
     "status": "completed"
    },
    "tags": []
   },
   "outputs": [],
   "source": [
    "test_age_median = test_data['Age'].median()\n",
    "test_fare_median = test_data['Fare'].median()\n",
    "values = {'Age': test_age_median, 'Fare': test_fare_median}"
   ]
  },
  {
   "cell_type": "code",
   "execution_count": 23,
   "id": "4e8c4bec",
   "metadata": {
    "execution": {
     "iopub.execute_input": "2024-03-06T11:32:50.029930Z",
     "iopub.status.busy": "2024-03-06T11:32:50.029423Z",
     "iopub.status.idle": "2024-03-06T11:32:50.036730Z",
     "shell.execute_reply": "2024-03-06T11:32:50.035359Z"
    },
    "papermill": {
     "duration": 0.03696,
     "end_time": "2024-03-06T11:32:50.039431",
     "exception": false,
     "start_time": "2024-03-06T11:32:50.002471",
     "status": "completed"
    },
    "tags": []
   },
   "outputs": [],
   "source": [
    "test_data = test_data.fillna(value=values)"
   ]
  },
  {
   "cell_type": "code",
   "execution_count": 24,
   "id": "243bd794",
   "metadata": {
    "execution": {
     "iopub.execute_input": "2024-03-06T11:32:50.092443Z",
     "iopub.status.busy": "2024-03-06T11:32:50.091930Z",
     "iopub.status.idle": "2024-03-06T11:32:50.102900Z",
     "shell.execute_reply": "2024-03-06T11:32:50.101579Z"
    },
    "papermill": {
     "duration": 0.04047,
     "end_time": "2024-03-06T11:32:50.105402",
     "exception": false,
     "start_time": "2024-03-06T11:32:50.064932",
     "status": "completed"
    },
    "tags": []
   },
   "outputs": [
    {
     "data": {
      "text/plain": [
       "Pclass        0\n",
       "Sex           0\n",
       "Age           0\n",
       "Fare          0\n",
       "Embarked      0\n",
       "FamilySize    0\n",
       "dtype: int64"
      ]
     },
     "execution_count": 24,
     "metadata": {},
     "output_type": "execute_result"
    }
   ],
   "source": [
    "test_data.isnull().sum()"
   ]
  },
  {
   "cell_type": "markdown",
   "id": "4f6eb82f",
   "metadata": {
    "papermill": {
     "duration": 0.026259,
     "end_time": "2024-03-06T11:32:50.158187",
     "exception": false,
     "start_time": "2024-03-06T11:32:50.131928",
     "status": "completed"
    },
    "tags": []
   },
   "source": [
    "# Handling outliers"
   ]
  },
  {
   "cell_type": "code",
   "execution_count": 25,
   "id": "a47a53fe",
   "metadata": {
    "execution": {
     "iopub.execute_input": "2024-03-06T11:32:50.215486Z",
     "iopub.status.busy": "2024-03-06T11:32:50.214189Z",
     "iopub.status.idle": "2024-03-06T11:32:50.713649Z",
     "shell.execute_reply": "2024-03-06T11:32:50.712201Z"
    },
    "papermill": {
     "duration": 0.531492,
     "end_time": "2024-03-06T11:32:50.716252",
     "exception": false,
     "start_time": "2024-03-06T11:32:50.184760",
     "status": "completed"
    },
    "tags": []
   },
   "outputs": [
    {
     "data": {
      "text/plain": [
       "<Axes: xlabel='FamilySize'>"
      ]
     },
     "execution_count": 25,
     "metadata": {},
     "output_type": "execute_result"
    },
    {
     "data": {
      "image/png": "[encoded data removed]",
      "text/plain": [
       "<Figure size 1600x600 with 3 Axes>"
      ]
     },
     "metadata": {},
     "output_type": "display_data"
    }
   ],
   "source": [
    "fig, axs = plt.subplots(ncols=3, figsize=(16,6))\n",
    "sns.boxplot(data=train_data, x='Age', ax=axs[0])\n",
    "sns.boxplot(data=train_data, x='Fare', ax=axs[1])\n",
    "sns.boxplot(data=train_data, x='FamilySize', ax=axs[2])"
   ]
  },
  {
   "cell_type": "code",
   "execution_count": 26,
   "id": "d7851a9a",
   "metadata": {
    "execution": {
     "iopub.execute_input": "2024-03-06T11:32:50.771470Z",
     "iopub.status.busy": "2024-03-06T11:32:50.770985Z",
     "iopub.status.idle": "2024-03-06T11:32:51.365629Z",
     "shell.execute_reply": "2024-03-06T11:32:51.364253Z"
    },
    "papermill": {
     "duration": 0.625836,
     "end_time": "2024-03-06T11:32:51.368607",
     "exception": false,
     "start_time": "2024-03-06T11:32:50.742771",
     "status": "completed"
    },
    "tags": []
   },
   "outputs": [
    {
     "name": "stderr",
     "output_type": "stream",
     "text": [
      "/opt/conda/lib/python3.10/site-packages/seaborn/_oldcore.py:1119: FutureWarning: use_inf_as_na option is deprecated and will be removed in a future version. Convert inf values to NaN before operating instead.\n",
      "  with pd.option_context('mode.use_inf_as_na', True):\n",
      "/opt/conda/lib/python3.10/site-packages/seaborn/_oldcore.py:1119: FutureWarning: use_inf_as_na option is deprecated and will be removed in a future version. Convert inf values to NaN before operating instead.\n",
      "  with pd.option_context('mode.use_inf_as_na', True):\n"
     ]
    },
    {
     "data": {
      "text/plain": [
       "<Axes: xlabel='FamilySize', ylabel='Count'>"
      ]
     },
     "execution_count": 26,
     "metadata": {},
     "output_type": "execute_result"
    },
    {
     "data": {
      "image/png": "[encoded data removed]",
      "text/plain": [
       "<Figure size 1600x600 with 2 Axes>"
      ]
     },
     "metadata": {},
     "output_type": "display_data"
    }
   ],
   "source": [
    "fig, axs = plt.subplots(ncols=2, figsize=(16,6))\n",
    "sns.histplot(data=train_data, x='Embarked', ax=axs[0])\n",
    "sns.histplot(data=train_data, x='FamilySize', ax=axs[1])"
   ]
  },
  {
   "cell_type": "code",
   "execution_count": 27,
   "id": "62a5a777",
   "metadata": {
    "execution": {
     "iopub.execute_input": "2024-03-06T11:32:51.428263Z",
     "iopub.status.busy": "2024-03-06T11:32:51.427400Z",
     "iopub.status.idle": "2024-03-06T11:32:51.933692Z",
     "shell.execute_reply": "2024-03-06T11:32:51.932397Z"
    },
    "papermill": {
     "duration": 0.539266,
     "end_time": "2024-03-06T11:32:51.936501",
     "exception": false,
     "start_time": "2024-03-06T11:32:51.397235",
     "status": "completed"
    },
    "tags": []
   },
   "outputs": [
    {
     "name": "stderr",
     "output_type": "stream",
     "text": [
      "/opt/conda/lib/python3.10/site-packages/seaborn/_oldcore.py:1119: FutureWarning: use_inf_as_na option is deprecated and will be removed in a future version. Convert inf values to NaN before operating instead.\n",
      "  with pd.option_context('mode.use_inf_as_na', True):\n"
     ]
    },
    {
     "data": {
      "text/plain": [
       "<Axes: xlabel='Fare', ylabel='Count'>"
      ]
     },
     "execution_count": 27,
     "metadata": {},
     "output_type": "execute_result"
    },
    {
     "data": {
      "image/png": "[encoded data removed]",
      "text/plain": [
       "<Figure size 640x480 with 1 Axes>"
      ]
     },
     "metadata": {},
     "output_type": "display_data"
    }
   ],
   "source": [
    "sns.histplot(data=train_data, x='Fare')"
   ]
  },
  {
   "cell_type": "code",
   "execution_count": 28,
   "id": "22235170",
   "metadata": {
    "execution": {
     "iopub.execute_input": "2024-03-06T11:32:51.994346Z",
     "iopub.status.busy": "2024-03-06T11:32:51.993875Z",
     "iopub.status.idle": "2024-03-06T11:32:52.006238Z",
     "shell.execute_reply": "2024-03-06T11:32:52.004915Z"
    },
    "papermill": {
     "duration": 0.044475,
     "end_time": "2024-03-06T11:32:52.009040",
     "exception": false,
     "start_time": "2024-03-06T11:32:51.964565",
     "status": "completed"
    },
    "tags": []
   },
   "outputs": [
    {
     "data": {
      "text/plain": [
       "Index([ 13,  16,  25,  27,  31,  33,  34,  50,  52,  54,\n",
       "       ...\n",
       "       829, 835, 846, 849, 850, 851, 856, 863, 879, 885],\n",
       "      dtype='int64', length=159)"
      ]
     },
     "execution_count": 28,
     "metadata": {},
     "output_type": "execute_result"
    }
   ],
   "source": [
    "outliers_to_drop = train_data[(train_data['Age'] > 60) | (train_data['FamilySize'] > 5) | (train_data['Fare'] > 75)].index\n",
    "outliers_to_drop"
   ]
  },
  {
   "cell_type": "code",
   "execution_count": 29,
   "id": "8534be47",
   "metadata": {
    "execution": {
     "iopub.execute_input": "2024-03-06T11:32:52.067980Z",
     "iopub.status.busy": "2024-03-06T11:32:52.067524Z",
     "iopub.status.idle": "2024-03-06T11:32:52.075396Z",
     "shell.execute_reply": "2024-03-06T11:32:52.073987Z"
    },
    "papermill": {
     "duration": 0.040568,
     "end_time": "2024-03-06T11:32:52.078236",
     "exception": false,
     "start_time": "2024-03-06T11:32:52.037668",
     "status": "completed"
    },
    "tags": []
   },
   "outputs": [],
   "source": [
    "train_data = train_data.drop(outliers_to_drop, axis=0)"
   ]
  },
  {
   "cell_type": "code",
   "execution_count": 30,
   "id": "eedd4c2d",
   "metadata": {
    "execution": {
     "iopub.execute_input": "2024-03-06T11:32:52.136922Z",
     "iopub.status.busy": "2024-03-06T11:32:52.135906Z",
     "iopub.status.idle": "2024-03-06T11:32:52.143995Z",
     "shell.execute_reply": "2024-03-06T11:32:52.142853Z"
    },
    "papermill": {
     "duration": 0.040001,
     "end_time": "2024-03-06T11:32:52.146483",
     "exception": false,
     "start_time": "2024-03-06T11:32:52.106482",
     "status": "completed"
    },
    "tags": []
   },
   "outputs": [
    {
     "data": {
      "text/plain": [
       "(732, 7)"
      ]
     },
     "execution_count": 30,
     "metadata": {},
     "output_type": "execute_result"
    }
   ],
   "source": [
    "train_data.shape"
   ]
  },
  {
   "cell_type": "code",
   "execution_count": 31,
   "id": "1bed2e21",
   "metadata": {
    "execution": {
     "iopub.execute_input": "2024-03-06T11:32:52.207121Z",
     "iopub.status.busy": "2024-03-06T11:32:52.206630Z",
     "iopub.status.idle": "2024-03-06T11:32:52.626275Z",
     "shell.execute_reply": "2024-03-06T11:32:52.624686Z"
    },
    "papermill": {
     "duration": 0.453198,
     "end_time": "2024-03-06T11:32:52.629019",
     "exception": false,
     "start_time": "2024-03-06T11:32:52.175821",
     "status": "completed"
    },
    "tags": []
   },
   "outputs": [
    {
     "data": {
      "text/plain": [
       "<Axes: xlabel='Fare'>"
      ]
     },
     "execution_count": 31,
     "metadata": {},
     "output_type": "execute_result"
    },
    {
     "data": {
      "image/png": "[encoded data removed]",
      "text/plain": [
       "<Figure size 1600x600 with 2 Axes>"
      ]
     },
     "metadata": {},
     "output_type": "display_data"
    }
   ],
   "source": [
    "fig, axs = plt.subplots(ncols=2, figsize=(16,6))\n",
    "sns.boxplot(data=train_data, x='Age', ax=axs[0])\n",
    "sns.boxplot(data=train_data, x='Fare', ax=axs[1])"
   ]
  },
  {
   "cell_type": "code",
   "execution_count": 32,
   "id": "13d44c48",
   "metadata": {
    "execution": {
     "iopub.execute_input": "2024-03-06T11:32:52.688997Z",
     "iopub.status.busy": "2024-03-06T11:32:52.688545Z",
     "iopub.status.idle": "2024-03-06T11:32:52.707000Z",
     "shell.execute_reply": "2024-03-06T11:32:52.705826Z"
    },
    "papermill": {
     "duration": 0.051279,
     "end_time": "2024-03-06T11:32:52.709370",
     "exception": false,
     "start_time": "2024-03-06T11:32:52.658091",
     "status": "completed"
    },
    "tags": []
   },
   "outputs": [
    {
     "data": {
      "text/html": [
       "<div>\n",
       "<style scoped>\n",
       "    .dataframe tbody tr th:only-of-type {\n",
       "        vertical-align: middle;\n",
       "    }\n",
       "\n",
       "    .dataframe tbody tr th {\n",
       "        vertical-align: top;\n",
       "    }\n",
       "\n",
       "    .dataframe thead th {\n",
       "        text-align: right;\n",
       "    }\n",
       "</style>\n",
       "<table border=\"1\" class=\"dataframe\">\n",
       "  <thead>\n",
       "    <tr style=\"text-align: right;\">\n",
       "      <th></th>\n",
       "      <th>Survived</th>\n",
       "      <th>Pclass</th>\n",
       "      <th>Sex</th>\n",
       "      <th>Age</th>\n",
       "      <th>Fare</th>\n",
       "      <th>Embarked</th>\n",
       "      <th>FamilySize</th>\n",
       "    </tr>\n",
       "  </thead>\n",
       "  <tbody>\n",
       "    <tr>\n",
       "      <th>0</th>\n",
       "      <td>0</td>\n",
       "      <td>3</td>\n",
       "      <td>male</td>\n",
       "      <td>22.0</td>\n",
       "      <td>7.2500</td>\n",
       "      <td>S</td>\n",
       "      <td>2</td>\n",
       "    </tr>\n",
       "    <tr>\n",
       "      <th>1</th>\n",
       "      <td>1</td>\n",
       "      <td>1</td>\n",
       "      <td>female</td>\n",
       "      <td>38.0</td>\n",
       "      <td>71.2833</td>\n",
       "      <td>C</td>\n",
       "      <td>2</td>\n",
       "    </tr>\n",
       "    <tr>\n",
       "      <th>2</th>\n",
       "      <td>1</td>\n",
       "      <td>3</td>\n",
       "      <td>female</td>\n",
       "      <td>26.0</td>\n",
       "      <td>7.9250</td>\n",
       "      <td>S</td>\n",
       "      <td>1</td>\n",
       "    </tr>\n",
       "    <tr>\n",
       "      <th>3</th>\n",
       "      <td>1</td>\n",
       "      <td>1</td>\n",
       "      <td>female</td>\n",
       "      <td>35.0</td>\n",
       "      <td>53.1000</td>\n",
       "      <td>S</td>\n",
       "      <td>2</td>\n",
       "    </tr>\n",
       "    <tr>\n",
       "      <th>4</th>\n",
       "      <td>0</td>\n",
       "      <td>3</td>\n",
       "      <td>male</td>\n",
       "      <td>35.0</td>\n",
       "      <td>8.0500</td>\n",
       "      <td>S</td>\n",
       "      <td>1</td>\n",
       "    </tr>\n",
       "    <tr>\n",
       "      <th>...</th>\n",
       "      <td>...</td>\n",
       "      <td>...</td>\n",
       "      <td>...</td>\n",
       "      <td>...</td>\n",
       "      <td>...</td>\n",
       "      <td>...</td>\n",
       "      <td>...</td>\n",
       "    </tr>\n",
       "    <tr>\n",
       "      <th>886</th>\n",
       "      <td>0</td>\n",
       "      <td>2</td>\n",
       "      <td>male</td>\n",
       "      <td>27.0</td>\n",
       "      <td>13.0000</td>\n",
       "      <td>S</td>\n",
       "      <td>1</td>\n",
       "    </tr>\n",
       "    <tr>\n",
       "      <th>887</th>\n",
       "      <td>1</td>\n",
       "      <td>1</td>\n",
       "      <td>female</td>\n",
       "      <td>19.0</td>\n",
       "      <td>30.0000</td>\n",
       "      <td>S</td>\n",
       "      <td>1</td>\n",
       "    </tr>\n",
       "    <tr>\n",
       "      <th>888</th>\n",
       "      <td>0</td>\n",
       "      <td>3</td>\n",
       "      <td>female</td>\n",
       "      <td>28.0</td>\n",
       "      <td>23.4500</td>\n",
       "      <td>S</td>\n",
       "      <td>4</td>\n",
       "    </tr>\n",
       "    <tr>\n",
       "      <th>889</th>\n",
       "      <td>1</td>\n",
       "      <td>1</td>\n",
       "      <td>male</td>\n",
       "      <td>26.0</td>\n",
       "      <td>30.0000</td>\n",
       "      <td>C</td>\n",
       "      <td>1</td>\n",
       "    </tr>\n",
       "    <tr>\n",
       "      <th>890</th>\n",
       "      <td>0</td>\n",
       "      <td>3</td>\n",
       "      <td>male</td>\n",
       "      <td>32.0</td>\n",
       "      <td>7.7500</td>\n",
       "      <td>Q</td>\n",
       "      <td>1</td>\n",
       "    </tr>\n",
       "  </tbody>\n",
       "</table>\n",
       "<p>732 rows × 7 columns</p>\n",
       "</div>"
      ],
      "text/plain": [
       "     Survived  Pclass     Sex   Age     Fare Embarked  FamilySize\n",
       "0           0       3    male  22.0   7.2500        S           2\n",
       "1           1       1  female  38.0  71.2833        C           2\n",
       "2           1       3  female  26.0   7.9250        S           1\n",
       "3           1       1  female  35.0  53.1000        S           2\n",
       "4           0       3    male  35.0   8.0500        S           1\n",
       "..        ...     ...     ...   ...      ...      ...         ...\n",
       "886         0       2    male  27.0  13.0000        S           1\n",
       "887         1       1  female  19.0  30.0000        S           1\n",
       "888         0       3  female  28.0  23.4500        S           4\n",
       "889         1       1    male  26.0  30.0000        C           1\n",
       "890         0       3    male  32.0   7.7500        Q           1\n",
       "\n",
       "[732 rows x 7 columns]"
      ]
     },
     "execution_count": 32,
     "metadata": {},
     "output_type": "execute_result"
    }
   ],
   "source": [
    "train_data"
   ]
  },
  {
   "cell_type": "code",
   "execution_count": 33,
   "id": "7e9f89fb",
   "metadata": {
    "execution": {
     "iopub.execute_input": "2024-03-06T11:32:52.771487Z",
     "iopub.status.busy": "2024-03-06T11:32:52.771033Z",
     "iopub.status.idle": "2024-03-06T11:32:52.777298Z",
     "shell.execute_reply": "2024-03-06T11:32:52.775947Z"
    },
    "papermill": {
     "duration": 0.040765,
     "end_time": "2024-03-06T11:32:52.779846",
     "exception": false,
     "start_time": "2024-03-06T11:32:52.739081",
     "status": "completed"
    },
    "tags": []
   },
   "outputs": [],
   "source": [
    "train_data = train_data.reset_index(drop=True)"
   ]
  },
  {
   "cell_type": "markdown",
   "id": "79ae4277",
   "metadata": {
    "papermill": {
     "duration": 0.029571,
     "end_time": "2024-03-06T11:32:52.839090",
     "exception": false,
     "start_time": "2024-03-06T11:32:52.809519",
     "status": "completed"
    },
    "tags": []
   },
   "source": [
    "# Splitting X and y"
   ]
  },
  {
   "cell_type": "code",
   "execution_count": 34,
   "id": "b7bc4724",
   "metadata": {
    "execution": {
     "iopub.execute_input": "2024-03-06T11:32:52.902210Z",
     "iopub.status.busy": "2024-03-06T11:32:52.901697Z",
     "iopub.status.idle": "2024-03-06T11:32:52.909300Z",
     "shell.execute_reply": "2024-03-06T11:32:52.907978Z"
    },
    "papermill": {
     "duration": 0.042115,
     "end_time": "2024-03-06T11:32:52.911604",
     "exception": false,
     "start_time": "2024-03-06T11:32:52.869489",
     "status": "completed"
    },
    "tags": []
   },
   "outputs": [],
   "source": [
    "y_train = train_data['Survived']\n",
    "X_train = train_data.drop(['Survived'], axis=1)"
   ]
  },
  {
   "cell_type": "code",
   "execution_count": 35,
   "id": "2b9493d2",
   "metadata": {
    "execution": {
     "iopub.execute_input": "2024-03-06T11:32:52.973187Z",
     "iopub.status.busy": "2024-03-06T11:32:52.972722Z",
     "iopub.status.idle": "2024-03-06T11:32:52.981023Z",
     "shell.execute_reply": "2024-03-06T11:32:52.980210Z"
    },
    "papermill": {
     "duration": 0.042006,
     "end_time": "2024-03-06T11:32:52.983379",
     "exception": false,
     "start_time": "2024-03-06T11:32:52.941373",
     "status": "completed"
    },
    "tags": []
   },
   "outputs": [
    {
     "data": {
      "text/plain": [
       "0      0\n",
       "1      1\n",
       "2      1\n",
       "3      1\n",
       "4      0\n",
       "      ..\n",
       "727    0\n",
       "728    1\n",
       "729    0\n",
       "730    1\n",
       "731    0\n",
       "Name: Survived, Length: 732, dtype: int64"
      ]
     },
     "execution_count": 35,
     "metadata": {},
     "output_type": "execute_result"
    }
   ],
   "source": [
    "y_train"
   ]
  },
  {
   "cell_type": "code",
   "execution_count": 36,
   "id": "11b367da",
   "metadata": {
    "execution": {
     "iopub.execute_input": "2024-03-06T11:32:53.046476Z",
     "iopub.status.busy": "2024-03-06T11:32:53.045985Z",
     "iopub.status.idle": "2024-03-06T11:32:53.064688Z",
     "shell.execute_reply": "2024-03-06T11:32:53.063227Z"
    },
    "papermill": {
     "duration": 0.05375,
     "end_time": "2024-03-06T11:32:53.067500",
     "exception": false,
     "start_time": "2024-03-06T11:32:53.013750",
     "status": "completed"
    },
    "tags": []
   },
   "outputs": [
    {
     "data": {
      "text/html": [
       "<div>\n",
       "<style scoped>\n",
       "    .dataframe tbody tr th:only-of-type {\n",
       "        vertical-align: middle;\n",
       "    }\n",
       "\n",
       "    .dataframe tbody tr th {\n",
       "        vertical-align: top;\n",
       "    }\n",
       "\n",
       "    .dataframe thead th {\n",
       "        text-align: right;\n",
       "    }\n",
       "</style>\n",
       "<table border=\"1\" class=\"dataframe\">\n",
       "  <thead>\n",
       "    <tr style=\"text-align: right;\">\n",
       "      <th></th>\n",
       "      <th>Pclass</th>\n",
       "      <th>Sex</th>\n",
       "      <th>Age</th>\n",
       "      <th>Fare</th>\n",
       "      <th>Embarked</th>\n",
       "      <th>FamilySize</th>\n",
       "    </tr>\n",
       "  </thead>\n",
       "  <tbody>\n",
       "    <tr>\n",
       "      <th>0</th>\n",
       "      <td>3</td>\n",
       "      <td>male</td>\n",
       "      <td>22.0</td>\n",
       "      <td>7.2500</td>\n",
       "      <td>S</td>\n",
       "      <td>2</td>\n",
       "    </tr>\n",
       "    <tr>\n",
       "      <th>1</th>\n",
       "      <td>1</td>\n",
       "      <td>female</td>\n",
       "      <td>38.0</td>\n",
       "      <td>71.2833</td>\n",
       "      <td>C</td>\n",
       "      <td>2</td>\n",
       "    </tr>\n",
       "    <tr>\n",
       "      <th>2</th>\n",
       "      <td>3</td>\n",
       "      <td>female</td>\n",
       "      <td>26.0</td>\n",
       "      <td>7.9250</td>\n",
       "      <td>S</td>\n",
       "      <td>1</td>\n",
       "    </tr>\n",
       "    <tr>\n",
       "      <th>3</th>\n",
       "      <td>1</td>\n",
       "      <td>female</td>\n",
       "      <td>35.0</td>\n",
       "      <td>53.1000</td>\n",
       "      <td>S</td>\n",
       "      <td>2</td>\n",
       "    </tr>\n",
       "    <tr>\n",
       "      <th>4</th>\n",
       "      <td>3</td>\n",
       "      <td>male</td>\n",
       "      <td>35.0</td>\n",
       "      <td>8.0500</td>\n",
       "      <td>S</td>\n",
       "      <td>1</td>\n",
       "    </tr>\n",
       "    <tr>\n",
       "      <th>...</th>\n",
       "      <td>...</td>\n",
       "      <td>...</td>\n",
       "      <td>...</td>\n",
       "      <td>...</td>\n",
       "      <td>...</td>\n",
       "      <td>...</td>\n",
       "    </tr>\n",
       "    <tr>\n",
       "      <th>727</th>\n",
       "      <td>2</td>\n",
       "      <td>male</td>\n",
       "      <td>27.0</td>\n",
       "      <td>13.0000</td>\n",
       "      <td>S</td>\n",
       "      <td>1</td>\n",
       "    </tr>\n",
       "    <tr>\n",
       "      <th>728</th>\n",
       "      <td>1</td>\n",
       "      <td>female</td>\n",
       "      <td>19.0</td>\n",
       "      <td>30.0000</td>\n",
       "      <td>S</td>\n",
       "      <td>1</td>\n",
       "    </tr>\n",
       "    <tr>\n",
       "      <th>729</th>\n",
       "      <td>3</td>\n",
       "      <td>female</td>\n",
       "      <td>28.0</td>\n",
       "      <td>23.4500</td>\n",
       "      <td>S</td>\n",
       "      <td>4</td>\n",
       "    </tr>\n",
       "    <tr>\n",
       "      <th>730</th>\n",
       "      <td>1</td>\n",
       "      <td>male</td>\n",
       "      <td>26.0</td>\n",
       "      <td>30.0000</td>\n",
       "      <td>C</td>\n",
       "      <td>1</td>\n",
       "    </tr>\n",
       "    <tr>\n",
       "      <th>731</th>\n",
       "      <td>3</td>\n",
       "      <td>male</td>\n",
       "      <td>32.0</td>\n",
       "      <td>7.7500</td>\n",
       "      <td>Q</td>\n",
       "      <td>1</td>\n",
       "    </tr>\n",
       "  </tbody>\n",
       "</table>\n",
       "<p>732 rows × 6 columns</p>\n",
       "</div>"
      ],
      "text/plain": [
       "     Pclass     Sex   Age     Fare Embarked  FamilySize\n",
       "0         3    male  22.0   7.2500        S           2\n",
       "1         1  female  38.0  71.2833        C           2\n",
       "2         3  female  26.0   7.9250        S           1\n",
       "3         1  female  35.0  53.1000        S           2\n",
       "4         3    male  35.0   8.0500        S           1\n",
       "..      ...     ...   ...      ...      ...         ...\n",
       "727       2    male  27.0  13.0000        S           1\n",
       "728       1  female  19.0  30.0000        S           1\n",
       "729       3  female  28.0  23.4500        S           4\n",
       "730       1    male  26.0  30.0000        C           1\n",
       "731       3    male  32.0   7.7500        Q           1\n",
       "\n",
       "[732 rows x 6 columns]"
      ]
     },
     "execution_count": 36,
     "metadata": {},
     "output_type": "execute_result"
    }
   ],
   "source": [
    "X_train"
   ]
  },
  {
   "cell_type": "code",
   "execution_count": 37,
   "id": "7ecffae2",
   "metadata": {
    "execution": {
     "iopub.execute_input": "2024-03-06T11:32:53.132512Z",
     "iopub.status.busy": "2024-03-06T11:32:53.131991Z",
     "iopub.status.idle": "2024-03-06T11:32:53.140144Z",
     "shell.execute_reply": "2024-03-06T11:32:53.138824Z"
    },
    "papermill": {
     "duration": 0.044096,
     "end_time": "2024-03-06T11:32:53.143027",
     "exception": false,
     "start_time": "2024-03-06T11:32:53.098931",
     "status": "completed"
    },
    "tags": []
   },
   "outputs": [
    {
     "data": {
      "text/plain": [
       "Index(['Pclass', 'Sex', 'Age', 'Fare', 'Embarked', 'FamilySize'], dtype='object')"
      ]
     },
     "execution_count": 37,
     "metadata": {},
     "output_type": "execute_result"
    }
   ],
   "source": [
    "X_train.columns"
   ]
  },
  {
   "cell_type": "markdown",
   "id": "e2c958bf",
   "metadata": {
    "papermill": {
     "duration": 0.03193,
     "end_time": "2024-03-06T11:32:53.205947",
     "exception": false,
     "start_time": "2024-03-06T11:32:53.174017",
     "status": "completed"
    },
    "tags": []
   },
   "source": [
    "# Turning catogericals to numerical"
   ]
  },
  {
   "cell_type": "code",
   "execution_count": 38,
   "id": "3a8d3b43",
   "metadata": {
    "execution": {
     "iopub.execute_input": "2024-03-06T11:32:53.270698Z",
     "iopub.status.busy": "2024-03-06T11:32:53.270292Z",
     "iopub.status.idle": "2024-03-06T11:32:53.447391Z",
     "shell.execute_reply": "2024-03-06T11:32:53.446401Z"
    },
    "papermill": {
     "duration": 0.21136,
     "end_time": "2024-03-06T11:32:53.450165",
     "exception": false,
     "start_time": "2024-03-06T11:32:53.238805",
     "status": "completed"
    },
    "tags": []
   },
   "outputs": [],
   "source": [
    "from sklearn.preprocessing import OneHotEncoder"
   ]
  },
  {
   "cell_type": "code",
   "execution_count": 39,
   "id": "4d10c53e",
   "metadata": {
    "execution": {
     "iopub.execute_input": "2024-03-06T11:32:53.512202Z",
     "iopub.status.busy": "2024-03-06T11:32:53.511778Z",
     "iopub.status.idle": "2024-03-06T11:32:53.517344Z",
     "shell.execute_reply": "2024-03-06T11:32:53.516344Z"
    },
    "papermill": {
     "duration": 0.039311,
     "end_time": "2024-03-06T11:32:53.519634",
     "exception": false,
     "start_time": "2024-03-06T11:32:53.480323",
     "status": "completed"
    },
    "tags": []
   },
   "outputs": [],
   "source": [
    "encoder = OneHotEncoder(drop=\"first\", sparse_output=False)"
   ]
  },
  {
   "cell_type": "code",
   "execution_count": 40,
   "id": "5351c78f",
   "metadata": {
    "execution": {
     "iopub.execute_input": "2024-03-06T11:32:53.582520Z",
     "iopub.status.busy": "2024-03-06T11:32:53.581343Z",
     "iopub.status.idle": "2024-03-06T11:32:53.596980Z",
     "shell.execute_reply": "2024-03-06T11:32:53.595574Z"
    },
    "papermill": {
     "duration": 0.049816,
     "end_time": "2024-03-06T11:32:53.599790",
     "exception": false,
     "start_time": "2024-03-06T11:32:53.549974",
     "status": "completed"
    },
    "tags": []
   },
   "outputs": [
    {
     "data": {
      "text/html": [
       "<div>\n",
       "<style scoped>\n",
       "    .dataframe tbody tr th:only-of-type {\n",
       "        vertical-align: middle;\n",
       "    }\n",
       "\n",
       "    .dataframe tbody tr th {\n",
       "        vertical-align: top;\n",
       "    }\n",
       "\n",
       "    .dataframe thead th {\n",
       "        text-align: right;\n",
       "    }\n",
       "</style>\n",
       "<table border=\"1\" class=\"dataframe\">\n",
       "  <thead>\n",
       "    <tr style=\"text-align: right;\">\n",
       "      <th></th>\n",
       "      <th>Pclass</th>\n",
       "      <th>Sex</th>\n",
       "      <th>Age</th>\n",
       "      <th>Fare</th>\n",
       "      <th>Embarked</th>\n",
       "      <th>FamilySize</th>\n",
       "    </tr>\n",
       "  </thead>\n",
       "  <tbody>\n",
       "    <tr>\n",
       "      <th>0</th>\n",
       "      <td>3</td>\n",
       "      <td>male</td>\n",
       "      <td>22.0</td>\n",
       "      <td>7.2500</td>\n",
       "      <td>S</td>\n",
       "      <td>2</td>\n",
       "    </tr>\n",
       "    <tr>\n",
       "      <th>1</th>\n",
       "      <td>1</td>\n",
       "      <td>female</td>\n",
       "      <td>38.0</td>\n",
       "      <td>71.2833</td>\n",
       "      <td>C</td>\n",
       "      <td>2</td>\n",
       "    </tr>\n",
       "    <tr>\n",
       "      <th>2</th>\n",
       "      <td>3</td>\n",
       "      <td>female</td>\n",
       "      <td>26.0</td>\n",
       "      <td>7.9250</td>\n",
       "      <td>S</td>\n",
       "      <td>1</td>\n",
       "    </tr>\n",
       "    <tr>\n",
       "      <th>3</th>\n",
       "      <td>1</td>\n",
       "      <td>female</td>\n",
       "      <td>35.0</td>\n",
       "      <td>53.1000</td>\n",
       "      <td>S</td>\n",
       "      <td>2</td>\n",
       "    </tr>\n",
       "    <tr>\n",
       "      <th>4</th>\n",
       "      <td>3</td>\n",
       "      <td>male</td>\n",
       "      <td>35.0</td>\n",
       "      <td>8.0500</td>\n",
       "      <td>S</td>\n",
       "      <td>1</td>\n",
       "    </tr>\n",
       "  </tbody>\n",
       "</table>\n",
       "</div>"
      ],
      "text/plain": [
       "   Pclass     Sex   Age     Fare Embarked  FamilySize\n",
       "0       3    male  22.0   7.2500        S           2\n",
       "1       1  female  38.0  71.2833        C           2\n",
       "2       3  female  26.0   7.9250        S           1\n",
       "3       1  female  35.0  53.1000        S           2\n",
       "4       3    male  35.0   8.0500        S           1"
      ]
     },
     "execution_count": 40,
     "metadata": {},
     "output_type": "execute_result"
    }
   ],
   "source": [
    "X_train.head()"
   ]
  },
  {
   "cell_type": "code",
   "execution_count": 41,
   "id": "6ca42a41",
   "metadata": {
    "execution": {
     "iopub.execute_input": "2024-03-06T11:32:53.662804Z",
     "iopub.status.busy": "2024-03-06T11:32:53.662420Z",
     "iopub.status.idle": "2024-03-06T11:32:53.668152Z",
     "shell.execute_reply": "2024-03-06T11:32:53.666679Z"
    },
    "papermill": {
     "duration": 0.040475,
     "end_time": "2024-03-06T11:32:53.670831",
     "exception": false,
     "start_time": "2024-03-06T11:32:53.630356",
     "status": "completed"
    },
    "tags": []
   },
   "outputs": [],
   "source": [
    "catogerical_cols = ['Sex', 'Embarked', 'Pclass']"
   ]
  },
  {
   "cell_type": "code",
   "execution_count": 42,
   "id": "3c41888d",
   "metadata": {
    "execution": {
     "iopub.execute_input": "2024-03-06T11:32:53.735221Z",
     "iopub.status.busy": "2024-03-06T11:32:53.734453Z",
     "iopub.status.idle": "2024-03-06T11:32:53.747953Z",
     "shell.execute_reply": "2024-03-06T11:32:53.746568Z"
    },
    "papermill": {
     "duration": 0.04916,
     "end_time": "2024-03-06T11:32:53.751022",
     "exception": false,
     "start_time": "2024-03-06T11:32:53.701862",
     "status": "completed"
    },
    "tags": []
   },
   "outputs": [],
   "source": [
    "encoded_features = encoder.fit_transform(X_train[catogerical_cols])"
   ]
  },
  {
   "cell_type": "code",
   "execution_count": 43,
   "id": "61f2510d",
   "metadata": {
    "execution": {
     "iopub.execute_input": "2024-03-06T11:32:53.814670Z",
     "iopub.status.busy": "2024-03-06T11:32:53.814272Z",
     "iopub.status.idle": "2024-03-06T11:32:53.822565Z",
     "shell.execute_reply": "2024-03-06T11:32:53.821001Z"
    },
    "papermill": {
     "duration": 0.042947,
     "end_time": "2024-03-06T11:32:53.825232",
     "exception": false,
     "start_time": "2024-03-06T11:32:53.782285",
     "status": "completed"
    },
    "tags": []
   },
   "outputs": [],
   "source": [
    "encoded_df = pd.DataFrame(encoded_features, columns=encoder.get_feature_names_out(catogerical_cols))\n",
    "X_train_enc = pd.concat([X_train, encoded_df], axis=1)"
   ]
  },
  {
   "cell_type": "code",
   "execution_count": 44,
   "id": "ec274ef2",
   "metadata": {
    "execution": {
     "iopub.execute_input": "2024-03-06T11:32:53.890825Z",
     "iopub.status.busy": "2024-03-06T11:32:53.889282Z",
     "iopub.status.idle": "2024-03-06T11:32:53.896245Z",
     "shell.execute_reply": "2024-03-06T11:32:53.895164Z"
    },
    "papermill": {
     "duration": 0.043297,
     "end_time": "2024-03-06T11:32:53.899256",
     "exception": false,
     "start_time": "2024-03-06T11:32:53.855959",
     "status": "completed"
    },
    "tags": []
   },
   "outputs": [],
   "source": [
    "X_train_enc.drop(catogerical_cols, axis=1, inplace=True)"
   ]
  },
  {
   "cell_type": "code",
   "execution_count": 45,
   "id": "c75e5e82",
   "metadata": {
    "execution": {
     "iopub.execute_input": "2024-03-06T11:32:53.964881Z",
     "iopub.status.busy": "2024-03-06T11:32:53.964404Z",
     "iopub.status.idle": "2024-03-06T11:32:53.984792Z",
     "shell.execute_reply": "2024-03-06T11:32:53.983456Z"
    },
    "papermill": {
     "duration": 0.055631,
     "end_time": "2024-03-06T11:32:53.987751",
     "exception": false,
     "start_time": "2024-03-06T11:32:53.932120",
     "status": "completed"
    },
    "tags": []
   },
   "outputs": [
    {
     "data": {
      "text/html": [
       "<div>\n",
       "<style scoped>\n",
       "    .dataframe tbody tr th:only-of-type {\n",
       "        vertical-align: middle;\n",
       "    }\n",
       "\n",
       "    .dataframe tbody tr th {\n",
       "        vertical-align: top;\n",
       "    }\n",
       "\n",
       "    .dataframe thead th {\n",
       "        text-align: right;\n",
       "    }\n",
       "</style>\n",
       "<table border=\"1\" class=\"dataframe\">\n",
       "  <thead>\n",
       "    <tr style=\"text-align: right;\">\n",
       "      <th></th>\n",
       "      <th>Age</th>\n",
       "      <th>Fare</th>\n",
       "      <th>FamilySize</th>\n",
       "      <th>Sex_male</th>\n",
       "      <th>Embarked_Q</th>\n",
       "      <th>Embarked_S</th>\n",
       "      <th>Pclass_2</th>\n",
       "      <th>Pclass_3</th>\n",
       "    </tr>\n",
       "  </thead>\n",
       "  <tbody>\n",
       "    <tr>\n",
       "      <th>0</th>\n",
       "      <td>22.0</td>\n",
       "      <td>7.2500</td>\n",
       "      <td>2</td>\n",
       "      <td>1.0</td>\n",
       "      <td>0.0</td>\n",
       "      <td>1.0</td>\n",
       "      <td>0.0</td>\n",
       "      <td>1.0</td>\n",
       "    </tr>\n",
       "    <tr>\n",
       "      <th>1</th>\n",
       "      <td>38.0</td>\n",
       "      <td>71.2833</td>\n",
       "      <td>2</td>\n",
       "      <td>0.0</td>\n",
       "      <td>0.0</td>\n",
       "      <td>0.0</td>\n",
       "      <td>0.0</td>\n",
       "      <td>0.0</td>\n",
       "    </tr>\n",
       "    <tr>\n",
       "      <th>2</th>\n",
       "      <td>26.0</td>\n",
       "      <td>7.9250</td>\n",
       "      <td>1</td>\n",
       "      <td>0.0</td>\n",
       "      <td>0.0</td>\n",
       "      <td>1.0</td>\n",
       "      <td>0.0</td>\n",
       "      <td>1.0</td>\n",
       "    </tr>\n",
       "    <tr>\n",
       "      <th>3</th>\n",
       "      <td>35.0</td>\n",
       "      <td>53.1000</td>\n",
       "      <td>2</td>\n",
       "      <td>0.0</td>\n",
       "      <td>0.0</td>\n",
       "      <td>1.0</td>\n",
       "      <td>0.0</td>\n",
       "      <td>0.0</td>\n",
       "    </tr>\n",
       "    <tr>\n",
       "      <th>4</th>\n",
       "      <td>35.0</td>\n",
       "      <td>8.0500</td>\n",
       "      <td>1</td>\n",
       "      <td>1.0</td>\n",
       "      <td>0.0</td>\n",
       "      <td>1.0</td>\n",
       "      <td>0.0</td>\n",
       "      <td>1.0</td>\n",
       "    </tr>\n",
       "  </tbody>\n",
       "</table>\n",
       "</div>"
      ],
      "text/plain": [
       "    Age     Fare  FamilySize  Sex_male  Embarked_Q  Embarked_S  Pclass_2  \\\n",
       "0  22.0   7.2500           2       1.0         0.0         1.0       0.0   \n",
       "1  38.0  71.2833           2       0.0         0.0         0.0       0.0   \n",
       "2  26.0   7.9250           1       0.0         0.0         1.0       0.0   \n",
       "3  35.0  53.1000           2       0.0         0.0         1.0       0.0   \n",
       "4  35.0   8.0500           1       1.0         0.0         1.0       0.0   \n",
       "\n",
       "   Pclass_3  \n",
       "0       1.0  \n",
       "1       0.0  \n",
       "2       1.0  \n",
       "3       0.0  \n",
       "4       1.0  "
      ]
     },
     "execution_count": 45,
     "metadata": {},
     "output_type": "execute_result"
    }
   ],
   "source": [
    "X_train_enc.head()"
   ]
  },
  {
   "cell_type": "code",
   "execution_count": 46,
   "id": "17ee04df",
   "metadata": {
    "execution": {
     "iopub.execute_input": "2024-03-06T11:32:54.055776Z",
     "iopub.status.busy": "2024-03-06T11:32:54.054918Z",
     "iopub.status.idle": "2024-03-06T11:32:54.069820Z",
     "shell.execute_reply": "2024-03-06T11:32:54.068600Z"
    },
    "papermill": {
     "duration": 0.051694,
     "end_time": "2024-03-06T11:32:54.072341",
     "exception": false,
     "start_time": "2024-03-06T11:32:54.020647",
     "status": "completed"
    },
    "tags": []
   },
   "outputs": [
    {
     "data": {
      "text/html": [
       "<div>\n",
       "<style scoped>\n",
       "    .dataframe tbody tr th:only-of-type {\n",
       "        vertical-align: middle;\n",
       "    }\n",
       "\n",
       "    .dataframe tbody tr th {\n",
       "        vertical-align: top;\n",
       "    }\n",
       "\n",
       "    .dataframe thead th {\n",
       "        text-align: right;\n",
       "    }\n",
       "</style>\n",
       "<table border=\"1\" class=\"dataframe\">\n",
       "  <thead>\n",
       "    <tr style=\"text-align: right;\">\n",
       "      <th></th>\n",
       "      <th>Pclass</th>\n",
       "      <th>Sex</th>\n",
       "      <th>Age</th>\n",
       "      <th>Fare</th>\n",
       "      <th>Embarked</th>\n",
       "      <th>FamilySize</th>\n",
       "    </tr>\n",
       "  </thead>\n",
       "  <tbody>\n",
       "    <tr>\n",
       "      <th>0</th>\n",
       "      <td>3</td>\n",
       "      <td>male</td>\n",
       "      <td>34.5</td>\n",
       "      <td>7.8292</td>\n",
       "      <td>Q</td>\n",
       "      <td>1</td>\n",
       "    </tr>\n",
       "    <tr>\n",
       "      <th>1</th>\n",
       "      <td>3</td>\n",
       "      <td>female</td>\n",
       "      <td>47.0</td>\n",
       "      <td>7.0000</td>\n",
       "      <td>S</td>\n",
       "      <td>2</td>\n",
       "    </tr>\n",
       "    <tr>\n",
       "      <th>2</th>\n",
       "      <td>2</td>\n",
       "      <td>male</td>\n",
       "      <td>62.0</td>\n",
       "      <td>9.6875</td>\n",
       "      <td>Q</td>\n",
       "      <td>1</td>\n",
       "    </tr>\n",
       "    <tr>\n",
       "      <th>3</th>\n",
       "      <td>3</td>\n",
       "      <td>male</td>\n",
       "      <td>27.0</td>\n",
       "      <td>8.6625</td>\n",
       "      <td>S</td>\n",
       "      <td>1</td>\n",
       "    </tr>\n",
       "    <tr>\n",
       "      <th>4</th>\n",
       "      <td>3</td>\n",
       "      <td>female</td>\n",
       "      <td>22.0</td>\n",
       "      <td>12.2875</td>\n",
       "      <td>S</td>\n",
       "      <td>3</td>\n",
       "    </tr>\n",
       "  </tbody>\n",
       "</table>\n",
       "</div>"
      ],
      "text/plain": [
       "   Pclass     Sex   Age     Fare Embarked  FamilySize\n",
       "0       3    male  34.5   7.8292        Q           1\n",
       "1       3  female  47.0   7.0000        S           2\n",
       "2       2    male  62.0   9.6875        Q           1\n",
       "3       3    male  27.0   8.6625        S           1\n",
       "4       3  female  22.0  12.2875        S           3"
      ]
     },
     "execution_count": 46,
     "metadata": {},
     "output_type": "execute_result"
    }
   ],
   "source": [
    "test_data.head()"
   ]
  },
  {
   "cell_type": "code",
   "execution_count": 47,
   "id": "d6e71d17",
   "metadata": {
    "execution": {
     "iopub.execute_input": "2024-03-06T11:32:54.141642Z",
     "iopub.status.busy": "2024-03-06T11:32:54.141185Z",
     "iopub.status.idle": "2024-03-06T11:32:54.150228Z",
     "shell.execute_reply": "2024-03-06T11:32:54.148859Z"
    },
    "papermill": {
     "duration": 0.04771,
     "end_time": "2024-03-06T11:32:54.153356",
     "exception": false,
     "start_time": "2024-03-06T11:32:54.105646",
     "status": "completed"
    },
    "tags": []
   },
   "outputs": [],
   "source": [
    "encoded_features_test = encoder.transform(test_data[catogerical_cols])"
   ]
  },
  {
   "cell_type": "code",
   "execution_count": 48,
   "id": "2be93c67",
   "metadata": {
    "execution": {
     "iopub.execute_input": "2024-03-06T11:32:54.224093Z",
     "iopub.status.busy": "2024-03-06T11:32:54.222819Z",
     "iopub.status.idle": "2024-03-06T11:32:54.231831Z",
     "shell.execute_reply": "2024-03-06T11:32:54.230238Z"
    },
    "papermill": {
     "duration": 0.047852,
     "end_time": "2024-03-06T11:32:54.234762",
     "exception": false,
     "start_time": "2024-03-06T11:32:54.186910",
     "status": "completed"
    },
    "tags": []
   },
   "outputs": [],
   "source": [
    "encoded_test = pd.DataFrame(encoded_features_test,\n",
    "                            columns=encoder.get_feature_names_out(catogerical_cols))\n",
    "test_data_enc = pd.concat([test_data, encoded_test], axis=1)"
   ]
  },
  {
   "cell_type": "code",
   "execution_count": 49,
   "id": "bb001132",
   "metadata": {
    "execution": {
     "iopub.execute_input": "2024-03-06T11:32:54.300864Z",
     "iopub.status.busy": "2024-03-06T11:32:54.300436Z",
     "iopub.status.idle": "2024-03-06T11:32:54.307069Z",
     "shell.execute_reply": "2024-03-06T11:32:54.305727Z"
    },
    "papermill": {
     "duration": 0.042585,
     "end_time": "2024-03-06T11:32:54.309610",
     "exception": false,
     "start_time": "2024-03-06T11:32:54.267025",
     "status": "completed"
    },
    "tags": []
   },
   "outputs": [],
   "source": [
    "test_data_enc.drop(catogerical_cols, axis=1, inplace=True)"
   ]
  },
  {
   "cell_type": "code",
   "execution_count": 50,
   "id": "99c8d189",
   "metadata": {
    "execution": {
     "iopub.execute_input": "2024-03-06T11:32:54.377980Z",
     "iopub.status.busy": "2024-03-06T11:32:54.377601Z",
     "iopub.status.idle": "2024-03-06T11:32:54.396632Z",
     "shell.execute_reply": "2024-03-06T11:32:54.395579Z"
    },
    "papermill": {
     "duration": 0.056516,
     "end_time": "2024-03-06T11:32:54.398818",
     "exception": false,
     "start_time": "2024-03-06T11:32:54.342302",
     "status": "completed"
    },
    "tags": []
   },
   "outputs": [
    {
     "data": {
      "text/html": [
       "<div>\n",
       "<style scoped>\n",
       "    .dataframe tbody tr th:only-of-type {\n",
       "        vertical-align: middle;\n",
       "    }\n",
       "\n",
       "    .dataframe tbody tr th {\n",
       "        vertical-align: top;\n",
       "    }\n",
       "\n",
       "    .dataframe thead th {\n",
       "        text-align: right;\n",
       "    }\n",
       "</style>\n",
       "<table border=\"1\" class=\"dataframe\">\n",
       "  <thead>\n",
       "    <tr style=\"text-align: right;\">\n",
       "      <th></th>\n",
       "      <th>Age</th>\n",
       "      <th>Fare</th>\n",
       "      <th>FamilySize</th>\n",
       "      <th>Sex_male</th>\n",
       "      <th>Embarked_Q</th>\n",
       "      <th>Embarked_S</th>\n",
       "      <th>Pclass_2</th>\n",
       "      <th>Pclass_3</th>\n",
       "    </tr>\n",
       "  </thead>\n",
       "  <tbody>\n",
       "    <tr>\n",
       "      <th>0</th>\n",
       "      <td>34.5</td>\n",
       "      <td>7.8292</td>\n",
       "      <td>1</td>\n",
       "      <td>1.0</td>\n",
       "      <td>1.0</td>\n",
       "      <td>0.0</td>\n",
       "      <td>0.0</td>\n",
       "      <td>1.0</td>\n",
       "    </tr>\n",
       "    <tr>\n",
       "      <th>1</th>\n",
       "      <td>47.0</td>\n",
       "      <td>7.0000</td>\n",
       "      <td>2</td>\n",
       "      <td>0.0</td>\n",
       "      <td>0.0</td>\n",
       "      <td>1.0</td>\n",
       "      <td>0.0</td>\n",
       "      <td>1.0</td>\n",
       "    </tr>\n",
       "    <tr>\n",
       "      <th>2</th>\n",
       "      <td>62.0</td>\n",
       "      <td>9.6875</td>\n",
       "      <td>1</td>\n",
       "      <td>1.0</td>\n",
       "      <td>1.0</td>\n",
       "      <td>0.0</td>\n",
       "      <td>1.0</td>\n",
       "      <td>0.0</td>\n",
       "    </tr>\n",
       "    <tr>\n",
       "      <th>3</th>\n",
       "      <td>27.0</td>\n",
       "      <td>8.6625</td>\n",
       "      <td>1</td>\n",
       "      <td>1.0</td>\n",
       "      <td>0.0</td>\n",
       "      <td>1.0</td>\n",
       "      <td>0.0</td>\n",
       "      <td>1.0</td>\n",
       "    </tr>\n",
       "    <tr>\n",
       "      <th>4</th>\n",
       "      <td>22.0</td>\n",
       "      <td>12.2875</td>\n",
       "      <td>3</td>\n",
       "      <td>0.0</td>\n",
       "      <td>0.0</td>\n",
       "      <td>1.0</td>\n",
       "      <td>0.0</td>\n",
       "      <td>1.0</td>\n",
       "    </tr>\n",
       "  </tbody>\n",
       "</table>\n",
       "</div>"
      ],
      "text/plain": [
       "    Age     Fare  FamilySize  Sex_male  Embarked_Q  Embarked_S  Pclass_2  \\\n",
       "0  34.5   7.8292           1       1.0         1.0         0.0       0.0   \n",
       "1  47.0   7.0000           2       0.0         0.0         1.0       0.0   \n",
       "2  62.0   9.6875           1       1.0         1.0         0.0       1.0   \n",
       "3  27.0   8.6625           1       1.0         0.0         1.0       0.0   \n",
       "4  22.0  12.2875           3       0.0         0.0         1.0       0.0   \n",
       "\n",
       "   Pclass_3  \n",
       "0       1.0  \n",
       "1       1.0  \n",
       "2       0.0  \n",
       "3       1.0  \n",
       "4       1.0  "
      ]
     },
     "execution_count": 50,
     "metadata": {},
     "output_type": "execute_result"
    }
   ],
   "source": [
    "test_data_enc.head()"
   ]
  },
  {
   "cell_type": "code",
   "execution_count": 51,
   "id": "17e28588",
   "metadata": {
    "execution": {
     "iopub.execute_input": "2024-03-06T11:32:54.464960Z",
     "iopub.status.busy": "2024-03-06T11:32:54.464412Z",
     "iopub.status.idle": "2024-03-06T11:32:54.472685Z",
     "shell.execute_reply": "2024-03-06T11:32:54.471384Z"
    },
    "papermill": {
     "duration": 0.044613,
     "end_time": "2024-03-06T11:32:54.475503",
     "exception": false,
     "start_time": "2024-03-06T11:32:54.430890",
     "status": "completed"
    },
    "tags": []
   },
   "outputs": [
    {
     "data": {
      "text/plain": [
       "(418, 8)"
      ]
     },
     "execution_count": 51,
     "metadata": {},
     "output_type": "execute_result"
    }
   ],
   "source": [
    "test_data_enc.shape"
   ]
  },
  {
   "cell_type": "code",
   "execution_count": 52,
   "id": "d476f183",
   "metadata": {
    "execution": {
     "iopub.execute_input": "2024-03-06T11:32:54.542151Z",
     "iopub.status.busy": "2024-03-06T11:32:54.541726Z",
     "iopub.status.idle": "2024-03-06T11:32:54.547207Z",
     "shell.execute_reply": "2024-03-06T11:32:54.545900Z"
    },
    "papermill": {
     "duration": 0.041903,
     "end_time": "2024-03-06T11:32:54.549713",
     "exception": false,
     "start_time": "2024-03-06T11:32:54.507810",
     "status": "completed"
    },
    "tags": []
   },
   "outputs": [],
   "source": [
    "cols = X_train_enc.columns"
   ]
  },
  {
   "cell_type": "markdown",
   "id": "0471a875",
   "metadata": {
    "papermill": {
     "duration": 0.032594,
     "end_time": "2024-03-06T11:32:54.614260",
     "exception": false,
     "start_time": "2024-03-06T11:32:54.581666",
     "status": "completed"
    },
    "tags": []
   },
   "source": [
    "# Feature Scaling"
   ]
  },
  {
   "cell_type": "code",
   "execution_count": 53,
   "id": "eadeab32",
   "metadata": {
    "execution": {
     "iopub.execute_input": "2024-03-06T11:32:54.680792Z",
     "iopub.status.busy": "2024-03-06T11:32:54.680376Z",
     "iopub.status.idle": "2024-03-06T11:32:54.685764Z",
     "shell.execute_reply": "2024-03-06T11:32:54.684390Z"
    },
    "papermill": {
     "duration": 0.041408,
     "end_time": "2024-03-06T11:32:54.688239",
     "exception": false,
     "start_time": "2024-03-06T11:32:54.646831",
     "status": "completed"
    },
    "tags": []
   },
   "outputs": [],
   "source": [
    "from sklearn.preprocessing import RobustScaler"
   ]
  },
  {
   "cell_type": "code",
   "execution_count": 54,
   "id": "ac7f1b0a",
   "metadata": {
    "execution": {
     "iopub.execute_input": "2024-03-06T11:32:54.754613Z",
     "iopub.status.busy": "2024-03-06T11:32:54.754131Z",
     "iopub.status.idle": "2024-03-06T11:32:54.760245Z",
     "shell.execute_reply": "2024-03-06T11:32:54.758648Z"
    },
    "papermill": {
     "duration": 0.042549,
     "end_time": "2024-03-06T11:32:54.762863",
     "exception": false,
     "start_time": "2024-03-06T11:32:54.720314",
     "status": "completed"
    },
    "tags": []
   },
   "outputs": [],
   "source": [
    "robust_scaler = RobustScaler()"
   ]
  },
  {
   "cell_type": "code",
   "execution_count": 55,
   "id": "92499ead",
   "metadata": {
    "execution": {
     "iopub.execute_input": "2024-03-06T11:32:54.830521Z",
     "iopub.status.busy": "2024-03-06T11:32:54.830122Z",
     "iopub.status.idle": "2024-03-06T11:32:54.842480Z",
     "shell.execute_reply": "2024-03-06T11:32:54.841308Z"
    },
    "papermill": {
     "duration": 0.049295,
     "end_time": "2024-03-06T11:32:54.845063",
     "exception": false,
     "start_time": "2024-03-06T11:32:54.795768",
     "status": "completed"
    },
    "tags": []
   },
   "outputs": [],
   "source": [
    "X_train_scaled = robust_scaler.fit_transform(X_train_enc)"
   ]
  },
  {
   "cell_type": "code",
   "execution_count": 56,
   "id": "255361e4",
   "metadata": {
    "execution": {
     "iopub.execute_input": "2024-03-06T11:32:54.912251Z",
     "iopub.status.busy": "2024-03-06T11:32:54.911786Z",
     "iopub.status.idle": "2024-03-06T11:32:54.917873Z",
     "shell.execute_reply": "2024-03-06T11:32:54.916680Z"
    },
    "papermill": {
     "duration": 0.042299,
     "end_time": "2024-03-06T11:32:54.920212",
     "exception": false,
     "start_time": "2024-03-06T11:32:54.877913",
     "status": "completed"
    },
    "tags": []
   },
   "outputs": [],
   "source": [
    "X_train = pd.DataFrame(X_train_scaled, columns=cols)"
   ]
  },
  {
   "cell_type": "code",
   "execution_count": 57,
   "id": "8dc176c8",
   "metadata": {
    "execution": {
     "iopub.execute_input": "2024-03-06T11:32:54.987853Z",
     "iopub.status.busy": "2024-03-06T11:32:54.987414Z",
     "iopub.status.idle": "2024-03-06T11:32:55.007934Z",
     "shell.execute_reply": "2024-03-06T11:32:55.006771Z"
    },
    "papermill": {
     "duration": 0.05749,
     "end_time": "2024-03-06T11:32:55.010504",
     "exception": false,
     "start_time": "2024-03-06T11:32:54.953014",
     "status": "completed"
    },
    "tags": []
   },
   "outputs": [
    {
     "data": {
      "text/html": [
       "<div>\n",
       "<style scoped>\n",
       "    .dataframe tbody tr th:only-of-type {\n",
       "        vertical-align: middle;\n",
       "    }\n",
       "\n",
       "    .dataframe tbody tr th {\n",
       "        vertical-align: top;\n",
       "    }\n",
       "\n",
       "    .dataframe thead th {\n",
       "        text-align: right;\n",
       "    }\n",
       "</style>\n",
       "<table border=\"1\" class=\"dataframe\">\n",
       "  <thead>\n",
       "    <tr style=\"text-align: right;\">\n",
       "      <th></th>\n",
       "      <th>Age</th>\n",
       "      <th>Fare</th>\n",
       "      <th>FamilySize</th>\n",
       "      <th>Sex_male</th>\n",
       "      <th>Embarked_Q</th>\n",
       "      <th>Embarked_S</th>\n",
       "      <th>Pclass_2</th>\n",
       "      <th>Pclass_3</th>\n",
       "    </tr>\n",
       "  </thead>\n",
       "  <tbody>\n",
       "    <tr>\n",
       "      <th>0</th>\n",
       "      <td>-0.545455</td>\n",
       "      <td>-0.286340</td>\n",
       "      <td>1.0</td>\n",
       "      <td>0.0</td>\n",
       "      <td>0.0</td>\n",
       "      <td>0.0</td>\n",
       "      <td>0.0</td>\n",
       "      <td>0.0</td>\n",
       "    </tr>\n",
       "    <tr>\n",
       "      <th>1</th>\n",
       "      <td>0.909091</td>\n",
       "      <td>3.357941</td>\n",
       "      <td>1.0</td>\n",
       "      <td>-1.0</td>\n",
       "      <td>0.0</td>\n",
       "      <td>-1.0</td>\n",
       "      <td>0.0</td>\n",
       "      <td>-1.0</td>\n",
       "    </tr>\n",
       "    <tr>\n",
       "      <th>2</th>\n",
       "      <td>-0.181818</td>\n",
       "      <td>-0.247924</td>\n",
       "      <td>0.0</td>\n",
       "      <td>-1.0</td>\n",
       "      <td>0.0</td>\n",
       "      <td>0.0</td>\n",
       "      <td>0.0</td>\n",
       "      <td>0.0</td>\n",
       "    </tr>\n",
       "    <tr>\n",
       "      <th>3</th>\n",
       "      <td>0.636364</td>\n",
       "      <td>2.323088</td>\n",
       "      <td>1.0</td>\n",
       "      <td>-1.0</td>\n",
       "      <td>0.0</td>\n",
       "      <td>0.0</td>\n",
       "      <td>0.0</td>\n",
       "      <td>-1.0</td>\n",
       "    </tr>\n",
       "    <tr>\n",
       "      <th>4</th>\n",
       "      <td>0.636364</td>\n",
       "      <td>-0.240810</td>\n",
       "      <td>0.0</td>\n",
       "      <td>0.0</td>\n",
       "      <td>0.0</td>\n",
       "      <td>0.0</td>\n",
       "      <td>0.0</td>\n",
       "      <td>0.0</td>\n",
       "    </tr>\n",
       "  </tbody>\n",
       "</table>\n",
       "</div>"
      ],
      "text/plain": [
       "        Age      Fare  FamilySize  Sex_male  Embarked_Q  Embarked_S  Pclass_2  \\\n",
       "0 -0.545455 -0.286340         1.0       0.0         0.0         0.0       0.0   \n",
       "1  0.909091  3.357941         1.0      -1.0         0.0        -1.0       0.0   \n",
       "2 -0.181818 -0.247924         0.0      -1.0         0.0         0.0       0.0   \n",
       "3  0.636364  2.323088         1.0      -1.0         0.0         0.0       0.0   \n",
       "4  0.636364 -0.240810         0.0       0.0         0.0         0.0       0.0   \n",
       "\n",
       "   Pclass_3  \n",
       "0       0.0  \n",
       "1      -1.0  \n",
       "2       0.0  \n",
       "3      -1.0  \n",
       "4       0.0  "
      ]
     },
     "execution_count": 57,
     "metadata": {},
     "output_type": "execute_result"
    }
   ],
   "source": [
    "X_train.head()"
   ]
  },
  {
   "cell_type": "code",
   "execution_count": 58,
   "id": "373ea1f0",
   "metadata": {
    "execution": {
     "iopub.execute_input": "2024-03-06T11:32:55.081121Z",
     "iopub.status.busy": "2024-03-06T11:32:55.080652Z",
     "iopub.status.idle": "2024-03-06T11:32:55.088805Z",
     "shell.execute_reply": "2024-03-06T11:32:55.087606Z"
    },
    "papermill": {
     "duration": 0.04669,
     "end_time": "2024-03-06T11:32:55.091177",
     "exception": false,
     "start_time": "2024-03-06T11:32:55.044487",
     "status": "completed"
    },
    "tags": []
   },
   "outputs": [],
   "source": [
    "test_data_scaled = robust_scaler.transform(test_data_enc)"
   ]
  },
  {
   "cell_type": "code",
   "execution_count": 59,
   "id": "87fb5bbf",
   "metadata": {
    "execution": {
     "iopub.execute_input": "2024-03-06T11:32:55.160494Z",
     "iopub.status.busy": "2024-03-06T11:32:55.160021Z",
     "iopub.status.idle": "2024-03-06T11:32:55.171014Z",
     "shell.execute_reply": "2024-03-06T11:32:55.169505Z"
    },
    "papermill": {
     "duration": 0.048665,
     "end_time": "2024-03-06T11:32:55.173520",
     "exception": false,
     "start_time": "2024-03-06T11:32:55.124855",
     "status": "completed"
    },
    "tags": []
   },
   "outputs": [
    {
     "data": {
      "text/plain": [
       "Pclass        0\n",
       "Sex           0\n",
       "Age           0\n",
       "Fare          0\n",
       "Embarked      0\n",
       "FamilySize    0\n",
       "dtype: int64"
      ]
     },
     "execution_count": 59,
     "metadata": {},
     "output_type": "execute_result"
    }
   ],
   "source": [
    "test_data.isnull().sum()"
   ]
  },
  {
   "cell_type": "code",
   "execution_count": 60,
   "id": "7cee5cd0",
   "metadata": {
    "execution": {
     "iopub.execute_input": "2024-03-06T11:32:55.244768Z",
     "iopub.status.busy": "2024-03-06T11:32:55.243912Z",
     "iopub.status.idle": "2024-03-06T11:32:55.252538Z",
     "shell.execute_reply": "2024-03-06T11:32:55.251319Z"
    },
    "papermill": {
     "duration": 0.048291,
     "end_time": "2024-03-06T11:32:55.255017",
     "exception": false,
     "start_time": "2024-03-06T11:32:55.206726",
     "status": "completed"
    },
    "tags": []
   },
   "outputs": [
    {
     "data": {
      "text/plain": [
       "array([[ 0.59090909, -0.25337632,  0.        , ..., -1.        ,\n",
       "         0.        ,  0.        ],\n",
       "       [ 1.72727273, -0.30056798,  1.        , ...,  0.        ,\n",
       "         0.        ,  0.        ],\n",
       "       [ 3.09090909, -0.14761623,  0.        , ..., -1.        ,\n",
       "         1.        , -1.        ],\n",
       "       ...,\n",
       "       [ 0.95454545, -0.28633991,  0.        , ...,  0.        ,\n",
       "         0.        ,  0.        ],\n",
       "       [-0.09090909, -0.24081009,  0.        , ...,  0.        ,\n",
       "         0.        ,  0.        ],\n",
       "       [-0.09090909,  0.5735079 ,  2.        , ..., -1.        ,\n",
       "         0.        ,  0.        ]])"
      ]
     },
     "execution_count": 60,
     "metadata": {},
     "output_type": "execute_result"
    }
   ],
   "source": [
    "test_data_scaled"
   ]
  },
  {
   "cell_type": "code",
   "execution_count": 61,
   "id": "d714a680",
   "metadata": {
    "execution": {
     "iopub.execute_input": "2024-03-06T11:32:55.324226Z",
     "iopub.status.busy": "2024-03-06T11:32:55.323707Z",
     "iopub.status.idle": "2024-03-06T11:32:55.329828Z",
     "shell.execute_reply": "2024-03-06T11:32:55.328578Z"
    },
    "papermill": {
     "duration": 0.044023,
     "end_time": "2024-03-06T11:32:55.332425",
     "exception": false,
     "start_time": "2024-03-06T11:32:55.288402",
     "status": "completed"
    },
    "tags": []
   },
   "outputs": [],
   "source": [
    "test_data = pd.DataFrame(test_data_scaled, columns=cols)"
   ]
  },
  {
   "cell_type": "code",
   "execution_count": 62,
   "id": "4fe136c7",
   "metadata": {
    "execution": {
     "iopub.execute_input": "2024-03-06T11:32:55.402253Z",
     "iopub.status.busy": "2024-03-06T11:32:55.401680Z",
     "iopub.status.idle": "2024-03-06T11:32:55.411597Z",
     "shell.execute_reply": "2024-03-06T11:32:55.410665Z"
    },
    "papermill": {
     "duration": 0.047533,
     "end_time": "2024-03-06T11:32:55.413859",
     "exception": false,
     "start_time": "2024-03-06T11:32:55.366326",
     "status": "completed"
    },
    "tags": []
   },
   "outputs": [
    {
     "data": {
      "text/plain": [
       "Age           0\n",
       "Fare          0\n",
       "FamilySize    0\n",
       "Sex_male      0\n",
       "Embarked_Q    0\n",
       "Embarked_S    0\n",
       "Pclass_2      0\n",
       "Pclass_3      0\n",
       "dtype: int64"
      ]
     },
     "execution_count": 62,
     "metadata": {},
     "output_type": "execute_result"
    }
   ],
   "source": [
    "test_data.isnull().sum()"
   ]
  },
  {
   "cell_type": "code",
   "execution_count": 63,
   "id": "963c2e7d",
   "metadata": {
    "execution": {
     "iopub.execute_input": "2024-03-06T11:32:55.484271Z",
     "iopub.status.busy": "2024-03-06T11:32:55.483789Z",
     "iopub.status.idle": "2024-03-06T11:32:55.490682Z",
     "shell.execute_reply": "2024-03-06T11:32:55.489356Z"
    },
    "papermill": {
     "duration": 0.044956,
     "end_time": "2024-03-06T11:32:55.493224",
     "exception": false,
     "start_time": "2024-03-06T11:32:55.448268",
     "status": "completed"
    },
    "tags": []
   },
   "outputs": [],
   "source": [
    "test_data = test_data.dropna(axis=0)"
   ]
  },
  {
   "cell_type": "code",
   "execution_count": 64,
   "id": "2c07104c",
   "metadata": {
    "execution": {
     "iopub.execute_input": "2024-03-06T11:32:55.565207Z",
     "iopub.status.busy": "2024-03-06T11:32:55.564743Z",
     "iopub.status.idle": "2024-03-06T11:32:55.572737Z",
     "shell.execute_reply": "2024-03-06T11:32:55.571528Z"
    },
    "papermill": {
     "duration": 0.047024,
     "end_time": "2024-03-06T11:32:55.575408",
     "exception": false,
     "start_time": "2024-03-06T11:32:55.528384",
     "status": "completed"
    },
    "tags": []
   },
   "outputs": [
    {
     "data": {
      "text/plain": [
       "(418, 8)"
      ]
     },
     "execution_count": 64,
     "metadata": {},
     "output_type": "execute_result"
    }
   ],
   "source": [
    "test_data.shape"
   ]
  },
  {
   "cell_type": "code",
   "execution_count": 65,
   "id": "00671477",
   "metadata": {
    "execution": {
     "iopub.execute_input": "2024-03-06T11:32:55.649328Z",
     "iopub.status.busy": "2024-03-06T11:32:55.648136Z",
     "iopub.status.idle": "2024-03-06T11:32:55.658541Z",
     "shell.execute_reply": "2024-03-06T11:32:55.657063Z"
    },
    "papermill": {
     "duration": 0.049972,
     "end_time": "2024-03-06T11:32:55.660912",
     "exception": false,
     "start_time": "2024-03-06T11:32:55.610940",
     "status": "completed"
    },
    "tags": []
   },
   "outputs": [
    {
     "data": {
      "text/plain": [
       "Age           0\n",
       "Fare          0\n",
       "FamilySize    0\n",
       "Sex_male      0\n",
       "Embarked_Q    0\n",
       "Embarked_S    0\n",
       "Pclass_2      0\n",
       "Pclass_3      0\n",
       "dtype: int64"
      ]
     },
     "execution_count": 65,
     "metadata": {},
     "output_type": "execute_result"
    }
   ],
   "source": [
    "test_data.isnull().sum()"
   ]
  },
  {
   "cell_type": "code",
   "execution_count": 66,
   "id": "18de9aec",
   "metadata": {
    "execution": {
     "iopub.execute_input": "2024-03-06T11:32:55.733596Z",
     "iopub.status.busy": "2024-03-06T11:32:55.733160Z",
     "iopub.status.idle": "2024-03-06T11:32:55.752546Z",
     "shell.execute_reply": "2024-03-06T11:32:55.751257Z"
    },
    "papermill": {
     "duration": 0.058945,
     "end_time": "2024-03-06T11:32:55.755102",
     "exception": false,
     "start_time": "2024-03-06T11:32:55.696157",
     "status": "completed"
    },
    "tags": []
   },
   "outputs": [
    {
     "data": {
      "text/html": [
       "<div>\n",
       "<style scoped>\n",
       "    .dataframe tbody tr th:only-of-type {\n",
       "        vertical-align: middle;\n",
       "    }\n",
       "\n",
       "    .dataframe tbody tr th {\n",
       "        vertical-align: top;\n",
       "    }\n",
       "\n",
       "    .dataframe thead th {\n",
       "        text-align: right;\n",
       "    }\n",
       "</style>\n",
       "<table border=\"1\" class=\"dataframe\">\n",
       "  <thead>\n",
       "    <tr style=\"text-align: right;\">\n",
       "      <th></th>\n",
       "      <th>Age</th>\n",
       "      <th>Fare</th>\n",
       "      <th>FamilySize</th>\n",
       "      <th>Sex_male</th>\n",
       "      <th>Embarked_Q</th>\n",
       "      <th>Embarked_S</th>\n",
       "      <th>Pclass_2</th>\n",
       "      <th>Pclass_3</th>\n",
       "    </tr>\n",
       "  </thead>\n",
       "  <tbody>\n",
       "    <tr>\n",
       "      <th>0</th>\n",
       "      <td>0.590909</td>\n",
       "      <td>-0.253376</td>\n",
       "      <td>0.0</td>\n",
       "      <td>0.0</td>\n",
       "      <td>1.0</td>\n",
       "      <td>-1.0</td>\n",
       "      <td>0.0</td>\n",
       "      <td>0.0</td>\n",
       "    </tr>\n",
       "    <tr>\n",
       "      <th>1</th>\n",
       "      <td>1.727273</td>\n",
       "      <td>-0.300568</td>\n",
       "      <td>1.0</td>\n",
       "      <td>-1.0</td>\n",
       "      <td>0.0</td>\n",
       "      <td>0.0</td>\n",
       "      <td>0.0</td>\n",
       "      <td>0.0</td>\n",
       "    </tr>\n",
       "    <tr>\n",
       "      <th>2</th>\n",
       "      <td>3.090909</td>\n",
       "      <td>-0.147616</td>\n",
       "      <td>0.0</td>\n",
       "      <td>0.0</td>\n",
       "      <td>1.0</td>\n",
       "      <td>-1.0</td>\n",
       "      <td>1.0</td>\n",
       "      <td>-1.0</td>\n",
       "    </tr>\n",
       "    <tr>\n",
       "      <th>3</th>\n",
       "      <td>-0.090909</td>\n",
       "      <td>-0.205951</td>\n",
       "      <td>0.0</td>\n",
       "      <td>0.0</td>\n",
       "      <td>0.0</td>\n",
       "      <td>0.0</td>\n",
       "      <td>0.0</td>\n",
       "      <td>0.0</td>\n",
       "    </tr>\n",
       "    <tr>\n",
       "      <th>4</th>\n",
       "      <td>-0.545455</td>\n",
       "      <td>0.000356</td>\n",
       "      <td>2.0</td>\n",
       "      <td>-1.0</td>\n",
       "      <td>0.0</td>\n",
       "      <td>0.0</td>\n",
       "      <td>0.0</td>\n",
       "      <td>0.0</td>\n",
       "    </tr>\n",
       "  </tbody>\n",
       "</table>\n",
       "</div>"
      ],
      "text/plain": [
       "        Age      Fare  FamilySize  Sex_male  Embarked_Q  Embarked_S  Pclass_2  \\\n",
       "0  0.590909 -0.253376         0.0       0.0         1.0        -1.0       0.0   \n",
       "1  1.727273 -0.300568         1.0      -1.0         0.0         0.0       0.0   \n",
       "2  3.090909 -0.147616         0.0       0.0         1.0        -1.0       1.0   \n",
       "3 -0.090909 -0.205951         0.0       0.0         0.0         0.0       0.0   \n",
       "4 -0.545455  0.000356         2.0      -1.0         0.0         0.0       0.0   \n",
       "\n",
       "   Pclass_3  \n",
       "0       0.0  \n",
       "1       0.0  \n",
       "2      -1.0  \n",
       "3       0.0  \n",
       "4       0.0  "
      ]
     },
     "execution_count": 66,
     "metadata": {},
     "output_type": "execute_result"
    }
   ],
   "source": [
    "test_data.head()"
   ]
  },
  {
   "cell_type": "code",
   "execution_count": 67,
   "id": "db65a95b",
   "metadata": {
    "execution": {
     "iopub.execute_input": "2024-03-06T11:32:55.829414Z",
     "iopub.status.busy": "2024-03-06T11:32:55.828966Z",
     "iopub.status.idle": "2024-03-06T11:32:55.838928Z",
     "shell.execute_reply": "2024-03-06T11:32:55.837604Z"
    },
    "papermill": {
     "duration": 0.050148,
     "end_time": "2024-03-06T11:32:55.841456",
     "exception": false,
     "start_time": "2024-03-06T11:32:55.791308",
     "status": "completed"
    },
    "tags": []
   },
   "outputs": [
    {
     "data": {
      "text/plain": [
       "Age           0\n",
       "Fare          0\n",
       "FamilySize    0\n",
       "Sex_male      0\n",
       "Embarked_Q    0\n",
       "Embarked_S    0\n",
       "Pclass_2      0\n",
       "Pclass_3      0\n",
       "dtype: int64"
      ]
     },
     "execution_count": 67,
     "metadata": {},
     "output_type": "execute_result"
    }
   ],
   "source": [
    "test_data.isnull().sum()"
   ]
  },
  {
   "cell_type": "markdown",
   "id": "d62125b8",
   "metadata": {
    "papermill": {
     "duration": 0.036036,
     "end_time": "2024-03-06T11:32:55.914197",
     "exception": false,
     "start_time": "2024-03-06T11:32:55.878161",
     "status": "completed"
    },
    "tags": []
   },
   "source": [
    "# Logistic Regression"
   ]
  },
  {
   "cell_type": "code",
   "execution_count": 68,
   "id": "b4594a10",
   "metadata": {
    "execution": {
     "iopub.execute_input": "2024-03-06T11:32:55.989119Z",
     "iopub.status.busy": "2024-03-06T11:32:55.988676Z",
     "iopub.status.idle": "2024-03-06T11:32:56.212171Z",
     "shell.execute_reply": "2024-03-06T11:32:56.210779Z"
    },
    "papermill": {
     "duration": 0.264294,
     "end_time": "2024-03-06T11:32:56.215416",
     "exception": false,
     "start_time": "2024-03-06T11:32:55.951122",
     "status": "completed"
    },
    "tags": []
   },
   "outputs": [],
   "source": [
    "from sklearn.linear_model import LogisticRegression"
   ]
  },
  {
   "cell_type": "code",
   "execution_count": 69,
   "id": "37660d33",
   "metadata": {
    "execution": {
     "iopub.execute_input": "2024-03-06T11:32:56.291660Z",
     "iopub.status.busy": "2024-03-06T11:32:56.291268Z",
     "iopub.status.idle": "2024-03-06T11:32:56.296605Z",
     "shell.execute_reply": "2024-03-06T11:32:56.295348Z"
    },
    "papermill": {
     "duration": 0.044744,
     "end_time": "2024-03-06T11:32:56.299316",
     "exception": false,
     "start_time": "2024-03-06T11:32:56.254572",
     "status": "completed"
    },
    "tags": []
   },
   "outputs": [],
   "source": [
    "logistic_regr = LogisticRegression(random_state=42)"
   ]
  },
  {
   "cell_type": "code",
   "execution_count": 70,
   "id": "37386a6b",
   "metadata": {
    "execution": {
     "iopub.execute_input": "2024-03-06T11:32:56.375923Z",
     "iopub.status.busy": "2024-03-06T11:32:56.375159Z",
     "iopub.status.idle": "2024-03-06T11:32:56.399309Z",
     "shell.execute_reply": "2024-03-06T11:32:56.398145Z"
    },
    "papermill": {
     "duration": 0.065603,
     "end_time": "2024-03-06T11:32:56.402015",
     "exception": false,
     "start_time": "2024-03-06T11:32:56.336412",
     "status": "completed"
    },
    "tags": []
   },
   "outputs": [
    {
     "data": {
      "text/html": [
       "<style>#sk-container-id-1 {color: black;background-color: white;}#sk-container-id-1 pre{padding: 0;}#sk-container-id-1 div.sk-toggleable {background-color: white;}#sk-container-id-1 label.sk-toggleable__label {cursor: pointer;display: block;width: 100%;margin-bottom: 0;padding: 0.3em;box-sizing: border-box;text-align: center;}#sk-container-id-1 label.sk-toggleable__label-arrow:before {content: \"▸\";float: left;margin-right: 0.25em;color: #696969;}#sk-container-id-1 label.sk-toggleable__label-arrow:hover:before {color: black;}#sk-container-id-1 div.sk-estimator:hover label.sk-toggleable__label-arrow:before {color: black;}#sk-container-id-1 div.sk-toggleable__content {max-height: 0;max-width: 0;overflow: hidden;text-align: left;background-color: #f0f8ff;}#sk-container-id-1 div.sk-toggleable__content pre {margin: 0.2em;color: black;border-radius: 0.25em;background-color: #f0f8ff;}#sk-container-id-1 input.sk-toggleable__control:checked~div.sk-toggleable__content {max-height: 200px;max-width: 100%;overflow: auto;}#sk-container-id-1 input.sk-toggleable__control:checked~label.sk-toggleable__label-arrow:before {content: \"▾\";}#sk-container-id-1 div.sk-estimator input.sk-toggleable__control:checked~label.sk-toggleable__label {background-color: #d4ebff;}#sk-container-id-1 div.sk-label input.sk-toggleable__control:checked~label.sk-toggleable__label {background-color: #d4ebff;}#sk-container-id-1 input.sk-hidden--visually {border: 0;clip: rect(1px 1px 1px 1px);clip: rect(1px, 1px, 1px, 1px);height: 1px;margin: -1px;overflow: hidden;padding: 0;position: absolute;width: 1px;}#sk-container-id-1 div.sk-estimator {font-family: monospace;background-color: #f0f8ff;border: 1px dotted black;border-radius: 0.25em;box-sizing: border-box;margin-bottom: 0.5em;}#sk-container-id-1 div.sk-estimator:hover {background-color: #d4ebff;}#sk-container-id-1 div.sk-parallel-item::after {content: \"\";width: 100%;border-bottom: 1px solid gray;flex-grow: 1;}#sk-container-id-1 div.sk-label:hover label.sk-toggleable__label {background-color: #d4ebff;}#sk-container-id-1 div.sk-serial::before {content: \"\";position: absolute;border-left: 1px solid gray;box-sizing: border-box;top: 0;bottom: 0;left: 50%;z-index: 0;}#sk-container-id-1 div.sk-serial {display: flex;flex-direction: column;align-items: center;background-color: white;padding-right: 0.2em;padding-left: 0.2em;position: relative;}#sk-container-id-1 div.sk-item {position: relative;z-index: 1;}#sk-container-id-1 div.sk-parallel {display: flex;align-items: stretch;justify-content: center;background-color: white;position: relative;}#sk-container-id-1 div.sk-item::before, #sk-container-id-1 div.sk-parallel-item::before {content: \"\";position: absolute;border-left: 1px solid gray;box-sizing: border-box;top: 0;bottom: 0;left: 50%;z-index: -1;}#sk-container-id-1 div.sk-parallel-item {display: flex;flex-direction: column;z-index: 1;position: relative;background-color: white;}#sk-container-id-1 div.sk-parallel-item:first-child::after {align-self: flex-end;width: 50%;}#sk-container-id-1 div.sk-parallel-item:last-child::after {align-self: flex-start;width: 50%;}#sk-container-id-1 div.sk-parallel-item:only-child::after {width: 0;}#sk-container-id-1 div.sk-dashed-wrapped {border: 1px dashed gray;margin: 0 0.4em 0.5em 0.4em;box-sizing: border-box;padding-bottom: 0.4em;background-color: white;}#sk-container-id-1 div.sk-label label {font-family: monospace;font-weight: bold;display: inline-block;line-height: 1.2em;}#sk-container-id-1 div.sk-label-container {text-align: center;}#sk-container-id-1 div.sk-container {/* jupyter's `normalize.less` sets `[hidden] { display: none; }` but bootstrap.min.css set `[hidden] { display: none !important; }` so we also need the `!important` here to be able to override the default hidden behavior on the sphinx rendered scikit-learn.org. See: https://github.com/scikit-learn/scikit-learn/issues/21755 */display: inline-block !important;position: relative;}#sk-container-id-1 div.sk-text-repr-fallback {display: none;}</style><div id=\"sk-container-id-1\" class=\"sk-top-container\"><div class=\"sk-text-repr-fallback\"><pre>LogisticRegression(random_state=42)</pre><b>In a Jupyter environment, please rerun this cell to show the HTML representation or trust the notebook. <br />On GitHub, the HTML representation is unable to render, please try loading this page with nbviewer.org.</b></div><div class=\"sk-container\" hidden><div class=\"sk-item\"><div class=\"sk-estimator sk-toggleable\"><input class=\"sk-toggleable__control sk-hidden--visually\" id=\"sk-estimator-id-1\" type=\"checkbox\" checked><label for=\"sk-estimator-id-1\" class=\"sk-toggleable__label sk-toggleable__label-arrow\">LogisticRegression</label><div class=\"sk-toggleable__content\"><pre>LogisticRegression(random_state=42)</pre></div></div></div></div></div>"
      ],
      "text/plain": [
       "LogisticRegression(random_state=42)"
      ]
     },
     "execution_count": 70,
     "metadata": {},
     "output_type": "execute_result"
    }
   ],
   "source": [
    "logistic_regr.fit(X_train, y_train)"
   ]
  },
  {
   "cell_type": "code",
   "execution_count": 71,
   "id": "0b649062",
   "metadata": {
    "execution": {
     "iopub.execute_input": "2024-03-06T11:32:56.476270Z",
     "iopub.status.busy": "2024-03-06T11:32:56.475444Z",
     "iopub.status.idle": "2024-03-06T11:32:56.482239Z",
     "shell.execute_reply": "2024-03-06T11:32:56.481373Z"
    },
    "papermill": {
     "duration": 0.046727,
     "end_time": "2024-03-06T11:32:56.484855",
     "exception": false,
     "start_time": "2024-03-06T11:32:56.438128",
     "status": "completed"
    },
    "tags": []
   },
   "outputs": [],
   "source": [
    "prediction = logistic_regr.predict(test_data)"
   ]
  },
  {
   "cell_type": "code",
   "execution_count": 72,
   "id": "98e7ff81",
   "metadata": {
    "execution": {
     "iopub.execute_input": "2024-03-06T11:32:56.557855Z",
     "iopub.status.busy": "2024-03-06T11:32:56.557042Z",
     "iopub.status.idle": "2024-03-06T11:32:56.562633Z",
     "shell.execute_reply": "2024-03-06T11:32:56.561843Z"
    },
    "papermill": {
     "duration": 0.044741,
     "end_time": "2024-03-06T11:32:56.564972",
     "exception": false,
     "start_time": "2024-03-06T11:32:56.520231",
     "status": "completed"
    },
    "tags": []
   },
   "outputs": [],
   "source": [
    "values = {'PassengerId' : test_passenger_id, 'Survived' : prediction}\n",
    "output = pd.DataFrame(values)"
   ]
  },
  {
   "cell_type": "code",
   "execution_count": 73,
   "id": "bda67e0f",
   "metadata": {
    "execution": {
     "iopub.execute_input": "2024-03-06T11:32:56.639930Z",
     "iopub.status.busy": "2024-03-06T11:32:56.639472Z",
     "iopub.status.idle": "2024-03-06T11:32:56.653515Z",
     "shell.execute_reply": "2024-03-06T11:32:56.652150Z"
    },
    "papermill": {
     "duration": 0.054721,
     "end_time": "2024-03-06T11:32:56.655934",
     "exception": false,
     "start_time": "2024-03-06T11:32:56.601213",
     "status": "completed"
    },
    "tags": []
   },
   "outputs": [
    {
     "data": {
      "text/html": [
       "<div>\n",
       "<style scoped>\n",
       "    .dataframe tbody tr th:only-of-type {\n",
       "        vertical-align: middle;\n",
       "    }\n",
       "\n",
       "    .dataframe tbody tr th {\n",
       "        vertical-align: top;\n",
       "    }\n",
       "\n",
       "    .dataframe thead th {\n",
       "        text-align: right;\n",
       "    }\n",
       "</style>\n",
       "<table border=\"1\" class=\"dataframe\">\n",
       "  <thead>\n",
       "    <tr style=\"text-align: right;\">\n",
       "      <th></th>\n",
       "      <th>PassengerId</th>\n",
       "      <th>Survived</th>\n",
       "    </tr>\n",
       "  </thead>\n",
       "  <tbody>\n",
       "    <tr>\n",
       "      <th>0</th>\n",
       "      <td>892</td>\n",
       "      <td>0</td>\n",
       "    </tr>\n",
       "    <tr>\n",
       "      <th>1</th>\n",
       "      <td>893</td>\n",
       "      <td>0</td>\n",
       "    </tr>\n",
       "    <tr>\n",
       "      <th>2</th>\n",
       "      <td>894</td>\n",
       "      <td>0</td>\n",
       "    </tr>\n",
       "    <tr>\n",
       "      <th>3</th>\n",
       "      <td>895</td>\n",
       "      <td>0</td>\n",
       "    </tr>\n",
       "    <tr>\n",
       "      <th>4</th>\n",
       "      <td>896</td>\n",
       "      <td>1</td>\n",
       "    </tr>\n",
       "    <tr>\n",
       "      <th>...</th>\n",
       "      <td>...</td>\n",
       "      <td>...</td>\n",
       "    </tr>\n",
       "    <tr>\n",
       "      <th>413</th>\n",
       "      <td>1305</td>\n",
       "      <td>0</td>\n",
       "    </tr>\n",
       "    <tr>\n",
       "      <th>414</th>\n",
       "      <td>1306</td>\n",
       "      <td>1</td>\n",
       "    </tr>\n",
       "    <tr>\n",
       "      <th>415</th>\n",
       "      <td>1307</td>\n",
       "      <td>0</td>\n",
       "    </tr>\n",
       "    <tr>\n",
       "      <th>416</th>\n",
       "      <td>1308</td>\n",
       "      <td>0</td>\n",
       "    </tr>\n",
       "    <tr>\n",
       "      <th>417</th>\n",
       "      <td>1309</td>\n",
       "      <td>0</td>\n",
       "    </tr>\n",
       "  </tbody>\n",
       "</table>\n",
       "<p>418 rows × 2 columns</p>\n",
       "</div>"
      ],
      "text/plain": [
       "     PassengerId  Survived\n",
       "0            892         0\n",
       "1            893         0\n",
       "2            894         0\n",
       "3            895         0\n",
       "4            896         1\n",
       "..           ...       ...\n",
       "413         1305         0\n",
       "414         1306         1\n",
       "415         1307         0\n",
       "416         1308         0\n",
       "417         1309         0\n",
       "\n",
       "[418 rows x 2 columns]"
      ]
     },
     "execution_count": 73,
     "metadata": {},
     "output_type": "execute_result"
    }
   ],
   "source": [
    "output"
   ]
  },
  {
   "cell_type": "code",
   "execution_count": 74,
   "id": "cfee04c3",
   "metadata": {
    "execution": {
     "iopub.execute_input": "2024-03-06T11:32:56.730222Z",
     "iopub.status.busy": "2024-03-06T11:32:56.729521Z",
     "iopub.status.idle": "2024-03-06T11:32:56.738867Z",
     "shell.execute_reply": "2024-03-06T11:32:56.737495Z"
    },
    "papermill": {
     "duration": 0.049332,
     "end_time": "2024-03-06T11:32:56.741470",
     "exception": false,
     "start_time": "2024-03-06T11:32:56.692138",
     "status": "completed"
    },
    "tags": []
   },
   "outputs": [],
   "source": [
    "output.to_csv(\"submission.csv\", index=False)"
   ]
  },
  {
   "cell_type": "markdown",
   "id": "ac7e8041",
   "metadata": {
    "papermill": {
     "duration": 0.035552,
     "end_time": "2024-03-06T11:32:56.812894",
     "exception": false,
     "start_time": "2024-03-06T11:32:56.777342",
     "status": "completed"
    },
    "tags": []
   },
   "source": [
    "# Check if overfit"
   ]
  },
  {
   "cell_type": "code",
   "execution_count": 75,
   "id": "02e4fd84",
   "metadata": {
    "execution": {
     "iopub.execute_input": "2024-03-06T11:32:56.887262Z",
     "iopub.status.busy": "2024-03-06T11:32:56.886837Z",
     "iopub.status.idle": "2024-03-06T11:32:56.894911Z",
     "shell.execute_reply": "2024-03-06T11:32:56.893538Z"
    },
    "papermill": {
     "duration": 0.048151,
     "end_time": "2024-03-06T11:32:56.897532",
     "exception": false,
     "start_time": "2024-03-06T11:32:56.849381",
     "status": "completed"
    },
    "tags": []
   },
   "outputs": [],
   "source": [
    "pred_train = logistic_regr.predict(X_train)"
   ]
  },
  {
   "cell_type": "code",
   "execution_count": 76,
   "id": "3a63179a",
   "metadata": {
    "execution": {
     "iopub.execute_input": "2024-03-06T11:32:56.971028Z",
     "iopub.status.busy": "2024-03-06T11:32:56.970645Z",
     "iopub.status.idle": "2024-03-06T11:32:56.976309Z",
     "shell.execute_reply": "2024-03-06T11:32:56.975027Z"
    },
    "papermill": {
     "duration": 0.045423,
     "end_time": "2024-03-06T11:32:56.978779",
     "exception": false,
     "start_time": "2024-03-06T11:32:56.933356",
     "status": "completed"
    },
    "tags": []
   },
   "outputs": [],
   "source": [
    "from sklearn.metrics import accuracy_score"
   ]
  },
  {
   "cell_type": "code",
   "execution_count": 77,
   "id": "93dc7009",
   "metadata": {
    "execution": {
     "iopub.execute_input": "2024-03-06T11:32:57.053751Z",
     "iopub.status.busy": "2024-03-06T11:32:57.052875Z",
     "iopub.status.idle": "2024-03-06T11:32:57.061605Z",
     "shell.execute_reply": "2024-03-06T11:32:57.060304Z"
    },
    "papermill": {
     "duration": 0.049333,
     "end_time": "2024-03-06T11:32:57.063896",
     "exception": false,
     "start_time": "2024-03-06T11:32:57.014563",
     "status": "completed"
    },
    "tags": []
   },
   "outputs": [
    {
     "name": "stdout",
     "output_type": "stream",
     "text": [
      "Accuracy: 0.7855191256830601\n"
     ]
    }
   ],
   "source": [
    "accuracy = accuracy_score(y_train, pred_train)\n",
    "print(f\"Accuracy: {accuracy}\")"
   ]
  }
 ],
 "metadata": {
  "kaggle": {
   "accelerator": "none",
   "dataSources": [
    {
     "databundleVersionId": 26502,
     "sourceId": 3136,
     "sourceType": "competition"
    }
   ],
   "dockerImageVersionId": 30664,
   "isGpuEnabled": false,
   "isInternetEnabled": true,
   "language": "python",
   "sourceType": "notebook"
  },
  "kernelspec": {
   "display_name": "Python 3",
   "language": "python",
   "name": "python3"
  },
  "language_info": {
   "codemirror_mode": {
    "name": "ipython",
    "version": 3
   },
   "file_extension": ".py",
   "mimetype": "text/x-python",
   "name": "python",
   "nbconvert_exporter": "python",
   "pygments_lexer": "ipython3",
   "version": "3.10.13"
  },
  "papermill": {
   "default_parameters": {},
   "duration": 16.921226,
   "end_time": "2024-03-06T11:32:57.823517",
   "environment_variables": {},
   "exception": null,
   "input_path": "__notebook__.ipynb",
   "output_path": "__notebook__.ipynb",
   "parameters": {},
   "start_time": "2024-03-06T11:32:40.902291",
   "version": "2.5.0"
  }
 },
 "nbformat": 4,
 "nbformat_minor": 5
}
